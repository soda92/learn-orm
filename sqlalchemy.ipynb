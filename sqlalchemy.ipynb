{
 "cells": [
  {
   "cell_type": "markdown",
   "metadata": {},
   "source": [
    "# Sqlalcmemy 1.4/2.0 Tutorial"
   ]
  },
  {
   "cell_type": "markdown",
   "metadata": {},
   "source": [
    "## Establishing Connectity - the Engine"
   ]
  },
  {
   "cell_type": "code",
   "execution_count": 1,
   "metadata": {},
   "outputs": [],
   "source": [
    "from sqlalchemy import create_engine\n",
    "engine = create_engine(\n",
    "    \"sqlite+pysqlite:///:memory:\", \n",
    "    echo=True, future=True)"
   ]
  },
  {
   "cell_type": "markdown",
   "metadata": {},
   "source": [
    "## Working with Transactions and the DBAPI"
   ]
  },
  {
   "cell_type": "markdown",
   "metadata": {},
   "source": [
    "### Getting a Connection"
   ]
  },
  {
   "cell_type": "code",
   "execution_count": 2,
   "metadata": {},
   "outputs": [
    {
     "name": "stdout",
     "output_type": "stream",
     "text": [
      "2022-04-03 17:57:33,506 INFO sqlalchemy.engine.Engine BEGIN (implicit)\n",
      "2022-04-03 17:57:33,507 INFO sqlalchemy.engine.Engine select 'hello world'\n",
      "2022-04-03 17:57:33,508 INFO sqlalchemy.engine.Engine [generated in 0.00170s] ()\n",
      "[('hello world',)]\n",
      "2022-04-03 17:57:33,509 INFO sqlalchemy.engine.Engine ROLLBACK\n"
     ]
    }
   ],
   "source": [
    "from sqlalchemy import text\n",
    "\n",
    "with engine.connect() as conn:\n",
    "    result = conn.execute(\n",
    "        text(\"select 'hello world'\"))\n",
    "    print(result.all())"
   ]
  },
  {
   "cell_type": "markdown",
   "metadata": {},
   "source": [
    "### Committing Changes"
   ]
  },
  {
   "cell_type": "code",
   "execution_count": 3,
   "metadata": {},
   "outputs": [
    {
     "name": "stdout",
     "output_type": "stream",
     "text": [
      "2022-04-03 17:57:33,624 INFO sqlalchemy.engine.Engine BEGIN (implicit)\n",
      "2022-04-03 17:57:33,625 INFO sqlalchemy.engine.Engine CREATE TABLE some_table (x int, y int)\n",
      "2022-04-03 17:57:33,626 INFO sqlalchemy.engine.Engine [generated in 0.00141s] ()\n",
      "2022-04-03 17:57:33,627 INFO sqlalchemy.engine.Engine INSERT INTO some_table (x, y) VALUES (?, ?)\n",
      "2022-04-03 17:57:33,628 INFO sqlalchemy.engine.Engine [generated in 0.00093s] ((1, 1), (2, 4))\n",
      "2022-04-03 17:57:33,629 INFO sqlalchemy.engine.Engine COMMIT\n"
     ]
    }
   ],
   "source": [
    "with engine.connect() as conn:\n",
    "    conn.execute(\n",
    "        text(\"CREATE TABLE \"\n",
    "        \"some_table \"\n",
    "        \"(x int, y int)\"))\n",
    "    conn.execute(\n",
    "        text(\"INSERT INTO some_table \"\n",
    "        \"(x, y) VALUES (:x, :y)\"),\n",
    "        [{\"x\": 1, \"y\": 1}, \n",
    "        {\"x\": 2, \"y\": 4}]\n",
    "    )\n",
    "    conn.commit()\n"
   ]
  },
  {
   "cell_type": "markdown",
   "metadata": {},
   "source": [
    "The \"begin once\" style"
   ]
  },
  {
   "cell_type": "code",
   "execution_count": 4,
   "metadata": {},
   "outputs": [
    {
     "name": "stdout",
     "output_type": "stream",
     "text": [
      "2022-04-03 17:57:33,741 INFO sqlalchemy.engine.Engine BEGIN (implicit)\n",
      "2022-04-03 17:57:33,743 INFO sqlalchemy.engine.Engine INSERT INTO some_table (x, y) VALUES (?, ?)\n",
      "2022-04-03 17:57:33,743 INFO sqlalchemy.engine.Engine [cached since 0.1162s ago] ((6, 8), (9, 10))\n",
      "2022-04-03 17:57:33,744 INFO sqlalchemy.engine.Engine COMMIT\n"
     ]
    }
   ],
   "source": [
    "with engine.begin() as conn:\n",
    "    conn.execute(\n",
    "        text(\"INSERT INTO\"\n",
    "        \" some_table (x, y)\"\n",
    "        \" VALUES (:x, :y)\"),\n",
    "        [{\"x\": 6, \"y\": 8}, \n",
    "        {\"x\": 9, \"y\": 10}]\n",
    "    )"
   ]
  },
  {
   "cell_type": "markdown",
   "metadata": {},
   "source": [
    "### Basics of Statement Execution"
   ]
  },
  {
   "cell_type": "markdown",
   "metadata": {},
   "source": [
    "#### Fetching Rows"
   ]
  },
  {
   "cell_type": "code",
   "execution_count": 5,
   "metadata": {},
   "outputs": [
    {
     "name": "stdout",
     "output_type": "stream",
     "text": [
      "2022-04-03 17:57:33,858 INFO sqlalchemy.engine.Engine BEGIN (implicit)\n",
      "2022-04-03 17:57:33,859 INFO sqlalchemy.engine.Engine SELECT x, y FROM some_table\n",
      "2022-04-03 17:57:33,860 INFO sqlalchemy.engine.Engine [generated in 0.00155s] ()\n",
      "x: 1  y: 1\n",
      "x: 2  y: 4\n",
      "x: 6  y: 8\n",
      "x: 9  y: 10\n",
      "2022-04-03 17:57:33,861 INFO sqlalchemy.engine.Engine ROLLBACK\n"
     ]
    }
   ],
   "source": [
    "with engine.connect() as conn:\n",
    "    result = conn.execute(\n",
    "        text(\n",
    "            \"SELECT x, y \"\n",
    "            \"FROM some_table\"))\n",
    "    for row in result:\n",
    "        print(f\"x: {row.x} \"\n",
    "        f\" y: {row.y}\")"
   ]
  },
  {
   "cell_type": "markdown",
   "metadata": {},
   "source": [
    "#### Sending Parameters"
   ]
  },
  {
   "cell_type": "code",
   "execution_count": 6,
   "metadata": {},
   "outputs": [
    {
     "name": "stdout",
     "output_type": "stream",
     "text": [
      "2022-04-03 17:57:33,981 INFO sqlalchemy.engine.Engine BEGIN (implicit)\n",
      "2022-04-03 17:57:33,982 INFO sqlalchemy.engine.Engine SELECT x, y FROM some_table WHERE y > ?\n",
      "2022-04-03 17:57:33,983 INFO sqlalchemy.engine.Engine [generated in 0.00227s] (2,)\n",
      "x: 2  y: 4\n",
      "x: 6  y: 8\n",
      "x: 9  y: 10\n",
      "2022-04-03 17:57:33,985 INFO sqlalchemy.engine.Engine ROLLBACK\n"
     ]
    }
   ],
   "source": [
    "with engine.connect() as conn:\n",
    "    result = conn.execute(\n",
    "        text(\"SELECT x, y FROM some_table WHERE y > :y\"),\n",
    "        {\"y\": 2}\n",
    "    )\n",
    "    for row in result:\n",
    "       print(f\"x: {row.x}  y: {row.y}\")"
   ]
  },
  {
   "cell_type": "markdown",
   "metadata": {},
   "source": [
    "#### Sending Multiple Parameters"
   ]
  },
  {
   "cell_type": "code",
   "execution_count": 7,
   "metadata": {},
   "outputs": [
    {
     "name": "stdout",
     "output_type": "stream",
     "text": [
      "2022-04-03 17:57:34,112 INFO sqlalchemy.engine.Engine BEGIN (implicit)\n",
      "2022-04-03 17:57:34,113 INFO sqlalchemy.engine.Engine INSERT INTO some_table (x, y) VALUES (?, ?)\n",
      "2022-04-03 17:57:34,114 INFO sqlalchemy.engine.Engine [cached since 0.4872s ago] ((11, 12), (13, 14))\n",
      "2022-04-03 17:57:34,116 INFO sqlalchemy.engine.Engine COMMIT\n"
     ]
    }
   ],
   "source": [
    "with engine.connect() as conn:\n",
    "    conn.execute(\n",
    "        text(\"INSERT INTO some_table (x, y) VALUES (:x, :y)\"),\n",
    "        [{\"x\": 11, \"y\": 12}, {\"x\": 13, \"y\": 14}]\n",
    "    )\n",
    "    conn.commit()\n"
   ]
  },
  {
   "cell_type": "markdown",
   "metadata": {},
   "source": [
    "#### Bunding Parameters with a Statement"
   ]
  },
  {
   "cell_type": "code",
   "execution_count": 8,
   "metadata": {},
   "outputs": [
    {
     "name": "stdout",
     "output_type": "stream",
     "text": [
      "2022-04-03 17:57:34,222 INFO sqlalchemy.engine.Engine BEGIN (implicit)\n",
      "2022-04-03 17:57:34,223 INFO sqlalchemy.engine.Engine SELECT x, y FROM some_table WHERE y > ? ORDER BY x, y\n",
      "2022-04-03 17:57:34,224 INFO sqlalchemy.engine.Engine [generated in 0.00160s] (6,)\n",
      "x: 6  y: 8\n",
      "x: 9  y: 10\n",
      "x: 11  y: 12\n",
      "x: 13  y: 14\n",
      "2022-04-03 17:57:34,224 INFO sqlalchemy.engine.Engine ROLLBACK\n"
     ]
    }
   ],
   "source": [
    "stmt = text(\"SELECT x, y FROM some_table WHERE y > :y ORDER BY x, y\").bindparams(y=6)\n",
    "with engine.connect() as conn:\n",
    "    result = conn.execute(stmt)\n",
    "    for row in result:\n",
    "       print(f\"x: {row.x}  y: {row.y}\")"
   ]
  },
  {
   "cell_type": "markdown",
   "metadata": {},
   "source": [
    "#### Executing with an ORM Session"
   ]
  },
  {
   "cell_type": "code",
   "execution_count": 9,
   "metadata": {},
   "outputs": [
    {
     "name": "stdout",
     "output_type": "stream",
     "text": [
      "2022-04-03 17:57:34,408 INFO sqlalchemy.engine.Engine BEGIN (implicit)\n",
      "2022-04-03 17:57:34,409 INFO sqlalchemy.engine.Engine SELECT x, y FROM some_table WHERE y > ? ORDER BY x, y\n",
      "2022-04-03 17:57:34,410 INFO sqlalchemy.engine.Engine [cached since 0.1881s ago] (6,)\n",
      "x: 6  y: 8\n",
      "x: 9  y: 10\n",
      "x: 11  y: 12\n",
      "x: 13  y: 14\n",
      "2022-04-03 17:57:34,410 INFO sqlalchemy.engine.Engine ROLLBACK\n"
     ]
    }
   ],
   "source": [
    "from sqlalchemy.orm import Session\n",
    "\n",
    "stmt = text(\"SELECT x, y FROM some_table WHERE y > :y ORDER BY x, y\").bindparams(y=6)\n",
    "with Session(engine) as session:\n",
    "    result = session.execute(stmt)\n",
    "    for row in result:\n",
    "       print(f\"x: {row.x}  y: {row.y}\")"
   ]
  },
  {
   "cell_type": "markdown",
   "metadata": {},
   "source": [
    "commit as you go"
   ]
  },
  {
   "cell_type": "code",
   "execution_count": 10,
   "metadata": {},
   "outputs": [
    {
     "name": "stdout",
     "output_type": "stream",
     "text": [
      "2022-04-03 17:57:34,513 INFO sqlalchemy.engine.Engine BEGIN (implicit)\n",
      "2022-04-03 17:57:34,514 INFO sqlalchemy.engine.Engine UPDATE some_table SET y=? WHERE x=?\n",
      "2022-04-03 17:57:34,515 INFO sqlalchemy.engine.Engine [generated in 0.00065s] ((11, 9), (15, 13))\n",
      "2022-04-03 17:57:34,517 INFO sqlalchemy.engine.Engine COMMIT\n"
     ]
    }
   ],
   "source": [
    "with Session(engine) as session:\n",
    "    result = session.execute(\n",
    "        text(\"UPDATE some_table SET y=:y WHERE x=:x\"),\n",
    "        [{\"x\": 9, \"y\":11}, {\"x\": 13, \"y\": 15}]\n",
    "    )\n",
    "    session.commit()\n"
   ]
  },
  {
   "cell_type": "markdown",
   "metadata": {},
   "source": [
    "## Working with Database Metadata"
   ]
  },
  {
   "cell_type": "markdown",
   "metadata": {},
   "source": [
    "### Setting up MetaData with Table objects"
   ]
  },
  {
   "cell_type": "code",
   "execution_count": 11,
   "metadata": {},
   "outputs": [],
   "source": [
    "from sqlalchemy import MetaData\n",
    "metadata_obj = MetaData()"
   ]
  },
  {
   "cell_type": "code",
   "execution_count": 12,
   "metadata": {},
   "outputs": [],
   "source": [
    "from sqlalchemy import Table, Column, Integer, String\n",
    "user_table = Table(\n",
    "    \"user_account\",\n",
    "    metadata_obj,\n",
    "    Column('id', Integer, primary_key=True),\n",
    "    Column('name', String(30)),\n",
    "    Column('fullname', String)\n",
    ")"
   ]
  },
  {
   "cell_type": "markdown",
   "metadata": {},
   "source": [
    "Column"
   ]
  },
  {
   "cell_type": "code",
   "execution_count": 13,
   "metadata": {},
   "outputs": [
    {
     "data": {
      "text/plain": [
       "Column('name', String(length=30), table=<user_account>)"
      ]
     },
     "execution_count": 13,
     "metadata": {},
     "output_type": "execute_result"
    }
   ],
   "source": [
    "user_table.c.name"
   ]
  },
  {
   "cell_type": "code",
   "execution_count": 14,
   "metadata": {},
   "outputs": [
    {
     "data": {
      "text/plain": [
       "['id', 'name', 'fullname']"
      ]
     },
     "execution_count": 14,
     "metadata": {},
     "output_type": "execute_result"
    }
   ],
   "source": [
    "user_table.c.keys()"
   ]
  },
  {
   "cell_type": "markdown",
   "metadata": {},
   "source": [
    "### Declaring Simple Constraints"
   ]
  },
  {
   "cell_type": "code",
   "execution_count": 15,
   "metadata": {},
   "outputs": [
    {
     "data": {
      "text/plain": [
       "PrimaryKeyConstraint(Column('id', Integer(), table=<user_account>, primary_key=True, nullable=False))"
      ]
     },
     "execution_count": 15,
     "metadata": {},
     "output_type": "execute_result"
    }
   ],
   "source": [
    "user_table.primary_key"
   ]
  },
  {
   "cell_type": "code",
   "execution_count": 16,
   "metadata": {},
   "outputs": [],
   "source": [
    "from sqlalchemy import ForeignKey\n",
    "address_table = Table(\n",
    "    \"address\",\n",
    "    metadata_obj,\n",
    "    Column('id', Integer, \n",
    "    primary_key=True),\n",
    "    Column('user_id',\n",
    "     ForeignKey('user_account.id'), \n",
    "     nullable=False),\n",
    "    Column('email_address',\n",
    "     String,\n",
    "     nullable=False)\n",
    ")"
   ]
  },
  {
   "cell_type": "markdown",
   "metadata": {},
   "source": [
    "### Emitting DDL to the Database"
   ]
  },
  {
   "cell_type": "code",
   "execution_count": 17,
   "metadata": {},
   "outputs": [
    {
     "name": "stdout",
     "output_type": "stream",
     "text": [
      "2022-04-03 17:57:35,350 INFO sqlalchemy.engine.Engine BEGIN (implicit)\n",
      "2022-04-03 17:57:35,352 INFO sqlalchemy.engine.Engine PRAGMA main.table_info(\"user_account\")\n",
      "2022-04-03 17:57:35,353 INFO sqlalchemy.engine.Engine [raw sql] ()\n",
      "2022-04-03 17:57:35,355 INFO sqlalchemy.engine.Engine PRAGMA temp.table_info(\"user_account\")\n",
      "2022-04-03 17:57:35,357 INFO sqlalchemy.engine.Engine [raw sql] ()\n",
      "2022-04-03 17:57:35,359 INFO sqlalchemy.engine.Engine PRAGMA main.table_info(\"address\")\n",
      "2022-04-03 17:57:35,360 INFO sqlalchemy.engine.Engine [raw sql] ()\n",
      "2022-04-03 17:57:35,361 INFO sqlalchemy.engine.Engine PRAGMA temp.table_info(\"address\")\n",
      "2022-04-03 17:57:35,362 INFO sqlalchemy.engine.Engine [raw sql] ()\n",
      "2022-04-03 17:57:35,363 INFO sqlalchemy.engine.Engine \n",
      "CREATE TABLE user_account (\n",
      "\tid INTEGER NOT NULL, \n",
      "\tname VARCHAR(30), \n",
      "\tfullname VARCHAR, \n",
      "\tPRIMARY KEY (id)\n",
      ")\n",
      "\n",
      "\n",
      "2022-04-03 17:57:35,363 INFO sqlalchemy.engine.Engine [no key 0.00052s] ()\n",
      "2022-04-03 17:57:35,365 INFO sqlalchemy.engine.Engine \n",
      "CREATE TABLE address (\n",
      "\tid INTEGER NOT NULL, \n",
      "\tuser_id INTEGER NOT NULL, \n",
      "\temail_address VARCHAR NOT NULL, \n",
      "\tPRIMARY KEY (id), \n",
      "\tFOREIGN KEY(user_id) REFERENCES user_account (id)\n",
      ")\n",
      "\n",
      "\n",
      "2022-04-03 17:57:35,366 INFO sqlalchemy.engine.Engine [no key 0.00116s] ()\n",
      "2022-04-03 17:57:35,372 INFO sqlalchemy.engine.Engine COMMIT\n"
     ]
    }
   ],
   "source": [
    "metadata_obj.create_all(engine)"
   ]
  },
  {
   "cell_type": "markdown",
   "metadata": {},
   "source": [
    "### Defining Table Metadata with the ORM"
   ]
  },
  {
   "cell_type": "markdown",
   "metadata": {},
   "source": [
    "#### Setting up the Registry"
   ]
  },
  {
   "cell_type": "code",
   "execution_count": 18,
   "metadata": {},
   "outputs": [],
   "source": [
    "from sqlalchemy.orm import registry\n",
    "mapper_registry = registry()"
   ]
  },
  {
   "cell_type": "code",
   "execution_count": 19,
   "metadata": {},
   "outputs": [
    {
     "data": {
      "text/plain": [
       "MetaData()"
      ]
     },
     "execution_count": 19,
     "metadata": {},
     "output_type": "execute_result"
    }
   ],
   "source": [
    "mapper_registry.metadata"
   ]
  },
  {
   "cell_type": "code",
   "execution_count": 20,
   "metadata": {},
   "outputs": [],
   "source": [
    "Base = mapper_registry.\\\n",
    "    generate_base()"
   ]
  },
  {
   "cell_type": "markdown",
   "metadata": {},
   "source": [
    "#### Declaring Mapped Classes"
   ]
  },
  {
   "cell_type": "code",
   "execution_count": 21,
   "metadata": {},
   "outputs": [],
   "source": [
    "from sqlalchemy.orm import relationship\n",
    "class User(Base):\n",
    "    __tablename__ = 'user_account'\n",
    "    id = Column(Integer, \n",
    "    primary_key=True)\n",
    "    name = Column(String(30))\n",
    "    fullname = Column(String)\n",
    "    addresses = relationship(\"Address\",\n",
    "     back_populates=\"user\")\n",
    "    def __repr__(self):\n",
    "       return f\"User(id={self.id!r},\" \\\n",
    "       f\" name={self.name!r},\" \\\n",
    "       f\" fullname={self.fullname!r})\"\n",
    "\n",
    "class Address(Base):\n",
    "    __tablename__ = 'address'\n",
    "    id = Column(Integer, \n",
    "    primary_key=True)\n",
    "    email_address = Column(String,\n",
    "     nullable=False)\n",
    "    user_id = Column(Integer, \n",
    "    ForeignKey('user_account.id'))\n",
    "    user = relationship(\"User\", \n",
    "    back_populates=\"addresses\")\n",
    "    def __repr__(self):\n",
    "        return f\"Address(id={self.id!r},\"\\\n",
    "        f\" email_address=\"\\\n",
    "        f\"{self.email_address!r})\""
   ]
  },
  {
   "cell_type": "code",
   "execution_count": 22,
   "metadata": {},
   "outputs": [
    {
     "data": {
      "text/plain": [
       "Table('user_account', MetaData(), Column('id', Integer(), table=<user_account>, primary_key=True, nullable=False), Column('name', String(length=30), table=<user_account>), Column('fullname', String(), table=<user_account>), schema=None)"
      ]
     },
     "execution_count": 22,
     "metadata": {},
     "output_type": "execute_result"
    }
   ],
   "source": [
    "User.__table__"
   ]
  },
  {
   "cell_type": "markdown",
   "metadata": {},
   "source": [
    "#### Other Mapped Class Details"
   ]
  },
  {
   "cell_type": "markdown",
   "metadata": {},
   "source": [
    "the classes have an automatically generated `__init__()` method"
   ]
  },
  {
   "cell_type": "code",
   "execution_count": 23,
   "metadata": {},
   "outputs": [],
   "source": [
    "sandy = User(name='sandy',\n",
    " fullname='Sandy Cheeks')"
   ]
  },
  {
   "cell_type": "markdown",
   "metadata": {},
   "source": [
    "we provided a `__repr__()` method"
   ]
  },
  {
   "cell_type": "code",
   "execution_count": 24,
   "metadata": {},
   "outputs": [
    {
     "data": {
      "text/plain": [
       "User(id=None, name='sandy', fullname='Sandy Cheeks')"
      ]
     },
     "execution_count": 24,
     "metadata": {},
     "output_type": "execute_result"
    }
   ],
   "source": [
    "sandy"
   ]
  },
  {
   "cell_type": "markdown",
   "metadata": {},
   "source": [
    "we also included a bidirectional relationship"
   ]
  },
  {
   "cell_type": "markdown",
   "metadata": {},
   "source": [
    "#### Emitting DDL to the database"
   ]
  },
  {
   "cell_type": "code",
   "execution_count": 25,
   "metadata": {},
   "outputs": [
    {
     "name": "stdout",
     "output_type": "stream",
     "text": [
      "2022-04-03 17:57:36,481 INFO sqlalchemy.engine.Engine BEGIN (implicit)\n",
      "2022-04-03 17:57:36,483 INFO sqlalchemy.engine.Engine PRAGMA main.table_info(\"user_account\")\n",
      "2022-04-03 17:57:36,483 INFO sqlalchemy.engine.Engine [raw sql] ()\n",
      "2022-04-03 17:57:36,485 INFO sqlalchemy.engine.Engine PRAGMA main.table_info(\"address\")\n",
      "2022-04-03 17:57:36,486 INFO sqlalchemy.engine.Engine [raw sql] ()\n",
      "2022-04-03 17:57:36,487 INFO sqlalchemy.engine.Engine COMMIT\n",
      "2022-04-03 17:57:36,491 INFO sqlalchemy.engine.Engine BEGIN (implicit)\n",
      "2022-04-03 17:57:36,492 INFO sqlalchemy.engine.Engine PRAGMA main.table_info(\"user_account\")\n",
      "2022-04-03 17:57:36,493 INFO sqlalchemy.engine.Engine [raw sql] ()\n",
      "2022-04-03 17:57:36,494 INFO sqlalchemy.engine.Engine PRAGMA main.table_info(\"address\")\n",
      "2022-04-03 17:57:36,495 INFO sqlalchemy.engine.Engine [raw sql] ()\n",
      "2022-04-03 17:57:36,496 INFO sqlalchemy.engine.Engine COMMIT\n"
     ]
    }
   ],
   "source": [
    "# emit CREATE statements given ORM registry\n",
    "mapper_registry.metadata.create_all(engine)\n",
    "\n",
    "# the identical MetaData object is also present on the\n",
    "# declarative base\n",
    "Base.metadata.create_all(engine)"
   ]
  },
  {
   "cell_type": "markdown",
   "metadata": {},
   "source": [
    "#### Combining Core Table Declarations with ORM Declarative"
   ]
  },
  {
   "cell_type": "code",
   "execution_count": 26,
   "metadata": {},
   "outputs": [],
   "source": [
    "# class User(Base):\n",
    "#     __table__ = user_table\n",
    "\n",
    "#     addresses = relationship(\"Address\", back_populates=\"user\")\n",
    "\n",
    "#     def __repr__(self):\n",
    "#         return f\"User({self.name!r}, {self.fullname!r})\"\n",
    "\n",
    "# class Address(Base):\n",
    "#     __table__ = address_table\n",
    "\n",
    "#     user = relationship(\"User\", back_populates=\"addresses\")\n",
    "\n",
    "#     def __repr__(self):\n",
    "#         return f\"Address({self.email_address!r})\""
   ]
  },
  {
   "cell_type": "markdown",
   "metadata": {},
   "source": [
    "### Table Reflection"
   ]
  },
  {
   "cell_type": "code",
   "execution_count": 27,
   "metadata": {},
   "outputs": [
    {
     "name": "stdout",
     "output_type": "stream",
     "text": [
      "2022-04-03 17:57:36,693 INFO sqlalchemy.engine.Engine BEGIN (implicit)\n",
      "2022-04-03 17:57:36,694 INFO sqlalchemy.engine.Engine PRAGMA main.table_xinfo(\"some_table\")\n",
      "2022-04-03 17:57:36,695 INFO sqlalchemy.engine.Engine [raw sql] ()\n",
      "2022-04-03 17:57:36,696 INFO sqlalchemy.engine.Engine SELECT sql FROM  (SELECT * FROM sqlite_master UNION ALL   SELECT * FROM sqlite_temp_master) WHERE name = ? AND type = 'table'\n",
      "2022-04-03 17:57:36,697 INFO sqlalchemy.engine.Engine [raw sql] ('some_table',)\n",
      "2022-04-03 17:57:36,699 INFO sqlalchemy.engine.Engine PRAGMA main.foreign_key_list(\"some_table\")\n",
      "2022-04-03 17:57:36,700 INFO sqlalchemy.engine.Engine [raw sql] ()\n",
      "2022-04-03 17:57:36,701 INFO sqlalchemy.engine.Engine PRAGMA temp.foreign_key_list(\"some_table\")\n",
      "2022-04-03 17:57:36,702 INFO sqlalchemy.engine.Engine [raw sql] ()\n",
      "2022-04-03 17:57:36,703 INFO sqlalchemy.engine.Engine SELECT sql FROM  (SELECT * FROM sqlite_master UNION ALL   SELECT * FROM sqlite_temp_master) WHERE name = ? AND type = 'table'\n",
      "2022-04-03 17:57:36,703 INFO sqlalchemy.engine.Engine [raw sql] ('some_table',)\n",
      "2022-04-03 17:57:36,705 INFO sqlalchemy.engine.Engine PRAGMA main.index_list(\"some_table\")\n",
      "2022-04-03 17:57:36,706 INFO sqlalchemy.engine.Engine [raw sql] ()\n",
      "2022-04-03 17:57:36,707 INFO sqlalchemy.engine.Engine PRAGMA temp.index_list(\"some_table\")\n",
      "2022-04-03 17:57:36,708 INFO sqlalchemy.engine.Engine [raw sql] ()\n",
      "2022-04-03 17:57:36,709 INFO sqlalchemy.engine.Engine PRAGMA main.index_list(\"some_table\")\n",
      "2022-04-03 17:57:36,709 INFO sqlalchemy.engine.Engine [raw sql] ()\n",
      "2022-04-03 17:57:36,710 INFO sqlalchemy.engine.Engine PRAGMA temp.index_list(\"some_table\")\n",
      "2022-04-03 17:57:36,711 INFO sqlalchemy.engine.Engine [raw sql] ()\n",
      "2022-04-03 17:57:36,712 INFO sqlalchemy.engine.Engine SELECT sql FROM  (SELECT * FROM sqlite_master UNION ALL   SELECT * FROM sqlite_temp_master) WHERE name = ? AND type = 'table'\n",
      "2022-04-03 17:57:36,713 INFO sqlalchemy.engine.Engine [raw sql] ('some_table',)\n",
      "2022-04-03 17:57:36,714 INFO sqlalchemy.engine.Engine ROLLBACK\n"
     ]
    }
   ],
   "source": [
    "some_table = Table(\"some_table\",\n",
    " metadata_obj, autoload_with=engine)\n"
   ]
  },
  {
   "cell_type": "code",
   "execution_count": 28,
   "metadata": {},
   "outputs": [
    {
     "data": {
      "text/plain": [
       "Table('some_table', MetaData(), Column('x', INTEGER(), table=<some_table>), Column('y', INTEGER(), table=<some_table>), schema=None)"
      ]
     },
     "execution_count": 28,
     "metadata": {},
     "output_type": "execute_result"
    }
   ],
   "source": [
    "some_table"
   ]
  },
  {
   "cell_type": "markdown",
   "metadata": {},
   "source": [
    "## Working With Data"
   ]
  },
  {
   "cell_type": "markdown",
   "metadata": {},
   "source": [
    "### Inserting Rows with Core"
   ]
  },
  {
   "cell_type": "markdown",
   "metadata": {},
   "source": [
    "The insert() SQL Expression Construct"
   ]
  },
  {
   "cell_type": "code",
   "execution_count": 29,
   "metadata": {},
   "outputs": [],
   "source": [
    "from sqlalchemy import insert\n",
    "stmt = insert(user_table).\\\n",
    "    values(name='spongebob', \n",
    "    fullname=\"Spongebob Squarepants\")"
   ]
  },
  {
   "cell_type": "code",
   "execution_count": 30,
   "metadata": {},
   "outputs": [
    {
     "name": "stdout",
     "output_type": "stream",
     "text": [
      "INSERT INTO user_account (name, fullname) VALUES (:name, :fullname)\n"
     ]
    }
   ],
   "source": [
    "print(stmt)"
   ]
  },
  {
   "cell_type": "code",
   "execution_count": 31,
   "metadata": {},
   "outputs": [],
   "source": [
    "compiled = stmt.compile()"
   ]
  },
  {
   "cell_type": "code",
   "execution_count": 32,
   "metadata": {},
   "outputs": [
    {
     "data": {
      "text/plain": [
       "{'name': 'spongebob', 'fullname': 'Spongebob Squarepants'}"
      ]
     },
     "execution_count": 32,
     "metadata": {},
     "output_type": "execute_result"
    }
   ],
   "source": [
    "compiled.params"
   ]
  },
  {
   "cell_type": "markdown",
   "metadata": {},
   "source": [
    "Executing the Statement"
   ]
  },
  {
   "cell_type": "code",
   "execution_count": 33,
   "metadata": {},
   "outputs": [
    {
     "name": "stdout",
     "output_type": "stream",
     "text": [
      "2022-04-03 17:57:37,668 INFO sqlalchemy.engine.Engine BEGIN (implicit)\n",
      "2022-04-03 17:57:37,670 INFO sqlalchemy.engine.Engine INSERT INTO user_account (name, fullname) VALUES (?, ?)\n",
      "2022-04-03 17:57:37,672 INFO sqlalchemy.engine.Engine [generated in 0.00492s] ('spongebob', 'Spongebob Squarepants')\n",
      "2022-04-03 17:57:37,675 INFO sqlalchemy.engine.Engine COMMIT\n"
     ]
    }
   ],
   "source": [
    "with engine.connect() as conn:\n",
    "    result = conn.execute(stmt)\n",
    "    conn.commit()\n"
   ]
  },
  {
   "cell_type": "code",
   "execution_count": 34,
   "metadata": {},
   "outputs": [
    {
     "data": {
      "text/plain": [
       "(1,)"
      ]
     },
     "execution_count": 34,
     "metadata": {},
     "output_type": "execute_result"
    }
   ],
   "source": [
    "result.inserted_primary_key"
   ]
  },
  {
   "cell_type": "markdown",
   "metadata": {},
   "source": [
    "INSERT usually generates the \"values\" clause automatically"
   ]
  },
  {
   "cell_type": "code",
   "execution_count": 35,
   "metadata": {},
   "outputs": [
    {
     "name": "stdout",
     "output_type": "stream",
     "text": [
      "2022-04-03 17:57:37,957 INFO sqlalchemy.engine.Engine BEGIN (implicit)\n",
      "2022-04-03 17:57:37,959 INFO sqlalchemy.engine.Engine INSERT INTO user_account (name, fullname) VALUES (?, ?)\n",
      "2022-04-03 17:57:37,959 INFO sqlalchemy.engine.Engine [generated in 0.00201s] (('sandy', 'Sandy Cheeks'), ('patrick', 'Patrick Star'))\n",
      "2022-04-03 17:57:37,960 INFO sqlalchemy.engine.Engine COMMIT\n"
     ]
    }
   ],
   "source": [
    "with engine.connect() as conn:\n",
    "    result = conn.execute(\n",
    "        insert(user_table),\n",
    "        [\n",
    "            {\"name\": \"sandy\", \n",
    "            \"fullname\": \"Sandy Cheeks\"},\n",
    "            {\"name\": \"patrick\", \n",
    "            \"fullname\": \"Patrick Star\"}\n",
    "        ]\n",
    "    )\n",
    "    conn.commit()"
   ]
  },
  {
   "cell_type": "markdown",
   "metadata": {},
   "source": [
    "Deep Alchemy"
   ]
  },
  {
   "cell_type": "code",
   "execution_count": 36,
   "metadata": {},
   "outputs": [
    {
     "name": "stdout",
     "output_type": "stream",
     "text": [
      "2022-04-03 17:57:38,079 INFO sqlalchemy.engine.Engine BEGIN (implicit)\n",
      "2022-04-03 17:57:38,080 INFO sqlalchemy.engine.Engine INSERT INTO address (user_id, email_address) VALUES ((SELECT user_account.id \n",
      "FROM user_account \n",
      "WHERE user_account.name = ?), ?)\n",
      "2022-04-03 17:57:38,080 INFO sqlalchemy.engine.Engine [generated in 0.00166s] (('spongebob', 'spongebob@sqlalchemy.org'), ('sandy', 'sandy@sqlalchemy.org'), ('sandy', 'sandy@squirrelpower.org'))\n",
      "2022-04-03 17:57:38,082 INFO sqlalchemy.engine.Engine COMMIT\n"
     ]
    }
   ],
   "source": [
    "from sqlalchemy import select, bindparam\n",
    "\n",
    "scalar_subq = (\n",
    "    select(user_table.c.id)\n",
    "    .where(user_table.c.name == bindparam(\"username\"))\n",
    "    .scalar_subquery()\n",
    ")\n",
    "\n",
    "with engine.connect() as conn:\n",
    "    result = conn.execute(\n",
    "        insert(address_table).values(user_id=scalar_subq),\n",
    "        [\n",
    "            {\"username\": \"spongebob\", \"email_address\": \"spongebob@sqlalchemy.org\"},\n",
    "            {\"username\": \"sandy\", \"email_address\": \"sandy@sqlalchemy.org\"},\n",
    "            {\"username\": \"sandy\", \"email_address\": \"sandy@squirrelpower.org\"},\n",
    "        ],\n",
    "    )\n",
    "    conn.commit()\n"
   ]
  },
  {
   "cell_type": "markdown",
   "metadata": {},
   "source": [
    "INSERT...FROM SELECT"
   ]
  },
  {
   "cell_type": "code",
   "execution_count": 37,
   "metadata": {},
   "outputs": [
    {
     "name": "stdout",
     "output_type": "stream",
     "text": [
      "INSERT INTO address (user_id, email_address) SELECT user_account.id, user_account.name || :name_1 AS anon_1 \n",
      "FROM user_account\n"
     ]
    }
   ],
   "source": [
    "select_stmt = select(user_table.c.id, user_table.c.name + \"@aol.com\")\n",
    "insert_stmt = insert(address_table).from_select(\n",
    "    [\"user_id\", \"email_address\"], select_stmt\n",
    ")\n",
    "print(insert_stmt)\n"
   ]
  },
  {
   "cell_type": "markdown",
   "metadata": {},
   "source": [
    "INSERT...RETURNING"
   ]
  },
  {
   "cell_type": "code",
   "execution_count": 38,
   "metadata": {},
   "outputs": [
    {
     "name": "stdout",
     "output_type": "stream",
     "text": [
      "INSERT INTO address (id, user_id, email_address) VALUES (:id, :user_id, :email_address) RETURNING address.id, address.email_address\n"
     ]
    }
   ],
   "source": [
    "insert_stmt = insert(address_table).returning(address_table.c.id, address_table.c.email_address)\n",
    "print(insert_stmt)\n"
   ]
  },
  {
   "cell_type": "code",
   "execution_count": 39,
   "metadata": {},
   "outputs": [
    {
     "name": "stdout",
     "output_type": "stream",
     "text": [
      "INSERT INTO address (user_id, email_address) SELECT user_account.id, user_account.name || :name_1 AS anon_1 \n",
      "FROM user_account RETURNING address.id, address.email_address\n"
     ]
    }
   ],
   "source": [
    "select_stmt = select(user_table.c.id, user_table.c.name + \"@aol.com\")\n",
    "insert_stmt = insert(address_table).from_select(\n",
    "    [\"user_id\", \"email_address\"], select_stmt\n",
    ")\n",
    "print(insert_stmt.returning(address_table.c.id, address_table.c.email_address))\n"
   ]
  },
  {
   "cell_type": "markdown",
   "metadata": {},
   "source": [
    "## Selecting Rows with Core or ORM"
   ]
  },
  {
   "cell_type": "markdown",
   "metadata": {},
   "source": [
    "### The select() SQL Expression Construct"
   ]
  },
  {
   "cell_type": "code",
   "execution_count": 40,
   "metadata": {},
   "outputs": [
    {
     "name": "stdout",
     "output_type": "stream",
     "text": [
      "SELECT user_account.id, user_account.name, user_account.fullname \n",
      "FROM user_account \n",
      "WHERE user_account.name = :name_1\n"
     ]
    }
   ],
   "source": [
    "from sqlalchemy import select\n",
    "stmt = select(user_table).where(user_table.c.name == 'spongebob')\n",
    "print(stmt)"
   ]
  },
  {
   "cell_type": "code",
   "execution_count": 41,
   "metadata": {},
   "outputs": [
    {
     "name": "stdout",
     "output_type": "stream",
     "text": [
      "2022-04-03 17:57:38,795 INFO sqlalchemy.engine.Engine BEGIN (implicit)\n",
      "2022-04-03 17:57:38,796 INFO sqlalchemy.engine.Engine SELECT user_account.id, user_account.name, user_account.fullname \n",
      "FROM user_account \n",
      "WHERE user_account.name = ?\n",
      "2022-04-03 17:57:38,796 INFO sqlalchemy.engine.Engine [generated in 0.00139s] ('spongebob',)\n",
      "(1, 'spongebob', 'Spongebob Squarepants')\n",
      "2022-04-03 17:57:38,798 INFO sqlalchemy.engine.Engine ROLLBACK\n"
     ]
    }
   ],
   "source": [
    "with engine.connect() as conn:\n",
    "    for row in conn.execute(stmt):\n",
    "        print(row)"
   ]
  },
  {
   "cell_type": "code",
   "execution_count": 42,
   "metadata": {},
   "outputs": [],
   "source": [
    "# class User(Base):\n",
    "#     __table__ = user_table\n",
    "\n",
    "#     addresses = relationship(\"Address\", back_populates=\"user\")\n",
    "\n",
    "#     def __repr__(self):\n",
    "#         return f\"User({self.name!r}, {self.fullname!r})\"\n",
    "\n",
    "# class Address(Base):\n",
    "#     __table__ = address_table\n",
    "\n",
    "#     user = relationship(\"User\", back_populates=\"addresses\")\n",
    "\n",
    "#     def __repr__(self):\n",
    "#         return f\"Address({self.email_address!r})\""
   ]
  },
  {
   "cell_type": "code",
   "execution_count": 44,
   "metadata": {},
   "outputs": [
    {
     "name": "stdout",
     "output_type": "stream",
     "text": [
      "2022-04-03 18:47:29,725 INFO sqlalchemy.engine.Engine BEGIN (implicit)\n",
      "2022-04-03 18:47:29,726 INFO sqlalchemy.engine.Engine SELECT user_account.id, user_account.name, user_account.fullname \n",
      "FROM user_account \n",
      "WHERE user_account.name = ?\n",
      "2022-04-03 18:47:29,726 INFO sqlalchemy.engine.Engine [cached since 2988s ago] ('spongebob',)\n",
      "(User(id=1, name='spongebob', fullname='Spongebob Squarepants'),)\n",
      "2022-04-03 18:47:29,728 INFO sqlalchemy.engine.Engine ROLLBACK\n"
     ]
    }
   ],
   "source": [
    "stmt = select(User).where(User.name == 'spongebob')\n",
    "with Session(engine) as session:\n",
    "    for row in session.execute(stmt):\n",
    "        print(row)"
   ]
  }
 ],
 "metadata": {
  "interpreter": {
   "hash": "4938d481351b2a84d419e5f1a1d6b819b6a63d8a31c9c52db810fb61e1d79b39"
  },
  "kernelspec": {
   "display_name": "Python 3.10.4 64-bit",
   "language": "python",
   "name": "python3"
  },
  "language_info": {
   "codemirror_mode": {
    "name": "ipython",
    "version": 3
   },
   "file_extension": ".py",
   "mimetype": "text/x-python",
   "name": "python",
   "nbconvert_exporter": "python",
   "pygments_lexer": "ipython3",
   "version": "3.10.4"
  },
  "orig_nbformat": 4
 },
 "nbformat": 4,
 "nbformat_minor": 2
}
