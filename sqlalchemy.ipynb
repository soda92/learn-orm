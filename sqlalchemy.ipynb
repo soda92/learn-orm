{
 "cells": [
  {
   "cell_type": "markdown",
   "metadata": {},
   "source": [
    "# Sqlalcmemy 1.4/2.0 Tutorial"
   ]
  },
  {
   "cell_type": "markdown",
   "metadata": {},
   "source": [
    "## Establishing Connectity - the Engine"
   ]
  },
  {
   "cell_type": "code",
   "execution_count": 1,
   "metadata": {},
   "outputs": [],
   "source": [
    "from sqlalchemy import create_engine\n",
    "engine = create_engine(\n",
    "    \"sqlite+pysqlite:///:memory:\", \n",
    "    echo=True, future=True)"
   ]
  },
  {
   "cell_type": "markdown",
   "metadata": {},
   "source": [
    "## Working with Transactions and the DBAPI"
   ]
  },
  {
   "cell_type": "markdown",
   "metadata": {},
   "source": [
    "### Getting a Connection"
   ]
  },
  {
   "cell_type": "code",
   "execution_count": 2,
   "metadata": {},
   "outputs": [
    {
     "name": "stdout",
     "output_type": "stream",
     "text": [
      "2022-04-01 06:57:39,864 INFO sqlalchemy.engine.Engine BEGIN (implicit)\n",
      "2022-04-01 06:57:39,866 INFO sqlalchemy.engine.Engine select 'hello world'\n",
      "2022-04-01 06:57:39,867 INFO sqlalchemy.engine.Engine [generated in 0.00314s] ()\n",
      "[('hello world',)]\n",
      "2022-04-01 06:57:39,871 INFO sqlalchemy.engine.Engine ROLLBACK\n"
     ]
    }
   ],
   "source": [
    "from sqlalchemy import text\n",
    "\n",
    "with engine.connect() as conn:\n",
    "    result = conn.execute(\n",
    "        text(\"select 'hello world'\"))\n",
    "    print(result.all())"
   ]
  },
  {
   "cell_type": "markdown",
   "metadata": {},
   "source": [
    "### Committing Changes"
   ]
  },
  {
   "cell_type": "code",
   "execution_count": 3,
   "metadata": {},
   "outputs": [
    {
     "name": "stdout",
     "output_type": "stream",
     "text": [
      "2022-04-01 06:58:53,098 INFO sqlalchemy.engine.Engine BEGIN (implicit)\n",
      "2022-04-01 06:58:53,099 INFO sqlalchemy.engine.Engine CREATE TABLE some_table (x int, y int)\n",
      "2022-04-01 06:58:53,101 INFO sqlalchemy.engine.Engine [generated in 0.00309s] ()\n",
      "2022-04-01 06:58:53,103 INFO sqlalchemy.engine.Engine INSERT INTO some_table (x, y) VALUES (?, ?)\n",
      "2022-04-01 06:58:53,104 INFO sqlalchemy.engine.Engine [generated in 0.00081s] ((1, 1), (2, 4))\n",
      "2022-04-01 06:58:53,107 INFO sqlalchemy.engine.Engine COMMIT\n"
     ]
    }
   ],
   "source": [
    "with engine.connect() as conn:\n",
    "    conn.execute(\n",
    "        text(\"CREATE TABLE \"\n",
    "        \"some_table \"\n",
    "        \"(x int, y int)\"))\n",
    "    conn.execute(\n",
    "        text(\"INSERT INTO some_table \"\n",
    "        \"(x, y) VALUES (:x, :y)\"),\n",
    "        [{\"x\": 1, \"y\": 1}, \n",
    "        {\"x\": 2, \"y\": 4}]\n",
    "    )\n",
    "    conn.commit()\n"
   ]
  },
  {
   "cell_type": "markdown",
   "metadata": {},
   "source": [
    "The \"begin once\" style"
   ]
  },
  {
   "cell_type": "code",
   "execution_count": 4,
   "metadata": {},
   "outputs": [
    {
     "name": "stdout",
     "output_type": "stream",
     "text": [
      "2022-04-01 07:00:38,595 INFO sqlalchemy.engine.Engine BEGIN (implicit)\n",
      "2022-04-01 07:00:38,596 INFO sqlalchemy.engine.Engine INSERT INTO some_table (x, y) VALUES (?, ?)\n",
      "2022-04-01 07:00:38,598 INFO sqlalchemy.engine.Engine [cached since 105.5s ago] ((6, 8), (9, 10))\n",
      "2022-04-01 07:00:38,602 INFO sqlalchemy.engine.Engine COMMIT\n"
     ]
    }
   ],
   "source": [
    "with engine.begin() as conn:\n",
    "    conn.execute(\n",
    "        text(\"INSERT INTO\"\n",
    "        \" some_table (x, y)\"\n",
    "        \" VALUES (:x, :y)\"),\n",
    "        [{\"x\": 6, \"y\": 8}, \n",
    "        {\"x\": 9, \"y\": 10}]\n",
    "    )"
   ]
  },
  {
   "cell_type": "markdown",
   "metadata": {},
   "source": [
    "### Basics of Statement Execution"
   ]
  },
  {
   "cell_type": "markdown",
   "metadata": {},
   "source": [
    "#### Fetching Rows"
   ]
  },
  {
   "cell_type": "code",
   "execution_count": 5,
   "metadata": {},
   "outputs": [
    {
     "name": "stdout",
     "output_type": "stream",
     "text": [
      "2022-04-01 07:02:28,173 INFO sqlalchemy.engine.Engine BEGIN (implicit)\n",
      "2022-04-01 07:02:28,174 INFO sqlalchemy.engine.Engine SELECT x, y FROM some_table\n",
      "2022-04-01 07:02:28,175 INFO sqlalchemy.engine.Engine [generated in 0.00181s] ()\n",
      "x: 1  y: 1\n",
      "x: 2  y: 4\n",
      "x: 6  y: 8\n",
      "x: 9  y: 10\n",
      "2022-04-01 07:02:28,176 INFO sqlalchemy.engine.Engine ROLLBACK\n"
     ]
    }
   ],
   "source": [
    "with engine.connect() as conn:\n",
    "    result = conn.execute(\n",
    "        text(\n",
    "            \"SELECT x, y \"\n",
    "            \"FROM some_table\"))\n",
    "    for row in result:\n",
    "        print(f\"x: {row.x} \"\n",
    "        f\" y: {row.y}\")"
   ]
  },
  {
   "cell_type": "markdown",
   "metadata": {},
   "source": [
    "#### Sending Parameters"
   ]
  },
  {
   "cell_type": "code",
   "execution_count": 6,
   "metadata": {},
   "outputs": [
    {
     "name": "stdout",
     "output_type": "stream",
     "text": [
      "2022-04-01 07:03:27,509 INFO sqlalchemy.engine.Engine BEGIN (implicit)\n",
      "2022-04-01 07:03:27,511 INFO sqlalchemy.engine.Engine SELECT x, y FROM some_table WHERE y > ?\n",
      "2022-04-01 07:03:27,512 INFO sqlalchemy.engine.Engine [generated in 0.00235s] (2,)\n",
      "x: 2  y: 4\n",
      "x: 6  y: 8\n",
      "x: 9  y: 10\n",
      "2022-04-01 07:03:27,514 INFO sqlalchemy.engine.Engine ROLLBACK\n"
     ]
    }
   ],
   "source": [
    "with engine.connect() as conn:\n",
    "    result = conn.execute(\n",
    "        text(\"SELECT x, y FROM some_table WHERE y > :y\"),\n",
    "        {\"y\": 2}\n",
    "    )\n",
    "    for row in result:\n",
    "       print(f\"x: {row.x}  y: {row.y}\")"
   ]
  },
  {
   "cell_type": "markdown",
   "metadata": {},
   "source": [
    "#### Sending Multiple Parameters"
   ]
  },
  {
   "cell_type": "code",
   "execution_count": 7,
   "metadata": {},
   "outputs": [
    {
     "name": "stdout",
     "output_type": "stream",
     "text": [
      "2022-04-01 07:09:37,166 INFO sqlalchemy.engine.Engine BEGIN (implicit)\n",
      "2022-04-01 07:09:37,168 INFO sqlalchemy.engine.Engine INSERT INTO some_table (x, y) VALUES (?, ?)\n",
      "2022-04-01 07:09:37,170 INFO sqlalchemy.engine.Engine [cached since 644.1s ago] ((11, 12), (13, 14))\n",
      "2022-04-01 07:09:37,172 INFO sqlalchemy.engine.Engine COMMIT\n"
     ]
    }
   ],
   "source": [
    "with engine.connect() as conn:\n",
    "    conn.execute(\n",
    "        text(\"INSERT INTO some_table (x, y) VALUES (:x, :y)\"),\n",
    "        [{\"x\": 11, \"y\": 12}, {\"x\": 13, \"y\": 14}]\n",
    "    )\n",
    "    conn.commit()\n"
   ]
  },
  {
   "cell_type": "markdown",
   "metadata": {},
   "source": [
    "#### Bunding Parameters with a Statement"
   ]
  },
  {
   "cell_type": "code",
   "execution_count": 8,
   "metadata": {},
   "outputs": [
    {
     "name": "stdout",
     "output_type": "stream",
     "text": [
      "2022-04-01 07:10:32,127 INFO sqlalchemy.engine.Engine BEGIN (implicit)\n",
      "2022-04-01 07:10:32,128 INFO sqlalchemy.engine.Engine SELECT x, y FROM some_table WHERE y > ? ORDER BY x, y\n",
      "2022-04-01 07:10:32,129 INFO sqlalchemy.engine.Engine [generated in 0.00255s] (6,)\n",
      "x: 6  y: 8\n",
      "x: 9  y: 10\n",
      "x: 11  y: 12\n",
      "x: 13  y: 14\n",
      "2022-04-01 07:10:32,142 INFO sqlalchemy.engine.Engine ROLLBACK\n"
     ]
    }
   ],
   "source": [
    "stmt = text(\"SELECT x, y FROM some_table WHERE y > :y ORDER BY x, y\").bindparams(y=6)\n",
    "with engine.connect() as conn:\n",
    "    result = conn.execute(stmt)\n",
    "    for row in result:\n",
    "       print(f\"x: {row.x}  y: {row.y}\")"
   ]
  },
  {
   "cell_type": "markdown",
   "metadata": {},
   "source": [
    "#### Executing with an ORM Session"
   ]
  },
  {
   "cell_type": "code",
   "execution_count": 9,
   "metadata": {},
   "outputs": [
    {
     "name": "stdout",
     "output_type": "stream",
     "text": [
      "2022-04-01 07:11:08,508 INFO sqlalchemy.engine.Engine BEGIN (implicit)\n",
      "2022-04-01 07:11:08,509 INFO sqlalchemy.engine.Engine SELECT x, y FROM some_table WHERE y > ? ORDER BY x, y\n",
      "2022-04-01 07:11:08,511 INFO sqlalchemy.engine.Engine [cached since 36.38s ago] (6,)\n",
      "x: 6  y: 8\n",
      "x: 9  y: 10\n",
      "x: 11  y: 12\n",
      "x: 13  y: 14\n",
      "2022-04-01 07:11:08,512 INFO sqlalchemy.engine.Engine ROLLBACK\n"
     ]
    }
   ],
   "source": [
    "from sqlalchemy.orm import Session\n",
    "\n",
    "stmt = text(\"SELECT x, y FROM some_table WHERE y > :y ORDER BY x, y\").bindparams(y=6)\n",
    "with Session(engine) as session:\n",
    "    result = session.execute(stmt)\n",
    "    for row in result:\n",
    "       print(f\"x: {row.x}  y: {row.y}\")"
   ]
  },
  {
   "cell_type": "markdown",
   "metadata": {},
   "source": [
    "commit as you go"
   ]
  },
  {
   "cell_type": "code",
   "execution_count": 10,
   "metadata": {},
   "outputs": [
    {
     "name": "stdout",
     "output_type": "stream",
     "text": [
      "2022-04-01 07:11:42,195 INFO sqlalchemy.engine.Engine BEGIN (implicit)\n",
      "2022-04-01 07:11:42,197 INFO sqlalchemy.engine.Engine UPDATE some_table SET y=? WHERE x=?\n",
      "2022-04-01 07:11:42,198 INFO sqlalchemy.engine.Engine [generated in 0.00129s] ((11, 9), (15, 13))\n",
      "2022-04-01 07:11:42,200 INFO sqlalchemy.engine.Engine COMMIT\n"
     ]
    }
   ],
   "source": [
    "with Session(engine) as session:\n",
    "    result = session.execute(\n",
    "        text(\"UPDATE some_table SET y=:y WHERE x=:x\"),\n",
    "        [{\"x\": 9, \"y\":11}, {\"x\": 13, \"y\": 15}]\n",
    "    )\n",
    "    session.commit()\n"
   ]
  },
  {
   "cell_type": "markdown",
   "metadata": {},
   "source": [
    "## Working with Database Metadata"
   ]
  },
  {
   "cell_type": "markdown",
   "metadata": {},
   "source": [
    "### Setting up MetaData with Table objects"
   ]
  },
  {
   "cell_type": "code",
   "execution_count": 11,
   "metadata": {},
   "outputs": [],
   "source": [
    "from sqlalchemy import MetaData\n",
    "metadata_obj = MetaData()"
   ]
  },
  {
   "cell_type": "code",
   "execution_count": 12,
   "metadata": {},
   "outputs": [],
   "source": [
    "from sqlalchemy import Table, Column, Integer, String\n",
    "user_table = Table(\n",
    "    \"user_account\",\n",
    "    metadata_obj,\n",
    "    Column('id', Integer, primary_key=True),\n",
    "    Column('name', String(30)),\n",
    "    Column('fullname', String)\n",
    ")"
   ]
  },
  {
   "cell_type": "markdown",
   "metadata": {},
   "source": [
    "Column"
   ]
  },
  {
   "cell_type": "code",
   "execution_count": 13,
   "metadata": {},
   "outputs": [
    {
     "data": {
      "text/plain": [
       "Column('name', String(length=30), table=<user_account>)"
      ]
     },
     "execution_count": 13,
     "metadata": {},
     "output_type": "execute_result"
    }
   ],
   "source": [
    "user_table.c.name"
   ]
  },
  {
   "cell_type": "code",
   "execution_count": 14,
   "metadata": {},
   "outputs": [
    {
     "data": {
      "text/plain": [
       "['id', 'name', 'fullname']"
      ]
     },
     "execution_count": 14,
     "metadata": {},
     "output_type": "execute_result"
    }
   ],
   "source": [
    "user_table.c.keys()"
   ]
  },
  {
   "cell_type": "markdown",
   "metadata": {},
   "source": [
    "### Declaring Simple Constraints"
   ]
  },
  {
   "cell_type": "code",
   "execution_count": 15,
   "metadata": {},
   "outputs": [
    {
     "data": {
      "text/plain": [
       "PrimaryKeyConstraint(Column('id', Integer(), table=<user_account>, primary_key=True, nullable=False))"
      ]
     },
     "execution_count": 15,
     "metadata": {},
     "output_type": "execute_result"
    }
   ],
   "source": [
    "user_table.primary_key"
   ]
  },
  {
   "cell_type": "code",
   "execution_count": 17,
   "metadata": {},
   "outputs": [],
   "source": [
    "from sqlalchemy import ForeignKey\n",
    "address_table = Table(\n",
    "    \"address\",\n",
    "    metadata_obj,\n",
    "    Column('id', Integer, \n",
    "    primary_key=True),\n",
    "    Column('user_id',\n",
    "     ForeignKey('user_account.id'), \n",
    "     nullable=False),\n",
    "    Column('email_address',\n",
    "     String,\n",
    "     nullable=False)\n",
    ")"
   ]
  },
  {
   "cell_type": "markdown",
   "metadata": {},
   "source": [
    "### Emitting DDL to the Database"
   ]
  },
  {
   "cell_type": "code",
   "execution_count": 19,
   "metadata": {},
   "outputs": [
    {
     "name": "stdout",
     "output_type": "stream",
     "text": [
      "2022-04-01 08:12:10,898 INFO sqlalchemy.engine.Engine BEGIN (implicit)\n",
      "2022-04-01 08:12:10,898 INFO sqlalchemy.engine.Engine PRAGMA main.table_info(\"user_account\")\n",
      "2022-04-01 08:12:10,900 INFO sqlalchemy.engine.Engine [raw sql] ()\n",
      "2022-04-01 08:12:10,902 INFO sqlalchemy.engine.Engine PRAGMA main.table_info(\"address\")\n",
      "2022-04-01 08:12:10,903 INFO sqlalchemy.engine.Engine [raw sql] ()\n",
      "2022-04-01 08:12:10,906 INFO sqlalchemy.engine.Engine COMMIT\n"
     ]
    }
   ],
   "source": [
    "metadata_obj.create_all(engine)"
   ]
  },
  {
   "cell_type": "markdown",
   "metadata": {},
   "source": [
    "### Defining Table Metadata with the ORM"
   ]
  },
  {
   "cell_type": "markdown",
   "metadata": {},
   "source": [
    "#### Setting up the Registry"
   ]
  },
  {
   "cell_type": "code",
   "execution_count": 20,
   "metadata": {},
   "outputs": [],
   "source": [
    "from sqlalchemy.orm import registry\n",
    "mapper_registry = registry()"
   ]
  },
  {
   "cell_type": "code",
   "execution_count": 21,
   "metadata": {},
   "outputs": [
    {
     "data": {
      "text/plain": [
       "MetaData()"
      ]
     },
     "execution_count": 21,
     "metadata": {},
     "output_type": "execute_result"
    }
   ],
   "source": [
    "mapper_registry.metadata"
   ]
  },
  {
   "cell_type": "code",
   "execution_count": 22,
   "metadata": {},
   "outputs": [],
   "source": [
    "Base = mapper_registry.\\\n",
    "    generate_base()"
   ]
  },
  {
   "cell_type": "markdown",
   "metadata": {},
   "source": [
    "#### Declaring Mapped Classes"
   ]
  },
  {
   "cell_type": "code",
   "execution_count": 23,
   "metadata": {},
   "outputs": [],
   "source": [
    "from sqlalchemy.orm import relationship\n",
    "class User(Base):\n",
    "    __tablename__ = 'user_account'\n",
    "    id = Column(Integer, \n",
    "    primary_key=True)\n",
    "    name = Column(String(30))\n",
    "    fullname = Column(String)\n",
    "    addresses = relationship(\"Address\",\n",
    "     back_populates=\"user\")\n",
    "    def __repr__(self):\n",
    "       return f\"User(id={self.id!r},\" \\\n",
    "       f\" name={self.name!r},\" \\\n",
    "       f\" fullname={self.fullname!r})\"\n",
    "\n",
    "class Address(Base):\n",
    "    __tablename__ = 'address'\n",
    "    id = Column(Integer, \n",
    "    primary_key=True)\n",
    "    email_address = Column(String,\n",
    "     nullable=False)\n",
    "    user_id = Column(Integer, \n",
    "    ForeignKey('user_account.id'))\n",
    "    user = relationship(\"User\", \n",
    "    back_populates=\"addresses\")\n",
    "    def __repr__(self):\n",
    "        return f\"Address(id={self.id!r},\"\\\n",
    "        f\" email_address=\"\\\n",
    "        f\"{self.email_address!r})\""
   ]
  },
  {
   "cell_type": "code",
   "execution_count": 24,
   "metadata": {},
   "outputs": [
    {
     "data": {
      "text/plain": [
       "Table('user_account', MetaData(), Column('id', Integer(), table=<user_account>, primary_key=True, nullable=False), Column('name', String(length=30), table=<user_account>), Column('fullname', String(), table=<user_account>), schema=None)"
      ]
     },
     "execution_count": 24,
     "metadata": {},
     "output_type": "execute_result"
    }
   ],
   "source": [
    "User.__table__"
   ]
  },
  {
   "cell_type": "markdown",
   "metadata": {},
   "source": [
    "#### Other Mapped Class Details"
   ]
  },
  {
   "cell_type": "markdown",
   "metadata": {},
   "source": [
    "the classes have an automatically generated `__init__()` method"
   ]
  },
  {
   "cell_type": "code",
   "execution_count": 26,
   "metadata": {},
   "outputs": [],
   "source": [
    "sandy = User(name='sandy',\n",
    " fullname='Sandy Cheeks')"
   ]
  },
  {
   "cell_type": "markdown",
   "metadata": {},
   "source": [
    "we provided a `__repr__()` method"
   ]
  },
  {
   "cell_type": "code",
   "execution_count": 27,
   "metadata": {},
   "outputs": [
    {
     "data": {
      "text/plain": [
       "User(id=None, name='sandy', fullname='Sandy Cheeks')"
      ]
     },
     "execution_count": 27,
     "metadata": {},
     "output_type": "execute_result"
    }
   ],
   "source": [
    "sandy"
   ]
  },
  {
   "cell_type": "markdown",
   "metadata": {},
   "source": [
    "we also included a bidirectional relationship"
   ]
  },
  {
   "cell_type": "markdown",
   "metadata": {},
   "source": [
    "#### Emitting DDL to the database"
   ]
  },
  {
   "cell_type": "code",
   "execution_count": 28,
   "metadata": {},
   "outputs": [
    {
     "name": "stdout",
     "output_type": "stream",
     "text": [
      "2022-04-01 10:37:25,834 INFO sqlalchemy.engine.Engine BEGIN (implicit)\n",
      "2022-04-01 10:37:25,838 INFO sqlalchemy.engine.Engine PRAGMA main.table_info(\"user_account\")\n",
      "2022-04-01 10:37:25,839 INFO sqlalchemy.engine.Engine [raw sql] ()\n",
      "2022-04-01 10:37:25,841 INFO sqlalchemy.engine.Engine PRAGMA main.table_info(\"address\")\n",
      "2022-04-01 10:37:25,842 INFO sqlalchemy.engine.Engine [raw sql] ()\n",
      "2022-04-01 10:37:25,844 INFO sqlalchemy.engine.Engine COMMIT\n",
      "2022-04-01 10:37:25,845 INFO sqlalchemy.engine.Engine BEGIN (implicit)\n",
      "2022-04-01 10:37:25,846 INFO sqlalchemy.engine.Engine PRAGMA main.table_info(\"user_account\")\n",
      "2022-04-01 10:37:25,847 INFO sqlalchemy.engine.Engine [raw sql] ()\n",
      "2022-04-01 10:37:25,848 INFO sqlalchemy.engine.Engine PRAGMA main.table_info(\"address\")\n",
      "2022-04-01 10:37:25,849 INFO sqlalchemy.engine.Engine [raw sql] ()\n",
      "2022-04-01 10:37:25,850 INFO sqlalchemy.engine.Engine COMMIT\n"
     ]
    }
   ],
   "source": [
    "# emit CREATE statements given ORM registry\n",
    "mapper_registry.metadata.create_all(engine)\n",
    "\n",
    "# the identical MetaData object is also present on the\n",
    "# declarative base\n",
    "Base.metadata.create_all(engine)"
   ]
  },
  {
   "cell_type": "markdown",
   "metadata": {},
   "source": [
    "#### Combining Core Table Declarations with ORM Declarative"
   ]
  },
  {
   "cell_type": "code",
   "execution_count": 29,
   "metadata": {},
   "outputs": [
    {
     "name": "stderr",
     "output_type": "stream",
     "text": [
      "C:\\Users\\18463\\AppData\\Local\\Temp\\ipykernel_23008\\330721587.py:1: SAWarning: This declarative base already contains a class with the same class name and module name as __main__.User, and will be replaced in the string-lookup table.\n",
      "  class User(Base):\n",
      "C:\\Users\\18463\\AppData\\Local\\Temp\\ipykernel_23008\\330721587.py:9: SAWarning: This declarative base already contains a class with the same class name and module name as __main__.Address, and will be replaced in the string-lookup table.\n",
      "  class Address(Base):\n"
     ]
    }
   ],
   "source": [
    "class User(Base):\n",
    "    __table__ = user_table\n",
    "\n",
    "    addresses = relationship(\"Address\", back_populates=\"user\")\n",
    "\n",
    "    def __repr__(self):\n",
    "        return f\"User({self.name!r}, {self.fullname!r})\"\n",
    "\n",
    "class Address(Base):\n",
    "    __table__ = address_table\n",
    "\n",
    "    user = relationship(\"User\", back_populates=\"addresses\")\n",
    "\n",
    "    def __repr__(self):\n",
    "        return f\"Address({self.email_address!r})\""
   ]
  },
  {
   "cell_type": "markdown",
   "metadata": {},
   "source": [
    "### Table Reflection"
   ]
  },
  {
   "cell_type": "code",
   "execution_count": 30,
   "metadata": {},
   "outputs": [
    {
     "name": "stdout",
     "output_type": "stream",
     "text": [
      "2022-04-01 11:27:59,451 INFO sqlalchemy.engine.Engine BEGIN (implicit)\n",
      "2022-04-01 11:27:59,453 INFO sqlalchemy.engine.Engine PRAGMA main.table_xinfo(\"some_table\")\n",
      "2022-04-01 11:27:59,454 INFO sqlalchemy.engine.Engine [raw sql] ()\n",
      "2022-04-01 11:27:59,456 INFO sqlalchemy.engine.Engine SELECT sql FROM  (SELECT * FROM sqlite_master UNION ALL   SELECT * FROM sqlite_temp_master) WHERE name = ? AND type = 'table'\n",
      "2022-04-01 11:27:59,456 INFO sqlalchemy.engine.Engine [raw sql] ('some_table',)\n",
      "2022-04-01 11:27:59,470 INFO sqlalchemy.engine.Engine PRAGMA main.foreign_key_list(\"some_table\")\n",
      "2022-04-01 11:27:59,472 INFO sqlalchemy.engine.Engine [raw sql] ()\n",
      "2022-04-01 11:27:59,475 INFO sqlalchemy.engine.Engine PRAGMA temp.foreign_key_list(\"some_table\")\n",
      "2022-04-01 11:27:59,475 INFO sqlalchemy.engine.Engine [raw sql] ()\n",
      "2022-04-01 11:27:59,477 INFO sqlalchemy.engine.Engine SELECT sql FROM  (SELECT * FROM sqlite_master UNION ALL   SELECT * FROM sqlite_temp_master) WHERE name = ? AND type = 'table'\n",
      "2022-04-01 11:27:59,477 INFO sqlalchemy.engine.Engine [raw sql] ('some_table',)\n",
      "2022-04-01 11:27:59,479 INFO sqlalchemy.engine.Engine PRAGMA main.index_list(\"some_table\")\n",
      "2022-04-01 11:27:59,480 INFO sqlalchemy.engine.Engine [raw sql] ()\n",
      "2022-04-01 11:27:59,481 INFO sqlalchemy.engine.Engine PRAGMA temp.index_list(\"some_table\")\n",
      "2022-04-01 11:27:59,482 INFO sqlalchemy.engine.Engine [raw sql] ()\n",
      "2022-04-01 11:27:59,483 INFO sqlalchemy.engine.Engine PRAGMA main.index_list(\"some_table\")\n",
      "2022-04-01 11:27:59,483 INFO sqlalchemy.engine.Engine [raw sql] ()\n",
      "2022-04-01 11:27:59,484 INFO sqlalchemy.engine.Engine PRAGMA temp.index_list(\"some_table\")\n",
      "2022-04-01 11:27:59,485 INFO sqlalchemy.engine.Engine [raw sql] ()\n",
      "2022-04-01 11:27:59,485 INFO sqlalchemy.engine.Engine SELECT sql FROM  (SELECT * FROM sqlite_master UNION ALL   SELECT * FROM sqlite_temp_master) WHERE name = ? AND type = 'table'\n",
      "2022-04-01 11:27:59,486 INFO sqlalchemy.engine.Engine [raw sql] ('some_table',)\n",
      "2022-04-01 11:27:59,490 INFO sqlalchemy.engine.Engine ROLLBACK\n"
     ]
    }
   ],
   "source": [
    "some_table = Table(\"some_table\",\n",
    " metadata_obj, autoload_with=engine)\n"
   ]
  },
  {
   "cell_type": "code",
   "execution_count": 31,
   "metadata": {},
   "outputs": [
    {
     "data": {
      "text/plain": [
       "Table('some_table', MetaData(), Column('x', INTEGER(), table=<some_table>), Column('y', INTEGER(), table=<some_table>), schema=None)"
      ]
     },
     "execution_count": 31,
     "metadata": {},
     "output_type": "execute_result"
    }
   ],
   "source": [
    "some_table"
   ]
  }
 ],
 "metadata": {
  "interpreter": {
   "hash": "4938d481351b2a84d419e5f1a1d6b819b6a63d8a31c9c52db810fb61e1d79b39"
  },
  "kernelspec": {
   "display_name": "Python 3.10.4 64-bit",
   "language": "python",
   "name": "python3"
  },
  "language_info": {
   "codemirror_mode": {
    "name": "ipython",
    "version": 3
   },
   "file_extension": ".py",
   "mimetype": "text/x-python",
   "name": "python",
   "nbconvert_exporter": "python",
   "pygments_lexer": "ipython3",
   "version": "3.10.4"
  },
  "orig_nbformat": 4
 },
 "nbformat": 4,
 "nbformat_minor": 2
}
