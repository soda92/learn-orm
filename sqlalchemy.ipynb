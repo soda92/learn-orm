{
 "cells": [
  {
   "cell_type": "markdown",
   "metadata": {},
   "source": [
    "# Sqlalcmemy 1.4/2.0 Tutorial"
   ]
  },
  {
   "cell_type": "markdown",
   "metadata": {},
   "source": [
    "## Establishing Connectity - the Engine"
   ]
  },
  {
   "cell_type": "code",
   "execution_count": 1,
   "metadata": {},
   "outputs": [],
   "source": [
    "from sqlalchemy import create_engine\n",
    "engine = create_engine(\n",
    "    \"sqlite+pysqlite:///:memory:\", \n",
    "    echo=True, future=True)"
   ]
  },
  {
   "cell_type": "markdown",
   "metadata": {},
   "source": [
    "## Working with Transactions and the DBAPI"
   ]
  },
  {
   "cell_type": "markdown",
   "metadata": {},
   "source": [
    "### Getting a Connection"
   ]
  },
  {
   "cell_type": "code",
   "execution_count": 2,
   "metadata": {},
   "outputs": [
    {
     "name": "stdout",
     "output_type": "stream",
     "text": [
      "2022-04-05 19:06:29,121 INFO sqlalchemy.engine.Engine BEGIN (implicit)\n",
      "2022-04-05 19:06:29,123 INFO sqlalchemy.engine.Engine select 'hello world'\n",
      "2022-04-05 19:06:29,126 INFO sqlalchemy.engine.Engine [generated in 0.00550s] ()\n",
      "[('hello world',)]\n",
      "2022-04-05 19:06:29,130 INFO sqlalchemy.engine.Engine ROLLBACK\n"
     ]
    }
   ],
   "source": [
    "from sqlalchemy import text\n",
    "\n",
    "with engine.connect() as conn:\n",
    "    result = conn.execute(\n",
    "        text(\"select 'hello world'\"))\n",
    "    print(result.all())"
   ]
  },
  {
   "cell_type": "markdown",
   "metadata": {},
   "source": [
    "### Committing Changes"
   ]
  },
  {
   "cell_type": "code",
   "execution_count": 3,
   "metadata": {},
   "outputs": [
    {
     "name": "stdout",
     "output_type": "stream",
     "text": [
      "2022-04-05 19:06:29,290 INFO sqlalchemy.engine.Engine BEGIN (implicit)\n",
      "2022-04-05 19:06:29,292 INFO sqlalchemy.engine.Engine CREATE TABLE some_table (x int, y int)\n",
      "2022-04-05 19:06:29,293 INFO sqlalchemy.engine.Engine [generated in 0.00392s] ()\n",
      "2022-04-05 19:06:29,296 INFO sqlalchemy.engine.Engine INSERT INTO some_table (x, y) VALUES (?, ?)\n",
      "2022-04-05 19:06:29,297 INFO sqlalchemy.engine.Engine [generated in 0.00119s] ((1, 1), (2, 4))\n",
      "2022-04-05 19:06:29,299 INFO sqlalchemy.engine.Engine COMMIT\n"
     ]
    }
   ],
   "source": [
    "with engine.connect() as conn:\n",
    "    conn.execute(\n",
    "        text(\"CREATE TABLE \"\n",
    "        \"some_table \"\n",
    "        \"(x int, y int)\"))\n",
    "    conn.execute(\n",
    "        text(\"INSERT INTO some_table \"\n",
    "        \"(x, y) VALUES (:x, :y)\"),\n",
    "        [{\"x\": 1, \"y\": 1}, \n",
    "        {\"x\": 2, \"y\": 4}]\n",
    "    )\n",
    "    conn.commit()\n"
   ]
  },
  {
   "cell_type": "markdown",
   "metadata": {},
   "source": [
    "The \"begin once\" style"
   ]
  },
  {
   "cell_type": "code",
   "execution_count": 4,
   "metadata": {},
   "outputs": [
    {
     "name": "stdout",
     "output_type": "stream",
     "text": [
      "2022-04-05 19:06:29,496 INFO sqlalchemy.engine.Engine BEGIN (implicit)\n",
      "2022-04-05 19:06:29,498 INFO sqlalchemy.engine.Engine INSERT INTO some_table (x, y) VALUES (?, ?)\n",
      "2022-04-05 19:06:29,500 INFO sqlalchemy.engine.Engine [cached since 0.2037s ago] ((6, 8), (9, 10))\n",
      "2022-04-05 19:06:29,501 INFO sqlalchemy.engine.Engine COMMIT\n"
     ]
    }
   ],
   "source": [
    "with engine.begin() as conn:\n",
    "    conn.execute(\n",
    "        text(\"INSERT INTO\"\n",
    "        \" some_table (x, y)\"\n",
    "        \" VALUES (:x, :y)\"),\n",
    "        [{\"x\": 6, \"y\": 8}, \n",
    "        {\"x\": 9, \"y\": 10}]\n",
    "    )"
   ]
  },
  {
   "cell_type": "markdown",
   "metadata": {},
   "source": [
    "### Basics of Statement Execution"
   ]
  },
  {
   "cell_type": "markdown",
   "metadata": {},
   "source": [
    "#### Fetching Rows"
   ]
  },
  {
   "cell_type": "code",
   "execution_count": 5,
   "metadata": {},
   "outputs": [
    {
     "name": "stdout",
     "output_type": "stream",
     "text": [
      "2022-04-05 19:06:29,721 INFO sqlalchemy.engine.Engine BEGIN (implicit)\n",
      "2022-04-05 19:06:29,723 INFO sqlalchemy.engine.Engine SELECT x, y FROM some_table\n",
      "2022-04-05 19:06:29,725 INFO sqlalchemy.engine.Engine [generated in 0.00415s] ()\n",
      "x: 1  y: 1\n",
      "x: 2  y: 4\n",
      "x: 6  y: 8\n",
      "x: 9  y: 10\n",
      "2022-04-05 19:06:29,728 INFO sqlalchemy.engine.Engine ROLLBACK\n"
     ]
    }
   ],
   "source": [
    "with engine.connect() as conn:\n",
    "    result = conn.execute(\n",
    "        text(\n",
    "            \"SELECT x, y \"\n",
    "            \"FROM some_table\"))\n",
    "    for row in result:\n",
    "        print(f\"x: {row.x} \"\n",
    "        f\" y: {row.y}\")"
   ]
  },
  {
   "cell_type": "markdown",
   "metadata": {},
   "source": [
    "#### Sending Parameters"
   ]
  },
  {
   "cell_type": "code",
   "execution_count": 6,
   "metadata": {},
   "outputs": [
    {
     "name": "stdout",
     "output_type": "stream",
     "text": [
      "2022-04-05 19:06:29,960 INFO sqlalchemy.engine.Engine BEGIN (implicit)\n",
      "2022-04-05 19:06:29,961 INFO sqlalchemy.engine.Engine SELECT x, y FROM some_table WHERE y > ?\n",
      "2022-04-05 19:06:29,963 INFO sqlalchemy.engine.Engine [generated in 0.00326s] (2,)\n",
      "x: 2  y: 4\n",
      "x: 6  y: 8\n",
      "x: 9  y: 10\n",
      "2022-04-05 19:06:29,965 INFO sqlalchemy.engine.Engine ROLLBACK\n"
     ]
    }
   ],
   "source": [
    "with engine.connect() as conn:\n",
    "    result = conn.execute(\n",
    "        text(\"SELECT x, y FROM some_table WHERE y > :y\"),\n",
    "        {\"y\": 2}\n",
    "    )\n",
    "    for row in result:\n",
    "       print(f\"x: {row.x}  y: {row.y}\")"
   ]
  },
  {
   "cell_type": "markdown",
   "metadata": {},
   "source": [
    "#### Sending Multiple Parameters"
   ]
  },
  {
   "cell_type": "code",
   "execution_count": 7,
   "metadata": {},
   "outputs": [
    {
     "name": "stdout",
     "output_type": "stream",
     "text": [
      "2022-04-05 19:06:30,182 INFO sqlalchemy.engine.Engine BEGIN (implicit)\n",
      "2022-04-05 19:06:30,184 INFO sqlalchemy.engine.Engine INSERT INTO some_table (x, y) VALUES (?, ?)\n",
      "2022-04-05 19:06:30,185 INFO sqlalchemy.engine.Engine [cached since 0.8888s ago] ((11, 12), (13, 14))\n",
      "2022-04-05 19:06:30,187 INFO sqlalchemy.engine.Engine COMMIT\n"
     ]
    }
   ],
   "source": [
    "with engine.connect() as conn:\n",
    "    conn.execute(\n",
    "        text(\"INSERT INTO some_table (x, y) VALUES (:x, :y)\"),\n",
    "        [{\"x\": 11, \"y\": 12}, {\"x\": 13, \"y\": 14}]\n",
    "    )\n",
    "    conn.commit()\n"
   ]
  },
  {
   "cell_type": "markdown",
   "metadata": {},
   "source": [
    "#### Bunding Parameters with a Statement"
   ]
  },
  {
   "cell_type": "code",
   "execution_count": 8,
   "metadata": {},
   "outputs": [
    {
     "name": "stdout",
     "output_type": "stream",
     "text": [
      "2022-04-05 19:06:30,430 INFO sqlalchemy.engine.Engine BEGIN (implicit)\n",
      "2022-04-05 19:06:30,432 INFO sqlalchemy.engine.Engine SELECT x, y FROM some_table WHERE y > ? ORDER BY x, y\n",
      "2022-04-05 19:06:30,433 INFO sqlalchemy.engine.Engine [generated in 0.00326s] (6,)\n",
      "x: 6  y: 8\n",
      "x: 9  y: 10\n",
      "x: 11  y: 12\n",
      "x: 13  y: 14\n",
      "2022-04-05 19:06:30,436 INFO sqlalchemy.engine.Engine ROLLBACK\n"
     ]
    }
   ],
   "source": [
    "stmt = text(\"SELECT x, y FROM some_table WHERE y > :y ORDER BY x, y\").bindparams(y=6)\n",
    "with engine.connect() as conn:\n",
    "    result = conn.execute(stmt)\n",
    "    for row in result:\n",
    "       print(f\"x: {row.x}  y: {row.y}\")"
   ]
  },
  {
   "cell_type": "markdown",
   "metadata": {},
   "source": [
    "#### Executing with an ORM Session"
   ]
  },
  {
   "cell_type": "code",
   "execution_count": 9,
   "metadata": {},
   "outputs": [
    {
     "name": "stdout",
     "output_type": "stream",
     "text": [
      "2022-04-05 19:06:30,831 INFO sqlalchemy.engine.Engine BEGIN (implicit)\n",
      "2022-04-05 19:06:30,833 INFO sqlalchemy.engine.Engine SELECT x, y FROM some_table WHERE y > ? ORDER BY x, y\n",
      "2022-04-05 19:06:30,834 INFO sqlalchemy.engine.Engine [cached since 0.404s ago] (6,)\n",
      "x: 6  y: 8\n",
      "x: 9  y: 10\n",
      "x: 11  y: 12\n",
      "x: 13  y: 14\n",
      "2022-04-05 19:06:30,836 INFO sqlalchemy.engine.Engine ROLLBACK\n"
     ]
    }
   ],
   "source": [
    "from sqlalchemy.orm import Session\n",
    "\n",
    "stmt = text(\"SELECT x, y FROM some_table WHERE y > :y ORDER BY x, y\").bindparams(y=6)\n",
    "with Session(engine) as session:\n",
    "    result = session.execute(stmt)\n",
    "    for row in result:\n",
    "       print(f\"x: {row.x}  y: {row.y}\")"
   ]
  },
  {
   "cell_type": "markdown",
   "metadata": {},
   "source": [
    "commit as you go"
   ]
  },
  {
   "cell_type": "code",
   "execution_count": 10,
   "metadata": {},
   "outputs": [
    {
     "name": "stdout",
     "output_type": "stream",
     "text": [
      "2022-04-05 19:06:31,029 INFO sqlalchemy.engine.Engine BEGIN (implicit)\n",
      "2022-04-05 19:06:31,032 INFO sqlalchemy.engine.Engine UPDATE some_table SET y=? WHERE x=?\n",
      "2022-04-05 19:06:31,033 INFO sqlalchemy.engine.Engine [generated in 0.00152s] ((11, 9), (15, 13))\n",
      "2022-04-05 19:06:31,036 INFO sqlalchemy.engine.Engine COMMIT\n"
     ]
    }
   ],
   "source": [
    "with Session(engine) as session:\n",
    "    result = session.execute(\n",
    "        text(\"UPDATE some_table SET y=:y WHERE x=:x\"),\n",
    "        [{\"x\": 9, \"y\":11}, {\"x\": 13, \"y\": 15}]\n",
    "    )\n",
    "    session.commit()\n"
   ]
  },
  {
   "cell_type": "markdown",
   "metadata": {},
   "source": [
    "## Working with Database Metadata"
   ]
  },
  {
   "cell_type": "markdown",
   "metadata": {},
   "source": [
    "### Setting up MetaData with Table objects"
   ]
  },
  {
   "cell_type": "code",
   "execution_count": 11,
   "metadata": {},
   "outputs": [],
   "source": [
    "from sqlalchemy import MetaData\n",
    "metadata_obj = MetaData()"
   ]
  },
  {
   "cell_type": "code",
   "execution_count": 12,
   "metadata": {},
   "outputs": [],
   "source": [
    "from sqlalchemy import Table, Column, Integer, String\n",
    "user_table = Table(\n",
    "    \"user_account\",\n",
    "    metadata_obj,\n",
    "    Column('id', Integer, primary_key=True),\n",
    "    Column('name', String(30)),\n",
    "    Column('fullname', String)\n",
    ")"
   ]
  },
  {
   "cell_type": "markdown",
   "metadata": {},
   "source": [
    "Column"
   ]
  },
  {
   "cell_type": "code",
   "execution_count": 13,
   "metadata": {},
   "outputs": [
    {
     "data": {
      "text/plain": [
       "Column('name', String(length=30), table=<user_account>)"
      ]
     },
     "execution_count": 13,
     "metadata": {},
     "output_type": "execute_result"
    }
   ],
   "source": [
    "user_table.c.name"
   ]
  },
  {
   "cell_type": "code",
   "execution_count": 14,
   "metadata": {},
   "outputs": [
    {
     "data": {
      "text/plain": [
       "['id', 'name', 'fullname']"
      ]
     },
     "execution_count": 14,
     "metadata": {},
     "output_type": "execute_result"
    }
   ],
   "source": [
    "user_table.c.keys()"
   ]
  },
  {
   "cell_type": "markdown",
   "metadata": {},
   "source": [
    "### Declaring Simple Constraints"
   ]
  },
  {
   "cell_type": "code",
   "execution_count": 15,
   "metadata": {},
   "outputs": [
    {
     "data": {
      "text/plain": [
       "PrimaryKeyConstraint(Column('id', Integer(), table=<user_account>, primary_key=True, nullable=False))"
      ]
     },
     "execution_count": 15,
     "metadata": {},
     "output_type": "execute_result"
    }
   ],
   "source": [
    "user_table.primary_key"
   ]
  },
  {
   "cell_type": "code",
   "execution_count": 16,
   "metadata": {},
   "outputs": [],
   "source": [
    "from sqlalchemy import ForeignKey\n",
    "address_table = Table(\n",
    "    \"address\",\n",
    "    metadata_obj,\n",
    "    Column('id', Integer, \n",
    "    primary_key=True),\n",
    "    Column('user_id',\n",
    "     ForeignKey('user_account.id'), \n",
    "     nullable=False),\n",
    "    Column('email_address',\n",
    "     String,\n",
    "     nullable=False)\n",
    ")"
   ]
  },
  {
   "cell_type": "markdown",
   "metadata": {},
   "source": [
    "### Emitting DDL to the Database"
   ]
  },
  {
   "cell_type": "code",
   "execution_count": 17,
   "metadata": {},
   "outputs": [
    {
     "name": "stdout",
     "output_type": "stream",
     "text": [
      "2022-04-05 19:06:32,612 INFO sqlalchemy.engine.Engine BEGIN (implicit)\n",
      "2022-04-05 19:06:32,614 INFO sqlalchemy.engine.Engine PRAGMA main.table_info(\"user_account\")\n",
      "2022-04-05 19:06:32,615 INFO sqlalchemy.engine.Engine [raw sql] ()\n",
      "2022-04-05 19:06:32,616 INFO sqlalchemy.engine.Engine PRAGMA temp.table_info(\"user_account\")\n",
      "2022-04-05 19:06:32,617 INFO sqlalchemy.engine.Engine [raw sql] ()\n",
      "2022-04-05 19:06:32,619 INFO sqlalchemy.engine.Engine PRAGMA main.table_info(\"address\")\n",
      "2022-04-05 19:06:32,620 INFO sqlalchemy.engine.Engine [raw sql] ()\n",
      "2022-04-05 19:06:32,622 INFO sqlalchemy.engine.Engine PRAGMA temp.table_info(\"address\")\n",
      "2022-04-05 19:06:32,626 INFO sqlalchemy.engine.Engine [raw sql] ()\n",
      "2022-04-05 19:06:32,630 INFO sqlalchemy.engine.Engine \n",
      "CREATE TABLE user_account (\n",
      "\tid INTEGER NOT NULL, \n",
      "\tname VARCHAR(30), \n",
      "\tfullname VARCHAR, \n",
      "\tPRIMARY KEY (id)\n",
      ")\n",
      "\n",
      "\n",
      "2022-04-05 19:06:32,631 INFO sqlalchemy.engine.Engine [no key 0.00102s] ()\n",
      "2022-04-05 19:06:32,633 INFO sqlalchemy.engine.Engine \n",
      "CREATE TABLE address (\n",
      "\tid INTEGER NOT NULL, \n",
      "\tuser_id INTEGER NOT NULL, \n",
      "\temail_address VARCHAR NOT NULL, \n",
      "\tPRIMARY KEY (id), \n",
      "\tFOREIGN KEY(user_id) REFERENCES user_account (id)\n",
      ")\n",
      "\n",
      "\n",
      "2022-04-05 19:06:32,635 INFO sqlalchemy.engine.Engine [no key 0.00200s] ()\n",
      "2022-04-05 19:06:32,636 INFO sqlalchemy.engine.Engine COMMIT\n"
     ]
    }
   ],
   "source": [
    "metadata_obj.create_all(engine)"
   ]
  },
  {
   "cell_type": "markdown",
   "metadata": {},
   "source": [
    "### Defining Table Metadata with the ORM"
   ]
  },
  {
   "cell_type": "markdown",
   "metadata": {},
   "source": [
    "#### Setting up the Registry"
   ]
  },
  {
   "cell_type": "code",
   "execution_count": 18,
   "metadata": {},
   "outputs": [],
   "source": [
    "from sqlalchemy.orm import registry\n",
    "mapper_registry = registry()"
   ]
  },
  {
   "cell_type": "code",
   "execution_count": 19,
   "metadata": {},
   "outputs": [
    {
     "data": {
      "text/plain": [
       "MetaData()"
      ]
     },
     "execution_count": 19,
     "metadata": {},
     "output_type": "execute_result"
    }
   ],
   "source": [
    "mapper_registry.metadata"
   ]
  },
  {
   "cell_type": "code",
   "execution_count": 20,
   "metadata": {},
   "outputs": [],
   "source": [
    "Base = mapper_registry.\\\n",
    "    generate_base()"
   ]
  },
  {
   "cell_type": "markdown",
   "metadata": {},
   "source": [
    "#### Declaring Mapped Classes"
   ]
  },
  {
   "cell_type": "code",
   "execution_count": 21,
   "metadata": {},
   "outputs": [],
   "source": [
    "from sqlalchemy.orm import relationship\n",
    "class User(Base):\n",
    "    __tablename__ = 'user_account'\n",
    "    id = Column(Integer, \n",
    "    primary_key=True)\n",
    "    name = Column(String(30))\n",
    "    fullname = Column(String)\n",
    "    addresses = relationship(\"Address\",\n",
    "     back_populates=\"user\")\n",
    "    def __repr__(self):\n",
    "       return f\"User(id={self.id!r},\" \\\n",
    "       f\" name={self.name!r},\" \\\n",
    "       f\" fullname={self.fullname!r})\"\n",
    "\n",
    "class Address(Base):\n",
    "    __tablename__ = 'address'\n",
    "    id = Column(Integer, \n",
    "    primary_key=True)\n",
    "    email_address = Column(String,\n",
    "     nullable=False)\n",
    "    user_id = Column(Integer, \n",
    "    ForeignKey('user_account.id'))\n",
    "    user = relationship(\"User\", \n",
    "    back_populates=\"addresses\")\n",
    "    def __repr__(self):\n",
    "        return f\"Address(id={self.id!r},\"\\\n",
    "        f\" email_address=\"\\\n",
    "        f\"{self.email_address!r})\""
   ]
  },
  {
   "cell_type": "code",
   "execution_count": 22,
   "metadata": {},
   "outputs": [
    {
     "data": {
      "text/plain": [
       "Table('user_account', MetaData(), Column('id', Integer(), table=<user_account>, primary_key=True, nullable=False), Column('name', String(length=30), table=<user_account>), Column('fullname', String(), table=<user_account>), schema=None)"
      ]
     },
     "execution_count": 22,
     "metadata": {},
     "output_type": "execute_result"
    }
   ],
   "source": [
    "User.__table__"
   ]
  },
  {
   "cell_type": "markdown",
   "metadata": {},
   "source": [
    "#### Other Mapped Class Details"
   ]
  },
  {
   "cell_type": "markdown",
   "metadata": {},
   "source": [
    "the classes have an automatically generated `__init__()` method"
   ]
  },
  {
   "cell_type": "code",
   "execution_count": 23,
   "metadata": {},
   "outputs": [],
   "source": [
    "sandy = User(name='sandy',\n",
    " fullname='Sandy Cheeks')"
   ]
  },
  {
   "cell_type": "markdown",
   "metadata": {},
   "source": [
    "we provided a `__repr__()` method"
   ]
  },
  {
   "cell_type": "code",
   "execution_count": 24,
   "metadata": {},
   "outputs": [
    {
     "data": {
      "text/plain": [
       "User(id=None, name='sandy', fullname='Sandy Cheeks')"
      ]
     },
     "execution_count": 24,
     "metadata": {},
     "output_type": "execute_result"
    }
   ],
   "source": [
    "sandy"
   ]
  },
  {
   "cell_type": "markdown",
   "metadata": {},
   "source": [
    "we also included a bidirectional relationship"
   ]
  },
  {
   "cell_type": "markdown",
   "metadata": {},
   "source": [
    "#### Emitting DDL to the database"
   ]
  },
  {
   "cell_type": "code",
   "execution_count": 25,
   "metadata": {},
   "outputs": [
    {
     "name": "stdout",
     "output_type": "stream",
     "text": [
      "2022-04-05 19:06:34,419 INFO sqlalchemy.engine.Engine BEGIN (implicit)\n",
      "2022-04-05 19:06:34,421 INFO sqlalchemy.engine.Engine PRAGMA main.table_info(\"user_account\")\n",
      "2022-04-05 19:06:34,423 INFO sqlalchemy.engine.Engine [raw sql] ()\n",
      "2022-04-05 19:06:34,426 INFO sqlalchemy.engine.Engine PRAGMA main.table_info(\"address\")\n",
      "2022-04-05 19:06:34,427 INFO sqlalchemy.engine.Engine [raw sql] ()\n",
      "2022-04-05 19:06:34,429 INFO sqlalchemy.engine.Engine COMMIT\n",
      "2022-04-05 19:06:34,430 INFO sqlalchemy.engine.Engine BEGIN (implicit)\n",
      "2022-04-05 19:06:34,432 INFO sqlalchemy.engine.Engine PRAGMA main.table_info(\"user_account\")\n",
      "2022-04-05 19:06:34,433 INFO sqlalchemy.engine.Engine [raw sql] ()\n",
      "2022-04-05 19:06:34,435 INFO sqlalchemy.engine.Engine PRAGMA main.table_info(\"address\")\n",
      "2022-04-05 19:06:34,437 INFO sqlalchemy.engine.Engine [raw sql] ()\n",
      "2022-04-05 19:06:34,440 INFO sqlalchemy.engine.Engine COMMIT\n"
     ]
    }
   ],
   "source": [
    "# emit CREATE statements given ORM registry\n",
    "mapper_registry.metadata.create_all(engine)\n",
    "\n",
    "# the identical MetaData object is also present on the\n",
    "# declarative base\n",
    "Base.metadata.create_all(engine)"
   ]
  },
  {
   "cell_type": "markdown",
   "metadata": {},
   "source": [
    "#### Combining Core Table Declarations with ORM Declarative"
   ]
  },
  {
   "cell_type": "code",
   "execution_count": 26,
   "metadata": {},
   "outputs": [],
   "source": [
    "# class User(Base):\n",
    "#     __table__ = user_table\n",
    "\n",
    "#     addresses = relationship(\"Address\", back_populates=\"user\")\n",
    "\n",
    "#     def __repr__(self):\n",
    "#         return f\"User({self.name!r}, {self.fullname!r})\"\n",
    "\n",
    "# class Address(Base):\n",
    "#     __table__ = address_table\n",
    "\n",
    "#     user = relationship(\"User\", back_populates=\"addresses\")\n",
    "\n",
    "#     def __repr__(self):\n",
    "#         return f\"Address({self.email_address!r})\""
   ]
  },
  {
   "cell_type": "markdown",
   "metadata": {},
   "source": [
    "### Table Reflection"
   ]
  },
  {
   "cell_type": "code",
   "execution_count": 27,
   "metadata": {},
   "outputs": [
    {
     "name": "stdout",
     "output_type": "stream",
     "text": [
      "2022-04-05 19:06:34,566 INFO sqlalchemy.engine.Engine BEGIN (implicit)\n",
      "2022-04-05 19:06:34,568 INFO sqlalchemy.engine.Engine PRAGMA main.table_xinfo(\"some_table\")\n",
      "2022-04-05 19:06:34,569 INFO sqlalchemy.engine.Engine [raw sql] ()\n",
      "2022-04-05 19:06:34,573 INFO sqlalchemy.engine.Engine SELECT sql FROM  (SELECT * FROM sqlite_master UNION ALL   SELECT * FROM sqlite_temp_master) WHERE name = ? AND type = 'table'\n",
      "2022-04-05 19:06:34,575 INFO sqlalchemy.engine.Engine [raw sql] ('some_table',)\n",
      "2022-04-05 19:06:34,579 INFO sqlalchemy.engine.Engine PRAGMA main.foreign_key_list(\"some_table\")\n",
      "2022-04-05 19:06:34,580 INFO sqlalchemy.engine.Engine [raw sql] ()\n",
      "2022-04-05 19:06:34,582 INFO sqlalchemy.engine.Engine PRAGMA temp.foreign_key_list(\"some_table\")\n",
      "2022-04-05 19:06:34,583 INFO sqlalchemy.engine.Engine [raw sql] ()\n",
      "2022-04-05 19:06:34,585 INFO sqlalchemy.engine.Engine SELECT sql FROM  (SELECT * FROM sqlite_master UNION ALL   SELECT * FROM sqlite_temp_master) WHERE name = ? AND type = 'table'\n",
      "2022-04-05 19:06:34,586 INFO sqlalchemy.engine.Engine [raw sql] ('some_table',)\n",
      "2022-04-05 19:06:34,592 INFO sqlalchemy.engine.Engine PRAGMA main.index_list(\"some_table\")\n",
      "2022-04-05 19:06:34,594 INFO sqlalchemy.engine.Engine [raw sql] ()\n",
      "2022-04-05 19:06:34,596 INFO sqlalchemy.engine.Engine PRAGMA temp.index_list(\"some_table\")\n",
      "2022-04-05 19:06:34,597 INFO sqlalchemy.engine.Engine [raw sql] ()\n",
      "2022-04-05 19:06:34,599 INFO sqlalchemy.engine.Engine PRAGMA main.index_list(\"some_table\")\n",
      "2022-04-05 19:06:34,600 INFO sqlalchemy.engine.Engine [raw sql] ()\n",
      "2022-04-05 19:06:34,602 INFO sqlalchemy.engine.Engine PRAGMA temp.index_list(\"some_table\")\n",
      "2022-04-05 19:06:34,604 INFO sqlalchemy.engine.Engine [raw sql] ()\n",
      "2022-04-05 19:06:34,606 INFO sqlalchemy.engine.Engine SELECT sql FROM  (SELECT * FROM sqlite_master UNION ALL   SELECT * FROM sqlite_temp_master) WHERE name = ? AND type = 'table'\n",
      "2022-04-05 19:06:34,607 INFO sqlalchemy.engine.Engine [raw sql] ('some_table',)\n",
      "2022-04-05 19:06:34,613 INFO sqlalchemy.engine.Engine ROLLBACK\n"
     ]
    }
   ],
   "source": [
    "some_table = Table(\"some_table\",\n",
    " metadata_obj, autoload_with=engine)\n"
   ]
  },
  {
   "cell_type": "code",
   "execution_count": 28,
   "metadata": {},
   "outputs": [
    {
     "data": {
      "text/plain": [
       "Table('some_table', MetaData(), Column('x', INTEGER(), table=<some_table>), Column('y', INTEGER(), table=<some_table>), schema=None)"
      ]
     },
     "execution_count": 28,
     "metadata": {},
     "output_type": "execute_result"
    }
   ],
   "source": [
    "some_table"
   ]
  },
  {
   "cell_type": "markdown",
   "metadata": {},
   "source": [
    "## Working With Data"
   ]
  },
  {
   "cell_type": "markdown",
   "metadata": {},
   "source": [
    "### Inserting Rows with Core"
   ]
  },
  {
   "cell_type": "markdown",
   "metadata": {},
   "source": [
    "The insert() SQL Expression Construct"
   ]
  },
  {
   "cell_type": "code",
   "execution_count": 29,
   "metadata": {},
   "outputs": [],
   "source": [
    "from sqlalchemy import insert\n",
    "stmt = insert(user_table).\\\n",
    "    values(name='spongebob', \n",
    "    fullname=\"Spongebob Squarepants\")"
   ]
  },
  {
   "cell_type": "code",
   "execution_count": 30,
   "metadata": {},
   "outputs": [
    {
     "name": "stdout",
     "output_type": "stream",
     "text": [
      "INSERT INTO user_account (name, fullname) VALUES (:name, :fullname)\n"
     ]
    }
   ],
   "source": [
    "print(stmt)"
   ]
  },
  {
   "cell_type": "code",
   "execution_count": 31,
   "metadata": {},
   "outputs": [],
   "source": [
    "compiled = stmt.compile()"
   ]
  },
  {
   "cell_type": "code",
   "execution_count": 32,
   "metadata": {},
   "outputs": [
    {
     "data": {
      "text/plain": [
       "{'name': 'spongebob', 'fullname': 'Spongebob Squarepants'}"
      ]
     },
     "execution_count": 32,
     "metadata": {},
     "output_type": "execute_result"
    }
   ],
   "source": [
    "compiled.params"
   ]
  },
  {
   "cell_type": "markdown",
   "metadata": {},
   "source": [
    "Executing the Statement"
   ]
  },
  {
   "cell_type": "code",
   "execution_count": 33,
   "metadata": {},
   "outputs": [
    {
     "name": "stdout",
     "output_type": "stream",
     "text": [
      "2022-04-05 19:06:34,895 INFO sqlalchemy.engine.Engine BEGIN (implicit)\n",
      "2022-04-05 19:06:34,897 INFO sqlalchemy.engine.Engine INSERT INTO user_account (name, fullname) VALUES (?, ?)\n",
      "2022-04-05 19:06:34,898 INFO sqlalchemy.engine.Engine [generated in 0.00270s] ('spongebob', 'Spongebob Squarepants')\n",
      "2022-04-05 19:06:34,900 INFO sqlalchemy.engine.Engine COMMIT\n"
     ]
    }
   ],
   "source": [
    "with engine.connect() as conn:\n",
    "    result = conn.execute(stmt)\n",
    "    conn.commit()\n"
   ]
  },
  {
   "cell_type": "code",
   "execution_count": 34,
   "metadata": {},
   "outputs": [
    {
     "data": {
      "text/plain": [
       "(1,)"
      ]
     },
     "execution_count": 34,
     "metadata": {},
     "output_type": "execute_result"
    }
   ],
   "source": [
    "result.inserted_primary_key"
   ]
  },
  {
   "cell_type": "markdown",
   "metadata": {},
   "source": [
    "INSERT usually generates the \"values\" clause automatically"
   ]
  },
  {
   "cell_type": "code",
   "execution_count": 35,
   "metadata": {},
   "outputs": [
    {
     "name": "stdout",
     "output_type": "stream",
     "text": [
      "2022-04-05 19:06:34,994 INFO sqlalchemy.engine.Engine BEGIN (implicit)\n",
      "2022-04-05 19:06:34,995 INFO sqlalchemy.engine.Engine INSERT INTO user_account (name, fullname) VALUES (?, ?)\n",
      "2022-04-05 19:06:34,997 INFO sqlalchemy.engine.Engine [generated in 0.00255s] (('sandy', 'Sandy Cheeks'), ('patrick', 'Patrick Star'))\n",
      "2022-04-05 19:06:34,998 INFO sqlalchemy.engine.Engine COMMIT\n"
     ]
    }
   ],
   "source": [
    "with engine.connect() as conn:\n",
    "    result = conn.execute(\n",
    "        insert(user_table),\n",
    "        [\n",
    "            {\"name\": \"sandy\", \n",
    "            \"fullname\": \"Sandy Cheeks\"},\n",
    "            {\"name\": \"patrick\", \n",
    "            \"fullname\": \"Patrick Star\"}\n",
    "        ]\n",
    "    )\n",
    "    conn.commit()"
   ]
  },
  {
   "cell_type": "markdown",
   "metadata": {},
   "source": [
    "Deep Alchemy"
   ]
  },
  {
   "cell_type": "code",
   "execution_count": 36,
   "metadata": {},
   "outputs": [
    {
     "name": "stdout",
     "output_type": "stream",
     "text": [
      "2022-04-05 19:06:35,043 INFO sqlalchemy.engine.Engine BEGIN (implicit)\n",
      "2022-04-05 19:06:35,045 INFO sqlalchemy.engine.Engine INSERT INTO address (user_id, email_address) VALUES ((SELECT user_account.id \n",
      "FROM user_account \n",
      "WHERE user_account.name = ?), ?)\n",
      "2022-04-05 19:06:35,046 INFO sqlalchemy.engine.Engine [generated in 0.00319s] (('spongebob', 'spongebob@sqlalchemy.org'), ('sandy', 'sandy@sqlalchemy.org'), ('sandy', 'sandy@squirrelpower.org'))\n",
      "2022-04-05 19:06:35,048 INFO sqlalchemy.engine.Engine COMMIT\n"
     ]
    }
   ],
   "source": [
    "from sqlalchemy import select, bindparam\n",
    "\n",
    "scalar_subq = (\n",
    "    select(user_table.c.id)\n",
    "    .where(user_table.c.name == bindparam(\"username\"))\n",
    "    .scalar_subquery()\n",
    ")\n",
    "\n",
    "with engine.connect() as conn:\n",
    "    result = conn.execute(\n",
    "        insert(address_table).values(user_id=scalar_subq),\n",
    "        [\n",
    "            {\"username\": \"spongebob\", \"email_address\": \"spongebob@sqlalchemy.org\"},\n",
    "            {\"username\": \"sandy\", \"email_address\": \"sandy@sqlalchemy.org\"},\n",
    "            {\"username\": \"sandy\", \"email_address\": \"sandy@squirrelpower.org\"},\n",
    "        ],\n",
    "    )\n",
    "    conn.commit()\n"
   ]
  },
  {
   "cell_type": "markdown",
   "metadata": {},
   "source": [
    "INSERT...FROM SELECT"
   ]
  },
  {
   "cell_type": "code",
   "execution_count": 37,
   "metadata": {},
   "outputs": [
    {
     "name": "stdout",
     "output_type": "stream",
     "text": [
      "INSERT INTO address (user_id, email_address) SELECT user_account.id, user_account.name || :name_1 AS anon_1 \n",
      "FROM user_account\n"
     ]
    }
   ],
   "source": [
    "select_stmt = select(user_table.c.id, user_table.c.name + \"@aol.com\")\n",
    "insert_stmt = insert(address_table).from_select(\n",
    "    [\"user_id\", \"email_address\"], select_stmt\n",
    ")\n",
    "print(insert_stmt)\n"
   ]
  },
  {
   "cell_type": "markdown",
   "metadata": {},
   "source": [
    "INSERT...RETURNING"
   ]
  },
  {
   "cell_type": "code",
   "execution_count": 38,
   "metadata": {},
   "outputs": [
    {
     "name": "stdout",
     "output_type": "stream",
     "text": [
      "INSERT INTO address (id, user_id, email_address) VALUES (:id, :user_id, :email_address) RETURNING address.id, address.email_address\n"
     ]
    }
   ],
   "source": [
    "insert_stmt = insert(address_table).returning(address_table.c.id, address_table.c.email_address)\n",
    "print(insert_stmt)\n"
   ]
  },
  {
   "cell_type": "code",
   "execution_count": 39,
   "metadata": {},
   "outputs": [
    {
     "name": "stdout",
     "output_type": "stream",
     "text": [
      "INSERT INTO address (user_id, email_address) SELECT user_account.id, user_account.name || :name_1 AS anon_1 \n",
      "FROM user_account RETURNING address.id, address.email_address\n"
     ]
    }
   ],
   "source": [
    "select_stmt = select(user_table.c.id, user_table.c.name + \"@aol.com\")\n",
    "insert_stmt = insert(address_table).from_select(\n",
    "    [\"user_id\", \"email_address\"], select_stmt\n",
    ")\n",
    "print(insert_stmt.returning(address_table.c.id, address_table.c.email_address))\n"
   ]
  },
  {
   "cell_type": "markdown",
   "metadata": {},
   "source": [
    "## Selecting Rows with Core or ORM"
   ]
  },
  {
   "cell_type": "markdown",
   "metadata": {},
   "source": [
    "### The select() SQL Expression Construct"
   ]
  },
  {
   "cell_type": "code",
   "execution_count": 40,
   "metadata": {},
   "outputs": [
    {
     "name": "stdout",
     "output_type": "stream",
     "text": [
      "SELECT user_account.id, user_account.name, user_account.fullname \n",
      "FROM user_account \n",
      "WHERE user_account.name = :name_1\n"
     ]
    }
   ],
   "source": [
    "from sqlalchemy import select\n",
    "stmt = select(user_table).where(user_table.c.name == 'spongebob')\n",
    "print(stmt)"
   ]
  },
  {
   "cell_type": "code",
   "execution_count": 41,
   "metadata": {},
   "outputs": [
    {
     "name": "stdout",
     "output_type": "stream",
     "text": [
      "2022-04-05 19:06:35,279 INFO sqlalchemy.engine.Engine BEGIN (implicit)\n",
      "2022-04-05 19:06:35,281 INFO sqlalchemy.engine.Engine SELECT user_account.id, user_account.name, user_account.fullname \n",
      "FROM user_account \n",
      "WHERE user_account.name = ?\n",
      "2022-04-05 19:06:35,282 INFO sqlalchemy.engine.Engine [generated in 0.00344s] ('spongebob',)\n",
      "(1, 'spongebob', 'Spongebob Squarepants')\n",
      "2022-04-05 19:06:35,284 INFO sqlalchemy.engine.Engine ROLLBACK\n"
     ]
    }
   ],
   "source": [
    "with engine.connect() as conn:\n",
    "    for row in conn.execute(stmt):\n",
    "        print(row)"
   ]
  },
  {
   "cell_type": "code",
   "execution_count": 42,
   "metadata": {},
   "outputs": [],
   "source": [
    "# class User(Base):\n",
    "#     __table__ = user_table\n",
    "\n",
    "#     addresses = relationship(\"Address\", back_populates=\"user\")\n",
    "\n",
    "#     def __repr__(self):\n",
    "#         return f\"User({self.name!r}, {self.fullname!r})\"\n",
    "\n",
    "# class Address(Base):\n",
    "#     __table__ = address_table\n",
    "\n",
    "#     user = relationship(\"User\", back_populates=\"addresses\")\n",
    "\n",
    "#     def __repr__(self):\n",
    "#         return f\"Address({self.email_address!r})\""
   ]
  },
  {
   "cell_type": "code",
   "execution_count": 43,
   "metadata": {},
   "outputs": [
    {
     "name": "stdout",
     "output_type": "stream",
     "text": [
      "2022-04-05 19:06:35,378 INFO sqlalchemy.engine.Engine BEGIN (implicit)\n",
      "2022-04-05 19:06:35,383 INFO sqlalchemy.engine.Engine SELECT user_account.id, user_account.name, user_account.fullname \n",
      "FROM user_account \n",
      "WHERE user_account.name = ?\n",
      "2022-04-05 19:06:35,385 INFO sqlalchemy.engine.Engine [generated in 0.00133s] ('spongebob',)\n",
      "(User(id=1, name='spongebob', fullname='Spongebob Squarepants'),)\n",
      "2022-04-05 19:06:35,387 INFO sqlalchemy.engine.Engine ROLLBACK\n"
     ]
    }
   ],
   "source": [
    "stmt = select(User).where(User.name == 'spongebob')\n",
    "with Session(engine) as session:\n",
    "    for row in session.execute(stmt):\n",
    "        print(row)"
   ]
  },
  {
   "cell_type": "markdown",
   "metadata": {},
   "source": [
    "### Setting the COLUMNS and FROM Clause"
   ]
  },
  {
   "cell_type": "code",
   "execution_count": 44,
   "metadata": {},
   "outputs": [
    {
     "name": "stdout",
     "output_type": "stream",
     "text": [
      "SELECT user_account.id, user_account.name, user_account.fullname \n",
      "FROM user_account\n"
     ]
    }
   ],
   "source": [
    "print(select(user_table))"
   ]
  },
  {
   "cell_type": "code",
   "execution_count": 45,
   "metadata": {},
   "outputs": [
    {
     "name": "stdout",
     "output_type": "stream",
     "text": [
      "SELECT user_account.name, user_account.fullname \n",
      "FROM user_account\n"
     ]
    }
   ],
   "source": [
    "print(select(user_table.c.name, user_table.c.fullname))"
   ]
  },
  {
   "cell_type": "markdown",
   "metadata": {},
   "source": [
    "#### Selecting ORM Entities and Columns"
   ]
  },
  {
   "cell_type": "code",
   "execution_count": 46,
   "metadata": {},
   "outputs": [
    {
     "name": "stdout",
     "output_type": "stream",
     "text": [
      "SELECT user_account.id, user_account.name, user_account.fullname \n",
      "FROM user_account\n"
     ]
    }
   ],
   "source": [
    "print(select(User))"
   ]
  },
  {
   "cell_type": "code",
   "execution_count": 47,
   "metadata": {},
   "outputs": [
    {
     "name": "stdout",
     "output_type": "stream",
     "text": [
      "2022-04-05 19:06:35,573 INFO sqlalchemy.engine.Engine BEGIN (implicit)\n",
      "2022-04-05 19:06:35,575 INFO sqlalchemy.engine.Engine SELECT user_account.id, user_account.name, user_account.fullname \n",
      "FROM user_account\n",
      "2022-04-05 19:06:35,577 INFO sqlalchemy.engine.Engine [generated in 0.00123s] ()\n"
     ]
    }
   ],
   "source": [
    "row = session.execute(select(User)).first()"
   ]
  },
  {
   "cell_type": "code",
   "execution_count": 48,
   "metadata": {},
   "outputs": [
    {
     "data": {
      "text/plain": [
       "(User(id=1, name='spongebob', fullname='Spongebob Squarepants'),)"
      ]
     },
     "execution_count": 48,
     "metadata": {},
     "output_type": "execute_result"
    }
   ],
   "source": [
    "row"
   ]
  },
  {
   "cell_type": "code",
   "execution_count": 49,
   "metadata": {},
   "outputs": [
    {
     "name": "stdout",
     "output_type": "stream",
     "text": [
      "2022-04-05 19:06:35,664 INFO sqlalchemy.engine.Engine SELECT user_account.id, user_account.name, user_account.fullname \n",
      "FROM user_account\n",
      "2022-04-05 19:06:35,666 INFO sqlalchemy.engine.Engine [cached since 0.09058s ago] ()\n"
     ]
    }
   ],
   "source": [
    "user = session.scalars(select(User)).first()"
   ]
  },
  {
   "cell_type": "code",
   "execution_count": 50,
   "metadata": {},
   "outputs": [
    {
     "data": {
      "text/plain": [
       "User(id=1, name='spongebob', fullname='Spongebob Squarepants')"
      ]
     },
     "execution_count": 50,
     "metadata": {},
     "output_type": "execute_result"
    }
   ],
   "source": [
    "user"
   ]
  },
  {
   "cell_type": "code",
   "execution_count": 51,
   "metadata": {},
   "outputs": [
    {
     "name": "stdout",
     "output_type": "stream",
     "text": [
      "SELECT user_account.name, user_account.fullname \n",
      "FROM user_account\n"
     ]
    }
   ],
   "source": [
    "print(select(User.name, User.fullname))"
   ]
  },
  {
   "cell_type": "code",
   "execution_count": 52,
   "metadata": {},
   "outputs": [
    {
     "name": "stdout",
     "output_type": "stream",
     "text": [
      "2022-04-05 19:06:35,828 INFO sqlalchemy.engine.Engine SELECT user_account.name, user_account.fullname \n",
      "FROM user_account\n",
      "2022-04-05 19:06:35,829 INFO sqlalchemy.engine.Engine [generated in 0.00142s] ()\n"
     ]
    },
    {
     "data": {
      "text/plain": [
       "('spongebob', 'Spongebob Squarepants')"
      ]
     },
     "execution_count": 52,
     "metadata": {},
     "output_type": "execute_result"
    }
   ],
   "source": [
    "row = session.execute(select(User.name, User.fullname)).first()\n",
    "row"
   ]
  },
  {
   "cell_type": "code",
   "execution_count": 53,
   "metadata": {},
   "outputs": [
    {
     "name": "stdout",
     "output_type": "stream",
     "text": [
      "2022-04-05 19:06:35,878 INFO sqlalchemy.engine.Engine SELECT user_account.name, address.id, address.email_address, address.user_id \n",
      "FROM user_account, address \n",
      "WHERE user_account.id = address.user_id ORDER BY address.id\n",
      "2022-04-05 19:06:35,878 INFO sqlalchemy.engine.Engine [generated in 0.00160s] ()\n"
     ]
    },
    {
     "data": {
      "text/plain": [
       "[('spongebob', Address(id=1, email_address='spongebob@sqlalchemy.org')),\n",
       " ('sandy', Address(id=2, email_address='sandy@sqlalchemy.org')),\n",
       " ('sandy', Address(id=3, email_address='sandy@squirrelpower.org'))]"
      ]
     },
     "execution_count": 53,
     "metadata": {},
     "output_type": "execute_result"
    }
   ],
   "source": [
    "session.execute(\n",
    "    select(User.name, Address).\n",
    "    where(User.id==Address.user_id).\n",
    "    order_by(Address.id)\n",
    ").all()\n"
   ]
  },
  {
   "cell_type": "markdown",
   "metadata": {},
   "source": [
    "#### Selecting from Labeled SQL Expressions"
   ]
  },
  {
   "cell_type": "code",
   "execution_count": 54,
   "metadata": {},
   "outputs": [
    {
     "name": "stdout",
     "output_type": "stream",
     "text": [
      "2022-04-05 19:06:35,928 INFO sqlalchemy.engine.Engine BEGIN (implicit)\n",
      "2022-04-05 19:06:35,929 INFO sqlalchemy.engine.Engine SELECT ? || user_account.name AS username \n",
      "FROM user_account ORDER BY user_account.name\n",
      "2022-04-05 19:06:35,931 INFO sqlalchemy.engine.Engine [generated in 0.00241s] ('Username: ',)\n",
      "Username: patrick\n",
      "Username: sandy\n",
      "Username: spongebob\n",
      "2022-04-05 19:06:35,933 INFO sqlalchemy.engine.Engine ROLLBACK\n"
     ]
    }
   ],
   "source": [
    "from sqlalchemy import func, cast\n",
    "stmt = (\n",
    "    select(\n",
    "        (\"Username: \" + user_table.c.name).label(\"username\"),\n",
    "    ).order_by(user_table.c.name)\n",
    ")\n",
    "with engine.connect() as conn:\n",
    "    for row in conn.execute(stmt):\n",
    "        print(f\"{row.username}\")\n"
   ]
  },
  {
   "cell_type": "markdown",
   "metadata": {},
   "source": [
    "#### Select with Textual Column Expressions"
   ]
  },
  {
   "cell_type": "code",
   "execution_count": 55,
   "metadata": {},
   "outputs": [
    {
     "name": "stdout",
     "output_type": "stream",
     "text": [
      "2022-04-05 19:06:35,980 INFO sqlalchemy.engine.Engine BEGIN (implicit)\n",
      "2022-04-05 19:06:35,981 INFO sqlalchemy.engine.Engine SELECT 'some phrase', user_account.name \n",
      "FROM user_account ORDER BY user_account.name\n",
      "2022-04-05 19:06:35,982 INFO sqlalchemy.engine.Engine [generated in 0.00334s] ()\n",
      "[('some phrase', 'patrick'), ('some phrase', 'sandy'), ('some phrase', 'spongebob')]\n",
      "2022-04-05 19:06:35,985 INFO sqlalchemy.engine.Engine ROLLBACK\n"
     ]
    }
   ],
   "source": [
    "from sqlalchemy import text\n",
    "stmt = (\n",
    "    select(\n",
    "        text(\"'some phrase'\"), user_table.c.name\n",
    "    ).order_by(user_table.c.name)\n",
    ")\n",
    "with engine.connect() as conn:\n",
    "    print(conn.execute(stmt).all())\n",
    "\n",
    "\n"
   ]
  },
  {
   "cell_type": "code",
   "execution_count": 56,
   "metadata": {},
   "outputs": [
    {
     "name": "stdout",
     "output_type": "stream",
     "text": [
      "2022-04-05 19:06:36,020 INFO sqlalchemy.engine.Engine BEGIN (implicit)\n",
      "2022-04-05 19:06:36,023 INFO sqlalchemy.engine.Engine SELECT 'some phrase' AS p, user_account.name \n",
      "FROM user_account ORDER BY user_account.name\n",
      "2022-04-05 19:06:36,025 INFO sqlalchemy.engine.Engine [generated in 0.00386s] ()\n",
      "some phrase, patrick\n",
      "some phrase, sandy\n",
      "some phrase, spongebob\n",
      "2022-04-05 19:06:36,027 INFO sqlalchemy.engine.Engine ROLLBACK\n"
     ]
    }
   ],
   "source": [
    "from sqlalchemy import literal_column\n",
    "stmt = (\n",
    "    select(\n",
    "        literal_column(\"'some phrase'\").label(\"p\"), user_table.c.name\n",
    "    ).order_by(user_table.c.name)\n",
    ")\n",
    "with engine.connect() as conn:\n",
    "    for row in conn.execute(stmt):\n",
    "        print(f\"{row.p}, {row.name}\")\n",
    "\n",
    "\n"
   ]
  },
  {
   "cell_type": "markdown",
   "metadata": {},
   "source": [
    "### The WHERE clause"
   ]
  },
  {
   "cell_type": "code",
   "execution_count": 57,
   "metadata": {},
   "outputs": [
    {
     "name": "stdout",
     "output_type": "stream",
     "text": [
      "user_account.name = :name_1\n"
     ]
    }
   ],
   "source": [
    "print(user_table.c.name == 'squidward')"
   ]
  },
  {
   "cell_type": "code",
   "execution_count": 58,
   "metadata": {},
   "outputs": [
    {
     "name": "stdout",
     "output_type": "stream",
     "text": [
      "address.user_id > :user_id_1\n"
     ]
    }
   ],
   "source": [
    "print(address_table.c.user_id > 10)"
   ]
  },
  {
   "cell_type": "code",
   "execution_count": 59,
   "metadata": {},
   "outputs": [
    {
     "name": "stdout",
     "output_type": "stream",
     "text": [
      "SELECT user_account.id, user_account.name, user_account.fullname \n",
      "FROM user_account \n",
      "WHERE user_account.name = :name_1\n"
     ]
    }
   ],
   "source": [
    "print(select(user_table).where(user_table.c.name == 'squidward'))\n"
   ]
  },
  {
   "cell_type": "code",
   "execution_count": 60,
   "metadata": {},
   "outputs": [
    {
     "name": "stdout",
     "output_type": "stream",
     "text": [
      "SELECT address.email_address \n",
      "FROM address, user_account \n",
      "WHERE user_account.name = :name_1 AND address.user_id = user_account.id\n"
     ]
    }
   ],
   "source": [
    "print(\n",
    "    select(address_table.c.email_address).\n",
    "    where(user_table.c.name == 'squidward').\n",
    "    where(address_table.c.user_id == user_table.c.id)\n",
    ")\n"
   ]
  },
  {
   "cell_type": "code",
   "execution_count": 61,
   "metadata": {},
   "outputs": [
    {
     "name": "stdout",
     "output_type": "stream",
     "text": [
      "SELECT address.email_address \n",
      "FROM address, user_account \n",
      "WHERE user_account.name = :name_1 AND address.user_id = user_account.id\n"
     ]
    }
   ],
   "source": [
    "print(\n",
    "    select(address_table.c.email_address).\n",
    "    where(\n",
    "         user_table.c.name == 'squidward',\n",
    "         address_table.c.user_id == user_table.c.id\n",
    "    )\n",
    ")\n"
   ]
  },
  {
   "cell_type": "code",
   "execution_count": 62,
   "metadata": {},
   "outputs": [
    {
     "name": "stdout",
     "output_type": "stream",
     "text": [
      "SELECT address.email_address \n",
      "FROM address, user_account \n",
      "WHERE (user_account.name = :name_1 OR user_account.name = :name_2) AND address.user_id = user_account.id\n"
     ]
    }
   ],
   "source": [
    "from sqlalchemy import and_, or_\n",
    "print(\n",
    "    select(Address.email_address).\n",
    "    where(\n",
    "        and_(\n",
    "            or_(User.name == 'squidward', User.name == 'sandy'),\n",
    "            Address.user_id == User.id\n",
    "        )\n",
    "    )\n",
    ")\n"
   ]
  },
  {
   "cell_type": "code",
   "execution_count": 63,
   "metadata": {},
   "outputs": [
    {
     "name": "stdout",
     "output_type": "stream",
     "text": [
      "SELECT user_account.id, user_account.name, user_account.fullname \n",
      "FROM user_account \n",
      "WHERE user_account.name = :name_1 AND user_account.fullname = :fullname_1\n"
     ]
    }
   ],
   "source": [
    "print(\n",
    "    select(User).filter_by(name='spongebob', fullname='Spongebob Squarepants')\n",
    ")\n"
   ]
  },
  {
   "cell_type": "markdown",
   "metadata": {},
   "source": [
    "### Explicit FROM clauses and JOINs"
   ]
  },
  {
   "cell_type": "code",
   "execution_count": 64,
   "metadata": {},
   "outputs": [
    {
     "name": "stdout",
     "output_type": "stream",
     "text": [
      "SELECT user_account.name \n",
      "FROM user_account\n"
     ]
    }
   ],
   "source": [
    "print(select(user_table.c.name))\n"
   ]
  },
  {
   "cell_type": "code",
   "execution_count": 65,
   "metadata": {},
   "outputs": [
    {
     "name": "stdout",
     "output_type": "stream",
     "text": [
      "SELECT user_account.name, address.email_address \n",
      "FROM user_account, address\n"
     ]
    }
   ],
   "source": [
    "print(select(user_table.c.name, address_table.c.email_address))\n"
   ]
  },
  {
   "cell_type": "code",
   "execution_count": 66,
   "metadata": {},
   "outputs": [
    {
     "name": "stdout",
     "output_type": "stream",
     "text": [
      "2022-04-05 19:06:36,495 INFO sqlalchemy.engine.Engine BEGIN (implicit)\n",
      "2022-04-05 19:06:36,496 INFO sqlalchemy.engine.Engine SELECT user_account.name, address.email_address \n",
      "FROM user_account, address \n",
      "WHERE user_account.id = address.user_id\n",
      "2022-04-05 19:06:36,497 INFO sqlalchemy.engine.Engine [generated in 0.00242s] ()\n",
      "('spongebob', 'spongebob@sqlalchemy.org')\n",
      "('sandy', 'sandy@sqlalchemy.org')\n",
      "('sandy', 'sandy@squirrelpower.org')\n",
      "2022-04-05 19:06:36,499 INFO sqlalchemy.engine.Engine ROLLBACK\n"
     ]
    }
   ],
   "source": [
    "with engine.connect() as conn:\n",
    "    result = conn.execute(\n",
    "        select(user_table.c.name, address_table.c.email_address)\\\n",
    "            .where(user_table.c.id == address_table.c.user_id)\n",
    "    )\n",
    "    for row in result:\n",
    "        print(row)"
   ]
  },
  {
   "cell_type": "code",
   "execution_count": 67,
   "metadata": {},
   "outputs": [
    {
     "name": "stdout",
     "output_type": "stream",
     "text": [
      "SELECT user_account.name, address.email_address \n",
      "FROM user_account JOIN address ON user_account.id = address.user_id\n"
     ]
    }
   ],
   "source": [
    "print(\n",
    "    select(user_table.c.name, address_table.c.email_address).\n",
    "    join_from(user_table, address_table)\n",
    ")"
   ]
  },
  {
   "cell_type": "code",
   "execution_count": 68,
   "metadata": {},
   "outputs": [
    {
     "name": "stdout",
     "output_type": "stream",
     "text": [
      "SELECT user_account.name, address.email_address \n",
      "FROM user_account JOIN address ON user_account.id = address.user_id\n"
     ]
    }
   ],
   "source": [
    "print(\n",
    "    select(user_table.c.name, address_table.c.email_address).\n",
    "    join(address_table)\n",
    ")\n"
   ]
  },
  {
   "cell_type": "code",
   "execution_count": 69,
   "metadata": {},
   "outputs": [
    {
     "name": "stdout",
     "output_type": "stream",
     "text": [
      "SELECT address.email_address \n",
      "FROM user_account JOIN address ON user_account.id = address.user_id\n"
     ]
    }
   ],
   "source": [
    "print(\n",
    "    select(address_table.c.email_address).\n",
    "    select_from(user_table).join(address_table)\n",
    ")\n"
   ]
  },
  {
   "cell_type": "code",
   "execution_count": 70,
   "metadata": {},
   "outputs": [
    {
     "name": "stdout",
     "output_type": "stream",
     "text": [
      "SELECT count(:count_2) AS count_1 \n",
      "FROM user_account\n"
     ]
    }
   ],
   "source": [
    "from sqlalchemy import func\n",
    "print (\n",
    "    select(func.count('*')).select_from(user_table)\n",
    ")"
   ]
  },
  {
   "cell_type": "markdown",
   "metadata": {},
   "source": [
    "#### Setting the ON Clause"
   ]
  },
  {
   "cell_type": "code",
   "execution_count": 71,
   "metadata": {},
   "outputs": [
    {
     "name": "stdout",
     "output_type": "stream",
     "text": [
      "SELECT address.email_address \n",
      "FROM user_account JOIN address ON user_account.id = address.user_id\n"
     ]
    }
   ],
   "source": [
    "print(\n",
    "    select(address_table.c.email_address).\n",
    "    select_from(user_table).\n",
    "    join(address_table, user_table.c.id == address_table.c.user_id)\n",
    ")"
   ]
  },
  {
   "cell_type": "markdown",
   "metadata": {},
   "source": [
    "#### OUTER and FULL join"
   ]
  },
  {
   "cell_type": "code",
   "execution_count": 72,
   "metadata": {},
   "outputs": [
    {
     "name": "stdout",
     "output_type": "stream",
     "text": [
      "SELECT user_account.id, user_account.name, user_account.fullname \n",
      "FROM user_account LEFT OUTER JOIN address ON user_account.id = address.user_id\n"
     ]
    }
   ],
   "source": [
    "print(\n",
    "    select(user_table).join(address_table, isouter=True)\n",
    ")"
   ]
  },
  {
   "cell_type": "code",
   "execution_count": 73,
   "metadata": {},
   "outputs": [
    {
     "name": "stdout",
     "output_type": "stream",
     "text": [
      "SELECT user_account.id, user_account.name, user_account.fullname \n",
      "FROM user_account FULL OUTER JOIN address ON user_account.id = address.user_id\n"
     ]
    }
   ],
   "source": [
    "print(\n",
    "    select(user_table).join(address_table, full=True)\n",
    ")"
   ]
  },
  {
   "cell_type": "markdown",
   "metadata": {},
   "source": [
    "### ORDER BY, GROUP BY, HAVING"
   ]
  },
  {
   "cell_type": "markdown",
   "metadata": {},
   "source": [
    "#### ORDER BY"
   ]
  },
  {
   "cell_type": "code",
   "execution_count": 74,
   "metadata": {},
   "outputs": [
    {
     "name": "stdout",
     "output_type": "stream",
     "text": [
      "SELECT user_account.id, user_account.name, user_account.fullname \n",
      "FROM user_account ORDER BY user_account.name\n"
     ]
    }
   ],
   "source": [
    "print(select(user_table).order_by(user_table.c.name))"
   ]
  },
  {
   "cell_type": "code",
   "execution_count": 75,
   "metadata": {},
   "outputs": [
    {
     "name": "stdout",
     "output_type": "stream",
     "text": [
      "SELECT user_account.id, user_account.name, user_account.fullname \n",
      "FROM user_account ORDER BY user_account.fullname DESC\n"
     ]
    }
   ],
   "source": [
    "print(select(User).order_by(User.fullname.desc()))"
   ]
  },
  {
   "cell_type": "markdown",
   "metadata": {},
   "source": [
    "#### Aggregate functions with GROUP BY / HAVING"
   ]
  },
  {
   "cell_type": "code",
   "execution_count": 76,
   "metadata": {},
   "outputs": [
    {
     "name": "stdout",
     "output_type": "stream",
     "text": [
      "count(user_account.id)\n"
     ]
    }
   ],
   "source": [
    "from sqlalchemy import func\n",
    "count_fn = func.count(user_table.c.id)\n",
    "print(count_fn)"
   ]
  },
  {
   "cell_type": "code",
   "execution_count": 77,
   "metadata": {},
   "outputs": [
    {
     "name": "stdout",
     "output_type": "stream",
     "text": [
      "2022-04-05 19:07:52,666 INFO sqlalchemy.engine.Engine BEGIN (implicit)\n",
      "2022-04-05 19:07:52,668 INFO sqlalchemy.engine.Engine SELECT user_account.name, count(address.id) AS count \n",
      "FROM user_account JOIN address ON user_account.id = address.user_id GROUP BY user_account.name \n",
      "HAVING count(address.id) > ?\n",
      "2022-04-05 19:07:52,669 INFO sqlalchemy.engine.Engine [generated in 0.00354s] (1,)\n",
      "[('sandy', 2)]\n",
      "2022-04-05 19:07:52,675 INFO sqlalchemy.engine.Engine ROLLBACK\n"
     ]
    }
   ],
   "source": [
    "with engine.connect() as conn:\n",
    "    result = conn.execute(\n",
    "        select(User.name, func.count(Address.id).label(\"count\")).\n",
    "        join(Address).\n",
    "        group_by(User.name).\n",
    "        having(func.count(Address.id) > 1)\n",
    "    )\n",
    "    print(result.all())"
   ]
  }
 ],
 "metadata": {
  "interpreter": {
   "hash": "4938d481351b2a84d419e5f1a1d6b819b6a63d8a31c9c52db810fb61e1d79b39"
  },
  "kernelspec": {
   "display_name": "Python 3.10.4 64-bit",
   "language": "python",
   "name": "python3"
  },
  "language_info": {
   "codemirror_mode": {
    "name": "ipython",
    "version": 3
   },
   "file_extension": ".py",
   "mimetype": "text/x-python",
   "name": "python",
   "nbconvert_exporter": "python",
   "pygments_lexer": "ipython3",
   "version": "3.10.4"
  },
  "orig_nbformat": 4
 },
 "nbformat": 4,
 "nbformat_minor": 2
}
