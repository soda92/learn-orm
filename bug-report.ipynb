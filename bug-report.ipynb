{
 "cells": [
  {
   "cell_type": "code",
   "execution_count": 1,
   "metadata": {},
   "outputs": [
    {
     "name": "stdout",
     "output_type": "stream",
     "text": [
      "2022-04-03 17:59:32,422 INFO sqlalchemy.engine.Engine BEGIN (implicit)\n",
      "2022-04-03 17:59:32,423 INFO sqlalchemy.engine.Engine PRAGMA main.table_info(\"user_account\")\n",
      "2022-04-03 17:59:32,424 INFO sqlalchemy.engine.Engine [raw sql] ()\n",
      "2022-04-03 17:59:32,424 INFO sqlalchemy.engine.Engine PRAGMA temp.table_info(\"user_account\")\n",
      "2022-04-03 17:59:32,425 INFO sqlalchemy.engine.Engine [raw sql] ()\n",
      "2022-04-03 17:59:32,427 INFO sqlalchemy.engine.Engine PRAGMA main.table_info(\"address\")\n",
      "2022-04-03 17:59:32,427 INFO sqlalchemy.engine.Engine [raw sql] ()\n",
      "2022-04-03 17:59:32,428 INFO sqlalchemy.engine.Engine PRAGMA temp.table_info(\"address\")\n",
      "2022-04-03 17:59:32,429 INFO sqlalchemy.engine.Engine [raw sql] ()\n",
      "2022-04-03 17:59:32,430 INFO sqlalchemy.engine.Engine \n",
      "CREATE TABLE user_account (\n",
      "\tid INTEGER NOT NULL, \n",
      "\tname VARCHAR(30), \n",
      "\tfullname VARCHAR, \n",
      "\tPRIMARY KEY (id)\n",
      ")\n",
      "\n",
      "\n",
      "2022-04-03 17:59:32,431 INFO sqlalchemy.engine.Engine [no key 0.00064s] ()\n",
      "2022-04-03 17:59:32,432 INFO sqlalchemy.engine.Engine \n",
      "CREATE TABLE address (\n",
      "\tid INTEGER NOT NULL, \n",
      "\temail_address VARCHAR NOT NULL, \n",
      "\tuser_id INTEGER, \n",
      "\tPRIMARY KEY (id), \n",
      "\tFOREIGN KEY(user_id) REFERENCES user_account (id)\n",
      ")\n",
      "\n",
      "\n",
      "2022-04-03 17:59:32,433 INFO sqlalchemy.engine.Engine [no key 0.00088s] ()\n",
      "2022-04-03 17:59:32,434 INFO sqlalchemy.engine.Engine COMMIT\n"
     ]
    }
   ],
   "source": [
    "from sqlalchemy.orm import registry\n",
    "\n",
    "mapper_registry = registry()\n",
    "Base = mapper_registry.generate_base()\n",
    "\n",
    "from sqlalchemy import select\n",
    "from sqlalchemy import Table, Column, Integer, String\n",
    "from sqlalchemy import ForeignKey\n",
    "\n",
    "from sqlalchemy.orm import relationship\n",
    "from sqlalchemy.orm import Session\n",
    "\n",
    "from sqlalchemy import create_engine\n",
    "\n",
    "engine = create_engine(\"sqlite+pysqlite:///:memory:\", echo=True, future=True)\n",
    "\n",
    "\n",
    "class User(Base):\n",
    "    __tablename__ = \"user_account\"\n",
    "    id = Column(Integer, primary_key=True)\n",
    "    name = Column(String(30))\n",
    "    fullname = Column(String)\n",
    "    addresses = relationship(\"Address\", back_populates=\"user\")\n",
    "\n",
    "    def __repr__(self):\n",
    "        return (\n",
    "            f\"User(id={self.id!r},\"\n",
    "            f\" name={self.name!r},\"\n",
    "            f\" fullname={self.fullname!r})\"\n",
    "        )\n",
    "\n",
    "\n",
    "class Address(Base):\n",
    "    __tablename__ = \"address\"\n",
    "    id = Column(Integer, primary_key=True)\n",
    "    email_address = Column(String, nullable=False)\n",
    "    user_id = Column(Integer, ForeignKey(\"user_account.id\"))\n",
    "    user = relationship(\"User\", back_populates=\"addresses\")\n",
    "\n",
    "    def __repr__(self):\n",
    "        return f\"Address(id={self.id!r},\" f\" email_address=\" f\"{self.email_address!r})\""
   ]
  },
  {
   "cell_type": "code",
   "execution_count": null,
   "metadata": {},
   "outputs": [],
   "source": [
    "mapper_registry.metadata.create_all(engine)"
   ]
  },
  {
   "cell_type": "code",
   "execution_count": 8,
   "metadata": {},
   "outputs": [
    {
     "name": "stdout",
     "output_type": "stream",
     "text": [
      "2022-04-03 18:02:31,523 INFO sqlalchemy.engine.Engine BEGIN (implicit)\n",
      "2022-04-03 18:02:31,525 INFO sqlalchemy.engine.Engine PRAGMA main.table_info(\"user_account\")\n",
      "2022-04-03 18:02:31,526 INFO sqlalchemy.engine.Engine [raw sql] ()\n",
      "2022-04-03 18:02:31,527 INFO sqlalchemy.engine.Engine PRAGMA main.table_info(\"address\")\n",
      "2022-04-03 18:02:31,528 INFO sqlalchemy.engine.Engine [raw sql] ()\n",
      "2022-04-03 18:02:31,531 INFO sqlalchemy.engine.Engine COMMIT\n"
     ]
    }
   ],
   "source": [
    "from sqlalchemy import MetaData\n",
    "\n",
    "metadata_obj = MetaData()\n",
    "\n",
    "user_table = Table(\n",
    "    \"user_account\",\n",
    "    metadata_obj,\n",
    "    Column(\"id\", Integer, primary_key=True),\n",
    "    Column(\"name\", String(30)),\n",
    "    Column(\"fullname\", String),\n",
    ")\n",
    "\n",
    "address_table = Table(\n",
    "    \"address\",\n",
    "    metadata_obj,\n",
    "    Column(\"id\", Integer, primary_key=True),\n",
    "    Column(\"user_id\", ForeignKey(\"user_account.id\"), nullable=False),\n",
    "    Column(\"email_address\", String, nullable=False),\n",
    ")\n",
    "metadata_obj.create_all(engine)\n"
   ]
  },
  {
   "cell_type": "code",
   "execution_count": 9,
   "metadata": {},
   "outputs": [],
   "source": [
    "from sqlalchemy import insert\n",
    "stmt = insert(user_table).\\\n",
    "    values(name='spongebob', \n",
    "    fullname=\"Spongebob Squarepants\")"
   ]
  },
  {
   "cell_type": "code",
   "execution_count": 6,
   "metadata": {},
   "outputs": [
    {
     "name": "stdout",
     "output_type": "stream",
     "text": [
      "2022-04-03 18:00:46,141 INFO sqlalchemy.engine.Engine BEGIN (implicit)\n",
      "2022-04-03 18:00:46,142 INFO sqlalchemy.engine.Engine INSERT INTO address (user_id, email_address) VALUES ((SELECT user_account.id \n",
      "FROM user_account \n",
      "WHERE user_account.name = ?), ?)\n",
      "2022-04-03 18:00:46,143 INFO sqlalchemy.engine.Engine [generated in 0.00231s] (('spongebob', 'spongebob@sqlalchemy.org'), ('sandy', 'sandy@sqlalchemy.org'), ('sandy', 'sandy@squirrelpower.org'))\n",
      "2022-04-03 18:00:46,144 INFO sqlalchemy.engine.Engine COMMIT\n"
     ]
    }
   ],
   "source": [
    "from sqlalchemy import select, bindparam\n",
    "\n",
    "scalar_subq = (\n",
    "    select(user_table.c.id)\n",
    "    .where(user_table.c.name == bindparam(\"username\"))\n",
    "    .scalar_subquery()\n",
    ")\n",
    "\n",
    "with engine.connect() as conn:\n",
    "    result = conn.execute(\n",
    "        insert(address_table).values(user_id=scalar_subq),\n",
    "        [\n",
    "            {\"username\": \"spongebob\", \"email_address\": \"spongebob@sqlalchemy.org\"},\n",
    "            {\"username\": \"sandy\", \"email_address\": \"sandy@sqlalchemy.org\"},\n",
    "            {\"username\": \"sandy\", \"email_address\": \"sandy@squirrelpower.org\"},\n",
    "        ],\n",
    "    )\n",
    "    conn.commit()"
   ]
  },
  {
   "cell_type": "code",
   "execution_count": 7,
   "metadata": {},
   "outputs": [
    {
     "name": "stdout",
     "output_type": "stream",
     "text": [
      "2022-04-03 18:00:50,387 INFO sqlalchemy.engine.Engine BEGIN (implicit)\n",
      "2022-04-03 18:00:50,390 INFO sqlalchemy.engine.Engine SELECT user_account.id, user_account.name, user_account.fullname \n",
      "FROM user_account \n",
      "WHERE user_account.name = ?\n",
      "2022-04-03 18:00:50,392 INFO sqlalchemy.engine.Engine [cached since 35.49s ago] ('spongebob',)\n",
      "2022-04-03 18:00:50,393 INFO sqlalchemy.engine.Engine ROLLBACK\n"
     ]
    }
   ],
   "source": [
    "stmt = select(User).where(User.name == 'spongebob')\n",
    "with Session(engine) as session:\n",
    "    for row in session.execute(stmt):\n",
    "        print(row)"
   ]
  },
  {
   "cell_type": "code",
   "execution_count": 10,
   "metadata": {},
   "outputs": [
    {
     "name": "stderr",
     "output_type": "stream",
     "text": [
      "C:\\Users\\18463\\AppData\\Local\\Temp\\ipykernel_17708\\2657691811.py:1: SAWarning: This declarative base already contains a class with the same class name and module name as __main__.User, and will be replaced in the string-lookup table.\n",
      "  class User(Base):\n",
      "C:\\Users\\18463\\AppData\\Local\\Temp\\ipykernel_17708\\2657691811.py:10: SAWarning: This declarative base already contains a class with the same class name and module name as __main__.Address, and will be replaced in the string-lookup table.\n",
      "  class Address(Base):\n"
     ]
    }
   ],
   "source": [
    "class User(Base):\n",
    "    __table__ = user_table\n",
    "\n",
    "    addresses = relationship(\"Address\", back_populates=\"user\")\n",
    "\n",
    "    def __repr__(self):\n",
    "        return f\"User({self.name!r}, {self.fullname!r})\"\n",
    "\n",
    "\n",
    "class Address(Base):\n",
    "    __table__ = address_table\n",
    "\n",
    "    user = relationship(\"User\", back_populates=\"addresses\")\n",
    "\n",
    "    def __repr__(self):\n",
    "        return f\"Address({self.email_address!r})\""
   ]
  },
  {
   "cell_type": "code",
   "execution_count": 11,
   "metadata": {},
   "outputs": [
    {
     "name": "stdout",
     "output_type": "stream",
     "text": [
      "2022-04-03 18:02:53,028 INFO sqlalchemy.engine.Engine BEGIN (implicit)\n",
      "2022-04-03 18:02:53,031 INFO sqlalchemy.engine.Engine ROLLBACK\n"
     ]
    },
    {
     "ename": "InvalidRequestError",
     "evalue": "Multiple classes found for path \"Address\" in the registry of this declarative base. Please use a fully module-qualified path.",
     "output_type": "error",
     "traceback": [
      "\u001b[1;31m---------------------------------------------------------------------------\u001b[0m",
      "\u001b[1;31mInvalidRequestError\u001b[0m                       Traceback (most recent call last)",
      "\u001b[1;32mc:\\Users\\18463\\Documents\\GitHub\\learn-orm\\bug-report.ipynb Cell 9'\u001b[0m in \u001b[0;36m<cell line: 2>\u001b[1;34m()\u001b[0m\n\u001b[0;32m      <a href='vscode-notebook-cell:/c%3A/Users/18463/Documents/GitHub/learn-orm/bug-report.ipynb#ch0000013?line=0'>1</a>\u001b[0m stmt \u001b[39m=\u001b[39m select(User)\u001b[39m.\u001b[39mwhere(User\u001b[39m.\u001b[39mname \u001b[39m==\u001b[39m \u001b[39m'\u001b[39m\u001b[39mspongebob\u001b[39m\u001b[39m'\u001b[39m)\n\u001b[0;32m      <a href='vscode-notebook-cell:/c%3A/Users/18463/Documents/GitHub/learn-orm/bug-report.ipynb#ch0000013?line=1'>2</a>\u001b[0m \u001b[39mwith\u001b[39;00m Session(engine) \u001b[39mas\u001b[39;00m session:\n\u001b[1;32m----> <a href='vscode-notebook-cell:/c%3A/Users/18463/Documents/GitHub/learn-orm/bug-report.ipynb#ch0000013?line=2'>3</a>\u001b[0m     \u001b[39mfor\u001b[39;00m row \u001b[39min\u001b[39;00m session\u001b[39m.\u001b[39;49mexecute(stmt):\n\u001b[0;32m      <a href='vscode-notebook-cell:/c%3A/Users/18463/Documents/GitHub/learn-orm/bug-report.ipynb#ch0000013?line=3'>4</a>\u001b[0m         \u001b[39mprint\u001b[39m(row)\n",
      "File \u001b[1;32mC:\\ProgramData\\scoop\\apps\\python\\3.10.4\\lib\\site-packages\\sqlalchemy\\orm\\session.py:1692\u001b[0m, in \u001b[0;36mSession.execute\u001b[1;34m(self, statement, params, execution_options, bind_arguments, _parent_execute_state, _add_event, **kw)\u001b[0m\n\u001b[0;32m   <a href='file:///c%3A/ProgramData/scoop/apps/python/3.10.4/lib/site-packages/sqlalchemy/orm/session.py?line=1689'>1690</a>\u001b[0m \u001b[39melse\u001b[39;00m:\n\u001b[0;32m   <a href='file:///c%3A/ProgramData/scoop/apps/python/3.10.4/lib/site-packages/sqlalchemy/orm/session.py?line=1690'>1691</a>\u001b[0m     conn \u001b[39m=\u001b[39m \u001b[39mself\u001b[39m\u001b[39m.\u001b[39m_connection_for_bind(bind)\n\u001b[1;32m-> <a href='file:///c%3A/ProgramData/scoop/apps/python/3.10.4/lib/site-packages/sqlalchemy/orm/session.py?line=1691'>1692</a>\u001b[0m result \u001b[39m=\u001b[39m conn\u001b[39m.\u001b[39;49m_execute_20(statement, params \u001b[39mor\u001b[39;49;00m {}, execution_options)\n\u001b[0;32m   <a href='file:///c%3A/ProgramData/scoop/apps/python/3.10.4/lib/site-packages/sqlalchemy/orm/session.py?line=1693'>1694</a>\u001b[0m \u001b[39mif\u001b[39;00m compile_state_cls:\n\u001b[0;32m   <a href='file:///c%3A/ProgramData/scoop/apps/python/3.10.4/lib/site-packages/sqlalchemy/orm/session.py?line=1694'>1695</a>\u001b[0m     result \u001b[39m=\u001b[39m compile_state_cls\u001b[39m.\u001b[39morm_setup_cursor_result(\n\u001b[0;32m   <a href='file:///c%3A/ProgramData/scoop/apps/python/3.10.4/lib/site-packages/sqlalchemy/orm/session.py?line=1695'>1696</a>\u001b[0m         \u001b[39mself\u001b[39m,\n\u001b[0;32m   <a href='file:///c%3A/ProgramData/scoop/apps/python/3.10.4/lib/site-packages/sqlalchemy/orm/session.py?line=1696'>1697</a>\u001b[0m         statement,\n\u001b[1;32m   (...)\u001b[0m\n\u001b[0;32m   <a href='file:///c%3A/ProgramData/scoop/apps/python/3.10.4/lib/site-packages/sqlalchemy/orm/session.py?line=1700'>1701</a>\u001b[0m         result,\n\u001b[0;32m   <a href='file:///c%3A/ProgramData/scoop/apps/python/3.10.4/lib/site-packages/sqlalchemy/orm/session.py?line=1701'>1702</a>\u001b[0m     )\n",
      "File \u001b[1;32mC:\\ProgramData\\scoop\\apps\\python\\3.10.4\\lib\\site-packages\\sqlalchemy\\engine\\base.py:1620\u001b[0m, in \u001b[0;36mConnection._execute_20\u001b[1;34m(self, statement, parameters, execution_options)\u001b[0m\n\u001b[0;32m   <a href='file:///c%3A/ProgramData/scoop/apps/python/3.10.4/lib/site-packages/sqlalchemy/engine/base.py?line=1615'>1616</a>\u001b[0m     util\u001b[39m.\u001b[39mraise_(\n\u001b[0;32m   <a href='file:///c%3A/ProgramData/scoop/apps/python/3.10.4/lib/site-packages/sqlalchemy/engine/base.py?line=1616'>1617</a>\u001b[0m         exc\u001b[39m.\u001b[39mObjectNotExecutableError(statement), replace_context\u001b[39m=\u001b[39merr\n\u001b[0;32m   <a href='file:///c%3A/ProgramData/scoop/apps/python/3.10.4/lib/site-packages/sqlalchemy/engine/base.py?line=1617'>1618</a>\u001b[0m     )\n\u001b[0;32m   <a href='file:///c%3A/ProgramData/scoop/apps/python/3.10.4/lib/site-packages/sqlalchemy/engine/base.py?line=1618'>1619</a>\u001b[0m \u001b[39melse\u001b[39;00m:\n\u001b[1;32m-> <a href='file:///c%3A/ProgramData/scoop/apps/python/3.10.4/lib/site-packages/sqlalchemy/engine/base.py?line=1619'>1620</a>\u001b[0m     \u001b[39mreturn\u001b[39;00m meth(\u001b[39mself\u001b[39;49m, args_10style, kwargs_10style, execution_options)\n",
      "File \u001b[1;32mC:\\ProgramData\\scoop\\apps\\python\\3.10.4\\lib\\site-packages\\sqlalchemy\\sql\\elements.py:325\u001b[0m, in \u001b[0;36mClauseElement._execute_on_connection\u001b[1;34m(self, connection, multiparams, params, execution_options, _force)\u001b[0m\n\u001b[0;32m    <a href='file:///c%3A/ProgramData/scoop/apps/python/3.10.4/lib/site-packages/sqlalchemy/sql/elements.py?line=320'>321</a>\u001b[0m \u001b[39mdef\u001b[39;00m \u001b[39m_execute_on_connection\u001b[39m(\n\u001b[0;32m    <a href='file:///c%3A/ProgramData/scoop/apps/python/3.10.4/lib/site-packages/sqlalchemy/sql/elements.py?line=321'>322</a>\u001b[0m     \u001b[39mself\u001b[39m, connection, multiparams, params, execution_options, _force\u001b[39m=\u001b[39m\u001b[39mFalse\u001b[39;00m\n\u001b[0;32m    <a href='file:///c%3A/ProgramData/scoop/apps/python/3.10.4/lib/site-packages/sqlalchemy/sql/elements.py?line=322'>323</a>\u001b[0m ):\n\u001b[0;32m    <a href='file:///c%3A/ProgramData/scoop/apps/python/3.10.4/lib/site-packages/sqlalchemy/sql/elements.py?line=323'>324</a>\u001b[0m     \u001b[39mif\u001b[39;00m _force \u001b[39mor\u001b[39;00m \u001b[39mself\u001b[39m\u001b[39m.\u001b[39msupports_execution:\n\u001b[1;32m--> <a href='file:///c%3A/ProgramData/scoop/apps/python/3.10.4/lib/site-packages/sqlalchemy/sql/elements.py?line=324'>325</a>\u001b[0m         \u001b[39mreturn\u001b[39;00m connection\u001b[39m.\u001b[39;49m_execute_clauseelement(\n\u001b[0;32m    <a href='file:///c%3A/ProgramData/scoop/apps/python/3.10.4/lib/site-packages/sqlalchemy/sql/elements.py?line=325'>326</a>\u001b[0m             \u001b[39mself\u001b[39;49m, multiparams, params, execution_options\n\u001b[0;32m    <a href='file:///c%3A/ProgramData/scoop/apps/python/3.10.4/lib/site-packages/sqlalchemy/sql/elements.py?line=326'>327</a>\u001b[0m         )\n\u001b[0;32m    <a href='file:///c%3A/ProgramData/scoop/apps/python/3.10.4/lib/site-packages/sqlalchemy/sql/elements.py?line=327'>328</a>\u001b[0m     \u001b[39melse\u001b[39;00m:\n\u001b[0;32m    <a href='file:///c%3A/ProgramData/scoop/apps/python/3.10.4/lib/site-packages/sqlalchemy/sql/elements.py?line=328'>329</a>\u001b[0m         \u001b[39mraise\u001b[39;00m exc\u001b[39m.\u001b[39mObjectNotExecutableError(\u001b[39mself\u001b[39m)\n",
      "File \u001b[1;32mC:\\ProgramData\\scoop\\apps\\python\\3.10.4\\lib\\site-packages\\sqlalchemy\\engine\\base.py:1479\u001b[0m, in \u001b[0;36mConnection._execute_clauseelement\u001b[1;34m(self, elem, multiparams, params, execution_options)\u001b[0m\n\u001b[0;32m   <a href='file:///c%3A/ProgramData/scoop/apps/python/3.10.4/lib/site-packages/sqlalchemy/engine/base.py?line=1470'>1471</a>\u001b[0m schema_translate_map \u001b[39m=\u001b[39m execution_options\u001b[39m.\u001b[39mget(\n\u001b[0;32m   <a href='file:///c%3A/ProgramData/scoop/apps/python/3.10.4/lib/site-packages/sqlalchemy/engine/base.py?line=1471'>1472</a>\u001b[0m     \u001b[39m\"\u001b[39m\u001b[39mschema_translate_map\u001b[39m\u001b[39m\"\u001b[39m, \u001b[39mNone\u001b[39;00m\n\u001b[0;32m   <a href='file:///c%3A/ProgramData/scoop/apps/python/3.10.4/lib/site-packages/sqlalchemy/engine/base.py?line=1472'>1473</a>\u001b[0m )\n\u001b[0;32m   <a href='file:///c%3A/ProgramData/scoop/apps/python/3.10.4/lib/site-packages/sqlalchemy/engine/base.py?line=1474'>1475</a>\u001b[0m compiled_cache \u001b[39m=\u001b[39m execution_options\u001b[39m.\u001b[39mget(\n\u001b[0;32m   <a href='file:///c%3A/ProgramData/scoop/apps/python/3.10.4/lib/site-packages/sqlalchemy/engine/base.py?line=1475'>1476</a>\u001b[0m     \u001b[39m\"\u001b[39m\u001b[39mcompiled_cache\u001b[39m\u001b[39m\"\u001b[39m, \u001b[39mself\u001b[39m\u001b[39m.\u001b[39mengine\u001b[39m.\u001b[39m_compiled_cache\n\u001b[0;32m   <a href='file:///c%3A/ProgramData/scoop/apps/python/3.10.4/lib/site-packages/sqlalchemy/engine/base.py?line=1476'>1477</a>\u001b[0m )\n\u001b[1;32m-> <a href='file:///c%3A/ProgramData/scoop/apps/python/3.10.4/lib/site-packages/sqlalchemy/engine/base.py?line=1478'>1479</a>\u001b[0m compiled_sql, extracted_params, cache_hit \u001b[39m=\u001b[39m elem\u001b[39m.\u001b[39;49m_compile_w_cache(\n\u001b[0;32m   <a href='file:///c%3A/ProgramData/scoop/apps/python/3.10.4/lib/site-packages/sqlalchemy/engine/base.py?line=1479'>1480</a>\u001b[0m     dialect\u001b[39m=\u001b[39;49mdialect,\n\u001b[0;32m   <a href='file:///c%3A/ProgramData/scoop/apps/python/3.10.4/lib/site-packages/sqlalchemy/engine/base.py?line=1480'>1481</a>\u001b[0m     compiled_cache\u001b[39m=\u001b[39;49mcompiled_cache,\n\u001b[0;32m   <a href='file:///c%3A/ProgramData/scoop/apps/python/3.10.4/lib/site-packages/sqlalchemy/engine/base.py?line=1481'>1482</a>\u001b[0m     column_keys\u001b[39m=\u001b[39;49mkeys,\n\u001b[0;32m   <a href='file:///c%3A/ProgramData/scoop/apps/python/3.10.4/lib/site-packages/sqlalchemy/engine/base.py?line=1482'>1483</a>\u001b[0m     for_executemany\u001b[39m=\u001b[39;49mfor_executemany,\n\u001b[0;32m   <a href='file:///c%3A/ProgramData/scoop/apps/python/3.10.4/lib/site-packages/sqlalchemy/engine/base.py?line=1483'>1484</a>\u001b[0m     schema_translate_map\u001b[39m=\u001b[39;49mschema_translate_map,\n\u001b[0;32m   <a href='file:///c%3A/ProgramData/scoop/apps/python/3.10.4/lib/site-packages/sqlalchemy/engine/base.py?line=1484'>1485</a>\u001b[0m     linting\u001b[39m=\u001b[39;49m\u001b[39mself\u001b[39;49m\u001b[39m.\u001b[39;49mdialect\u001b[39m.\u001b[39;49mcompiler_linting \u001b[39m|\u001b[39;49m compiler\u001b[39m.\u001b[39;49mWARN_LINTING,\n\u001b[0;32m   <a href='file:///c%3A/ProgramData/scoop/apps/python/3.10.4/lib/site-packages/sqlalchemy/engine/base.py?line=1485'>1486</a>\u001b[0m )\n\u001b[0;32m   <a href='file:///c%3A/ProgramData/scoop/apps/python/3.10.4/lib/site-packages/sqlalchemy/engine/base.py?line=1486'>1487</a>\u001b[0m ret \u001b[39m=\u001b[39m \u001b[39mself\u001b[39m\u001b[39m.\u001b[39m_execute_context(\n\u001b[0;32m   <a href='file:///c%3A/ProgramData/scoop/apps/python/3.10.4/lib/site-packages/sqlalchemy/engine/base.py?line=1487'>1488</a>\u001b[0m     dialect,\n\u001b[0;32m   <a href='file:///c%3A/ProgramData/scoop/apps/python/3.10.4/lib/site-packages/sqlalchemy/engine/base.py?line=1488'>1489</a>\u001b[0m     dialect\u001b[39m.\u001b[39mexecution_ctx_cls\u001b[39m.\u001b[39m_init_compiled,\n\u001b[1;32m   (...)\u001b[0m\n\u001b[0;32m   <a href='file:///c%3A/ProgramData/scoop/apps/python/3.10.4/lib/site-packages/sqlalchemy/engine/base.py?line=1496'>1497</a>\u001b[0m     cache_hit\u001b[39m=\u001b[39mcache_hit,\n\u001b[0;32m   <a href='file:///c%3A/ProgramData/scoop/apps/python/3.10.4/lib/site-packages/sqlalchemy/engine/base.py?line=1497'>1498</a>\u001b[0m )\n\u001b[0;32m   <a href='file:///c%3A/ProgramData/scoop/apps/python/3.10.4/lib/site-packages/sqlalchemy/engine/base.py?line=1498'>1499</a>\u001b[0m \u001b[39mif\u001b[39;00m has_events:\n",
      "File \u001b[1;32mC:\\ProgramData\\scoop\\apps\\python\\3.10.4\\lib\\site-packages\\sqlalchemy\\sql\\elements.py:523\u001b[0m, in \u001b[0;36mClauseElement._compile_w_cache\u001b[1;34m(self, dialect, compiled_cache, column_keys, for_executemany, schema_translate_map, **kw)\u001b[0m\n\u001b[0;32m    <a href='file:///c%3A/ProgramData/scoop/apps/python/3.10.4/lib/site-packages/sqlalchemy/sql/elements.py?line=520'>521</a>\u001b[0m \u001b[39mif\u001b[39;00m compiled_sql \u001b[39mis\u001b[39;00m \u001b[39mNone\u001b[39;00m:\n\u001b[0;32m    <a href='file:///c%3A/ProgramData/scoop/apps/python/3.10.4/lib/site-packages/sqlalchemy/sql/elements.py?line=521'>522</a>\u001b[0m     cache_hit \u001b[39m=\u001b[39m dialect\u001b[39m.\u001b[39mCACHE_MISS\n\u001b[1;32m--> <a href='file:///c%3A/ProgramData/scoop/apps/python/3.10.4/lib/site-packages/sqlalchemy/sql/elements.py?line=522'>523</a>\u001b[0m     compiled_sql \u001b[39m=\u001b[39m \u001b[39mself\u001b[39m\u001b[39m.\u001b[39m_compiler(\n\u001b[0;32m    <a href='file:///c%3A/ProgramData/scoop/apps/python/3.10.4/lib/site-packages/sqlalchemy/sql/elements.py?line=523'>524</a>\u001b[0m         dialect,\n\u001b[0;32m    <a href='file:///c%3A/ProgramData/scoop/apps/python/3.10.4/lib/site-packages/sqlalchemy/sql/elements.py?line=524'>525</a>\u001b[0m         cache_key\u001b[39m=\u001b[39melem_cache_key,\n\u001b[0;32m    <a href='file:///c%3A/ProgramData/scoop/apps/python/3.10.4/lib/site-packages/sqlalchemy/sql/elements.py?line=525'>526</a>\u001b[0m         column_keys\u001b[39m=\u001b[39mcolumn_keys,\n\u001b[0;32m    <a href='file:///c%3A/ProgramData/scoop/apps/python/3.10.4/lib/site-packages/sqlalchemy/sql/elements.py?line=526'>527</a>\u001b[0m         for_executemany\u001b[39m=\u001b[39mfor_executemany,\n\u001b[0;32m    <a href='file:///c%3A/ProgramData/scoop/apps/python/3.10.4/lib/site-packages/sqlalchemy/sql/elements.py?line=527'>528</a>\u001b[0m         schema_translate_map\u001b[39m=\u001b[39mschema_translate_map,\n\u001b[0;32m    <a href='file:///c%3A/ProgramData/scoop/apps/python/3.10.4/lib/site-packages/sqlalchemy/sql/elements.py?line=528'>529</a>\u001b[0m         \u001b[39m*\u001b[39m\u001b[39m*\u001b[39mkw\n\u001b[0;32m    <a href='file:///c%3A/ProgramData/scoop/apps/python/3.10.4/lib/site-packages/sqlalchemy/sql/elements.py?line=529'>530</a>\u001b[0m     )\n\u001b[0;32m    <a href='file:///c%3A/ProgramData/scoop/apps/python/3.10.4/lib/site-packages/sqlalchemy/sql/elements.py?line=530'>531</a>\u001b[0m     compiled_cache[key] \u001b[39m=\u001b[39m compiled_sql\n\u001b[0;32m    <a href='file:///c%3A/ProgramData/scoop/apps/python/3.10.4/lib/site-packages/sqlalchemy/sql/elements.py?line=531'>532</a>\u001b[0m \u001b[39melse\u001b[39;00m:\n",
      "File \u001b[1;32mC:\\ProgramData\\scoop\\apps\\python\\3.10.4\\lib\\site-packages\\sqlalchemy\\sql\\elements.py:558\u001b[0m, in \u001b[0;36mClauseElement._compiler\u001b[1;34m(self, dialect, **kw)\u001b[0m\n\u001b[0;32m    <a href='file:///c%3A/ProgramData/scoop/apps/python/3.10.4/lib/site-packages/sqlalchemy/sql/elements.py?line=553'>554</a>\u001b[0m \u001b[39mdef\u001b[39;00m \u001b[39m_compiler\u001b[39m(\u001b[39mself\u001b[39m, dialect, \u001b[39m*\u001b[39m\u001b[39m*\u001b[39mkw):\n\u001b[0;32m    <a href='file:///c%3A/ProgramData/scoop/apps/python/3.10.4/lib/site-packages/sqlalchemy/sql/elements.py?line=554'>555</a>\u001b[0m     \u001b[39m\"\"\"Return a compiler appropriate for this ClauseElement, given a\u001b[39;00m\n\u001b[0;32m    <a href='file:///c%3A/ProgramData/scoop/apps/python/3.10.4/lib/site-packages/sqlalchemy/sql/elements.py?line=555'>556</a>\u001b[0m \u001b[39m    Dialect.\"\"\"\u001b[39;00m\n\u001b[1;32m--> <a href='file:///c%3A/ProgramData/scoop/apps/python/3.10.4/lib/site-packages/sqlalchemy/sql/elements.py?line=557'>558</a>\u001b[0m     \u001b[39mreturn\u001b[39;00m dialect\u001b[39m.\u001b[39mstatement_compiler(dialect, \u001b[39mself\u001b[39m, \u001b[39m*\u001b[39m\u001b[39m*\u001b[39mkw)\n",
      "File \u001b[1;32mC:\\ProgramData\\scoop\\apps\\python\\3.10.4\\lib\\site-packages\\sqlalchemy\\sql\\compiler.py:776\u001b[0m, in \u001b[0;36mSQLCompiler.__init__\u001b[1;34m(self, dialect, statement, cache_key, column_keys, for_executemany, linting, **kwargs)\u001b[0m\n\u001b[0;32m    <a href='file:///c%3A/ProgramData/scoop/apps/python/3.10.4/lib/site-packages/sqlalchemy/sql/compiler.py?line=771'>772</a>\u001b[0m \u001b[39m# a map which tracks \"truncated\" names based on\u001b[39;00m\n\u001b[0;32m    <a href='file:///c%3A/ProgramData/scoop/apps/python/3.10.4/lib/site-packages/sqlalchemy/sql/compiler.py?line=772'>773</a>\u001b[0m \u001b[39m# dialect.label_length or dialect.max_identifier_length\u001b[39;00m\n\u001b[0;32m    <a href='file:///c%3A/ProgramData/scoop/apps/python/3.10.4/lib/site-packages/sqlalchemy/sql/compiler.py?line=773'>774</a>\u001b[0m \u001b[39mself\u001b[39m\u001b[39m.\u001b[39mtruncated_names \u001b[39m=\u001b[39m {}\n\u001b[1;32m--> <a href='file:///c%3A/ProgramData/scoop/apps/python/3.10.4/lib/site-packages/sqlalchemy/sql/compiler.py?line=775'>776</a>\u001b[0m Compiled\u001b[39m.\u001b[39m\u001b[39m__init__\u001b[39m(\u001b[39mself\u001b[39m, dialect, statement, \u001b[39m*\u001b[39m\u001b[39m*\u001b[39mkwargs)\n\u001b[0;32m    <a href='file:///c%3A/ProgramData/scoop/apps/python/3.10.4/lib/site-packages/sqlalchemy/sql/compiler.py?line=777'>778</a>\u001b[0m \u001b[39mif\u001b[39;00m \u001b[39mself\u001b[39m\u001b[39m.\u001b[39misinsert \u001b[39mor\u001b[39;00m \u001b[39mself\u001b[39m\u001b[39m.\u001b[39misupdate \u001b[39mor\u001b[39;00m \u001b[39mself\u001b[39m\u001b[39m.\u001b[39misdelete:\n\u001b[0;32m    <a href='file:///c%3A/ProgramData/scoop/apps/python/3.10.4/lib/site-packages/sqlalchemy/sql/compiler.py?line=778'>779</a>\u001b[0m     \u001b[39mif\u001b[39;00m statement\u001b[39m.\u001b[39m_returning:\n",
      "File \u001b[1;32mC:\\ProgramData\\scoop\\apps\\python\\3.10.4\\lib\\site-packages\\sqlalchemy\\sql\\compiler.py:451\u001b[0m, in \u001b[0;36mCompiled.__init__\u001b[1;34m(self, dialect, statement, schema_translate_map, render_schema_translate, compile_kwargs)\u001b[0m\n\u001b[0;32m    <a href='file:///c%3A/ProgramData/scoop/apps/python/3.10.4/lib/site-packages/sqlalchemy/sql/compiler.py?line=448'>449</a>\u001b[0m \u001b[39mif\u001b[39;00m \u001b[39mself\u001b[39m\u001b[39m.\u001b[39mcan_execute:\n\u001b[0;32m    <a href='file:///c%3A/ProgramData/scoop/apps/python/3.10.4/lib/site-packages/sqlalchemy/sql/compiler.py?line=449'>450</a>\u001b[0m     \u001b[39mself\u001b[39m\u001b[39m.\u001b[39mexecution_options \u001b[39m=\u001b[39m statement\u001b[39m.\u001b[39m_execution_options\n\u001b[1;32m--> <a href='file:///c%3A/ProgramData/scoop/apps/python/3.10.4/lib/site-packages/sqlalchemy/sql/compiler.py?line=450'>451</a>\u001b[0m \u001b[39mself\u001b[39m\u001b[39m.\u001b[39mstring \u001b[39m=\u001b[39m \u001b[39mself\u001b[39m\u001b[39m.\u001b[39mprocess(\u001b[39mself\u001b[39m\u001b[39m.\u001b[39mstatement, \u001b[39m*\u001b[39m\u001b[39m*\u001b[39mcompile_kwargs)\n\u001b[0;32m    <a href='file:///c%3A/ProgramData/scoop/apps/python/3.10.4/lib/site-packages/sqlalchemy/sql/compiler.py?line=452'>453</a>\u001b[0m \u001b[39mif\u001b[39;00m render_schema_translate:\n\u001b[0;32m    <a href='file:///c%3A/ProgramData/scoop/apps/python/3.10.4/lib/site-packages/sqlalchemy/sql/compiler.py?line=453'>454</a>\u001b[0m     \u001b[39mself\u001b[39m\u001b[39m.\u001b[39mstring \u001b[39m=\u001b[39m \u001b[39mself\u001b[39m\u001b[39m.\u001b[39mpreparer\u001b[39m.\u001b[39m_render_schema_translates(\n\u001b[0;32m    <a href='file:///c%3A/ProgramData/scoop/apps/python/3.10.4/lib/site-packages/sqlalchemy/sql/compiler.py?line=454'>455</a>\u001b[0m         \u001b[39mself\u001b[39m\u001b[39m.\u001b[39mstring, schema_translate_map\n\u001b[0;32m    <a href='file:///c%3A/ProgramData/scoop/apps/python/3.10.4/lib/site-packages/sqlalchemy/sql/compiler.py?line=455'>456</a>\u001b[0m     )\n",
      "File \u001b[1;32mC:\\ProgramData\\scoop\\apps\\python\\3.10.4\\lib\\site-packages\\sqlalchemy\\sql\\compiler.py:486\u001b[0m, in \u001b[0;36mCompiled.process\u001b[1;34m(self, obj, **kwargs)\u001b[0m\n\u001b[0;32m    <a href='file:///c%3A/ProgramData/scoop/apps/python/3.10.4/lib/site-packages/sqlalchemy/sql/compiler.py?line=484'>485</a>\u001b[0m \u001b[39mdef\u001b[39;00m \u001b[39mprocess\u001b[39m(\u001b[39mself\u001b[39m, obj, \u001b[39m*\u001b[39m\u001b[39m*\u001b[39mkwargs):\n\u001b[1;32m--> <a href='file:///c%3A/ProgramData/scoop/apps/python/3.10.4/lib/site-packages/sqlalchemy/sql/compiler.py?line=485'>486</a>\u001b[0m     \u001b[39mreturn\u001b[39;00m obj\u001b[39m.\u001b[39m_compiler_dispatch(\u001b[39mself\u001b[39m, \u001b[39m*\u001b[39m\u001b[39m*\u001b[39mkwargs)\n",
      "File \u001b[1;32mC:\\ProgramData\\scoop\\apps\\python\\3.10.4\\lib\\site-packages\\sqlalchemy\\sql\\visitors.py:82\u001b[0m, in \u001b[0;36m_generate_compiler_dispatch.<locals>._compiler_dispatch\u001b[1;34m(self, visitor, **kw)\u001b[0m\n\u001b[0;32m     <a href='file:///c%3A/ProgramData/scoop/apps/python/3.10.4/lib/site-packages/sqlalchemy/sql/visitors.py?line=78'>79</a>\u001b[0m     \u001b[39mreturn\u001b[39;00m visitor\u001b[39m.\u001b[39mvisit_unsupported_compilation(\u001b[39mself\u001b[39m, err, \u001b[39m*\u001b[39m\u001b[39m*\u001b[39mkw)\n\u001b[0;32m     <a href='file:///c%3A/ProgramData/scoop/apps/python/3.10.4/lib/site-packages/sqlalchemy/sql/visitors.py?line=80'>81</a>\u001b[0m \u001b[39melse\u001b[39;00m:\n\u001b[1;32m---> <a href='file:///c%3A/ProgramData/scoop/apps/python/3.10.4/lib/site-packages/sqlalchemy/sql/visitors.py?line=81'>82</a>\u001b[0m     \u001b[39mreturn\u001b[39;00m meth(\u001b[39mself\u001b[39m, \u001b[39m*\u001b[39m\u001b[39m*\u001b[39mkw)\n",
      "File \u001b[1;32mC:\\ProgramData\\scoop\\apps\\python\\3.10.4\\lib\\site-packages\\sqlalchemy\\sql\\compiler.py:3261\u001b[0m, in \u001b[0;36mSQLCompiler.visit_select\u001b[1;34m(self, select_stmt, asfrom, insert_into, fromhints, compound_index, select_wraps_for, lateral, from_linter, **kwargs)\u001b[0m\n\u001b[0;32m   <a href='file:///c%3A/ProgramData/scoop/apps/python/3.10.4/lib/site-packages/sqlalchemy/sql/compiler.py?line=3252'>3253</a>\u001b[0m \u001b[39m# initial setup of SELECT.  the compile_state_factory may now\u001b[39;00m\n\u001b[0;32m   <a href='file:///c%3A/ProgramData/scoop/apps/python/3.10.4/lib/site-packages/sqlalchemy/sql/compiler.py?line=3253'>3254</a>\u001b[0m \u001b[39m# be creating a totally different SELECT from the one that was\u001b[39;00m\n\u001b[0;32m   <a href='file:///c%3A/ProgramData/scoop/apps/python/3.10.4/lib/site-packages/sqlalchemy/sql/compiler.py?line=3254'>3255</a>\u001b[0m \u001b[39m# passed in.  for ORM use this will convert from an ORM-state\u001b[39;00m\n\u001b[0;32m   <a href='file:///c%3A/ProgramData/scoop/apps/python/3.10.4/lib/site-packages/sqlalchemy/sql/compiler.py?line=3255'>3256</a>\u001b[0m \u001b[39m# SELECT to a regular \"Core\" SELECT.  other composed operations\u001b[39;00m\n\u001b[0;32m   <a href='file:///c%3A/ProgramData/scoop/apps/python/3.10.4/lib/site-packages/sqlalchemy/sql/compiler.py?line=3256'>3257</a>\u001b[0m \u001b[39m# such as computation of joins will be performed.\u001b[39;00m\n\u001b[0;32m   <a href='file:///c%3A/ProgramData/scoop/apps/python/3.10.4/lib/site-packages/sqlalchemy/sql/compiler.py?line=3258'>3259</a>\u001b[0m kwargs[\u001b[39m\"\u001b[39m\u001b[39mwithin_columns_clause\u001b[39m\u001b[39m\"\u001b[39m] \u001b[39m=\u001b[39m \u001b[39mFalse\u001b[39;00m\n\u001b[1;32m-> <a href='file:///c%3A/ProgramData/scoop/apps/python/3.10.4/lib/site-packages/sqlalchemy/sql/compiler.py?line=3260'>3261</a>\u001b[0m compile_state \u001b[39m=\u001b[39m select_stmt\u001b[39m.\u001b[39m_compile_state_factory(\n\u001b[0;32m   <a href='file:///c%3A/ProgramData/scoop/apps/python/3.10.4/lib/site-packages/sqlalchemy/sql/compiler.py?line=3261'>3262</a>\u001b[0m     select_stmt, \u001b[39mself\u001b[39m, \u001b[39m*\u001b[39m\u001b[39m*\u001b[39mkwargs\n\u001b[0;32m   <a href='file:///c%3A/ProgramData/scoop/apps/python/3.10.4/lib/site-packages/sqlalchemy/sql/compiler.py?line=3262'>3263</a>\u001b[0m )\n\u001b[0;32m   <a href='file:///c%3A/ProgramData/scoop/apps/python/3.10.4/lib/site-packages/sqlalchemy/sql/compiler.py?line=3263'>3264</a>\u001b[0m select_stmt \u001b[39m=\u001b[39m compile_state\u001b[39m.\u001b[39mstatement\n\u001b[0;32m   <a href='file:///c%3A/ProgramData/scoop/apps/python/3.10.4/lib/site-packages/sqlalchemy/sql/compiler.py?line=3265'>3266</a>\u001b[0m toplevel \u001b[39m=\u001b[39m \u001b[39mnot\u001b[39;00m \u001b[39mself\u001b[39m\u001b[39m.\u001b[39mstack\n",
      "File \u001b[1;32mC:\\ProgramData\\scoop\\apps\\python\\3.10.4\\lib\\site-packages\\sqlalchemy\\sql\\base.py:510\u001b[0m, in \u001b[0;36mCompileState.create_for_statement\u001b[1;34m(cls, statement, compiler, **kw)\u001b[0m\n\u001b[0;32m    <a href='file:///c%3A/ProgramData/scoop/apps/python/3.10.4/lib/site-packages/sqlalchemy/sql/base.py?line=507'>508</a>\u001b[0m     \u001b[39mreturn\u001b[39;00m \u001b[39mcls\u001b[39m(statement, compiler, \u001b[39m*\u001b[39m\u001b[39m*\u001b[39mkw)\n\u001b[0;32m    <a href='file:///c%3A/ProgramData/scoop/apps/python/3.10.4/lib/site-packages/sqlalchemy/sql/base.py?line=508'>509</a>\u001b[0m \u001b[39melse\u001b[39;00m:\n\u001b[1;32m--> <a href='file:///c%3A/ProgramData/scoop/apps/python/3.10.4/lib/site-packages/sqlalchemy/sql/base.py?line=509'>510</a>\u001b[0m     \u001b[39mreturn\u001b[39;00m klass\u001b[39m.\u001b[39mcreate_for_statement(statement, compiler, \u001b[39m*\u001b[39m\u001b[39m*\u001b[39mkw)\n",
      "File \u001b[1;32mC:\\ProgramData\\scoop\\apps\\python\\3.10.4\\lib\\site-packages\\sqlalchemy\\orm\\context.py:696\u001b[0m, in \u001b[0;36mORMSelectCompileState.create_for_statement\u001b[1;34m(cls, statement, compiler, **kw)\u001b[0m\n\u001b[0;32m    <a href='file:///c%3A/ProgramData/scoop/apps/python/3.10.4/lib/site-packages/sqlalchemy/orm/context.py?line=682'>683</a>\u001b[0m \u001b[39mif\u001b[39;00m select_statement\u001b[39m.\u001b[39m_memoized_select_entities:\n\u001b[0;32m    <a href='file:///c%3A/ProgramData/scoop/apps/python/3.10.4/lib/site-packages/sqlalchemy/orm/context.py?line=683'>684</a>\u001b[0m     \u001b[39mself\u001b[39m\u001b[39m.\u001b[39m_memoized_entities \u001b[39m=\u001b[39m {\n\u001b[0;32m    <a href='file:///c%3A/ProgramData/scoop/apps/python/3.10.4/lib/site-packages/sqlalchemy/orm/context.py?line=684'>685</a>\u001b[0m         memoized_entities: _QueryEntity\u001b[39m.\u001b[39mto_compile_state(\n\u001b[0;32m    <a href='file:///c%3A/ProgramData/scoop/apps/python/3.10.4/lib/site-packages/sqlalchemy/orm/context.py?line=685'>686</a>\u001b[0m             \u001b[39mself\u001b[39m,\n\u001b[1;32m   (...)\u001b[0m\n\u001b[0;32m    <a href='file:///c%3A/ProgramData/scoop/apps/python/3.10.4/lib/site-packages/sqlalchemy/orm/context.py?line=692'>693</a>\u001b[0m         )\n\u001b[0;32m    <a href='file:///c%3A/ProgramData/scoop/apps/python/3.10.4/lib/site-packages/sqlalchemy/orm/context.py?line=693'>694</a>\u001b[0m     }\n\u001b[1;32m--> <a href='file:///c%3A/ProgramData/scoop/apps/python/3.10.4/lib/site-packages/sqlalchemy/orm/context.py?line=695'>696</a>\u001b[0m _QueryEntity\u001b[39m.\u001b[39;49mto_compile_state(\n\u001b[0;32m    <a href='file:///c%3A/ProgramData/scoop/apps/python/3.10.4/lib/site-packages/sqlalchemy/orm/context.py?line=696'>697</a>\u001b[0m     \u001b[39mself\u001b[39;49m,\n\u001b[0;32m    <a href='file:///c%3A/ProgramData/scoop/apps/python/3.10.4/lib/site-packages/sqlalchemy/orm/context.py?line=697'>698</a>\u001b[0m     select_statement\u001b[39m.\u001b[39;49m_raw_columns,\n\u001b[0;32m    <a href='file:///c%3A/ProgramData/scoop/apps/python/3.10.4/lib/site-packages/sqlalchemy/orm/context.py?line=698'>699</a>\u001b[0m     \u001b[39mself\u001b[39;49m\u001b[39m.\u001b[39;49m_entities,\n\u001b[0;32m    <a href='file:///c%3A/ProgramData/scoop/apps/python/3.10.4/lib/site-packages/sqlalchemy/orm/context.py?line=699'>700</a>\u001b[0m     is_current_entities\u001b[39m=\u001b[39;49m\u001b[39mTrue\u001b[39;49;00m,\n\u001b[0;32m    <a href='file:///c%3A/ProgramData/scoop/apps/python/3.10.4/lib/site-packages/sqlalchemy/orm/context.py?line=700'>701</a>\u001b[0m )\n\u001b[0;32m    <a href='file:///c%3A/ProgramData/scoop/apps/python/3.10.4/lib/site-packages/sqlalchemy/orm/context.py?line=702'>703</a>\u001b[0m \u001b[39mself\u001b[39m\u001b[39m.\u001b[39mcurrent_path \u001b[39m=\u001b[39m select_statement\u001b[39m.\u001b[39m_compile_options\u001b[39m.\u001b[39m_current_path\n\u001b[0;32m    <a href='file:///c%3A/ProgramData/scoop/apps/python/3.10.4/lib/site-packages/sqlalchemy/orm/context.py?line=704'>705</a>\u001b[0m \u001b[39mself\u001b[39m\u001b[39m.\u001b[39meager_order_by \u001b[39m=\u001b[39m ()\n",
      "File \u001b[1;32mC:\\ProgramData\\scoop\\apps\\python\\3.10.4\\lib\\site-packages\\sqlalchemy\\orm\\context.py:2432\u001b[0m, in \u001b[0;36m_QueryEntity.to_compile_state\u001b[1;34m(cls, compile_state, entities, entities_collection, is_current_entities)\u001b[0m\n\u001b[0;32m   <a href='file:///c%3A/ProgramData/scoop/apps/python/3.10.4/lib/site-packages/sqlalchemy/orm/context.py?line=2429'>2430</a>\u001b[0m \u001b[39mif\u001b[39;00m entity\u001b[39m.\u001b[39mis_selectable:\n\u001b[0;32m   <a href='file:///c%3A/ProgramData/scoop/apps/python/3.10.4/lib/site-packages/sqlalchemy/orm/context.py?line=2430'>2431</a>\u001b[0m     \u001b[39mif\u001b[39;00m \u001b[39m\"\u001b[39m\u001b[39mparententity\u001b[39m\u001b[39m\"\u001b[39m \u001b[39min\u001b[39;00m entity\u001b[39m.\u001b[39m_annotations:\n\u001b[1;32m-> <a href='file:///c%3A/ProgramData/scoop/apps/python/3.10.4/lib/site-packages/sqlalchemy/orm/context.py?line=2431'>2432</a>\u001b[0m         _MapperEntity(\n\u001b[0;32m   <a href='file:///c%3A/ProgramData/scoop/apps/python/3.10.4/lib/site-packages/sqlalchemy/orm/context.py?line=2432'>2433</a>\u001b[0m             compile_state,\n\u001b[0;32m   <a href='file:///c%3A/ProgramData/scoop/apps/python/3.10.4/lib/site-packages/sqlalchemy/orm/context.py?line=2433'>2434</a>\u001b[0m             entity,\n\u001b[0;32m   <a href='file:///c%3A/ProgramData/scoop/apps/python/3.10.4/lib/site-packages/sqlalchemy/orm/context.py?line=2434'>2435</a>\u001b[0m             entities_collection,\n\u001b[0;32m   <a href='file:///c%3A/ProgramData/scoop/apps/python/3.10.4/lib/site-packages/sqlalchemy/orm/context.py?line=2435'>2436</a>\u001b[0m             is_current_entities,\n\u001b[0;32m   <a href='file:///c%3A/ProgramData/scoop/apps/python/3.10.4/lib/site-packages/sqlalchemy/orm/context.py?line=2436'>2437</a>\u001b[0m         )\n\u001b[0;32m   <a href='file:///c%3A/ProgramData/scoop/apps/python/3.10.4/lib/site-packages/sqlalchemy/orm/context.py?line=2437'>2438</a>\u001b[0m     \u001b[39melse\u001b[39;00m:\n\u001b[0;32m   <a href='file:///c%3A/ProgramData/scoop/apps/python/3.10.4/lib/site-packages/sqlalchemy/orm/context.py?line=2438'>2439</a>\u001b[0m         _ColumnEntity\u001b[39m.\u001b[39m_for_columns(\n\u001b[0;32m   <a href='file:///c%3A/ProgramData/scoop/apps/python/3.10.4/lib/site-packages/sqlalchemy/orm/context.py?line=2439'>2440</a>\u001b[0m             compile_state,\n\u001b[0;32m   <a href='file:///c%3A/ProgramData/scoop/apps/python/3.10.4/lib/site-packages/sqlalchemy/orm/context.py?line=2440'>2441</a>\u001b[0m             entity\u001b[39m.\u001b[39m_select_iterable,\n\u001b[0;32m   <a href='file:///c%3A/ProgramData/scoop/apps/python/3.10.4/lib/site-packages/sqlalchemy/orm/context.py?line=2441'>2442</a>\u001b[0m             entities_collection,\n\u001b[0;32m   <a href='file:///c%3A/ProgramData/scoop/apps/python/3.10.4/lib/site-packages/sqlalchemy/orm/context.py?line=2442'>2443</a>\u001b[0m             idx,\n\u001b[0;32m   <a href='file:///c%3A/ProgramData/scoop/apps/python/3.10.4/lib/site-packages/sqlalchemy/orm/context.py?line=2443'>2444</a>\u001b[0m         )\n",
      "File \u001b[1;32mC:\\ProgramData\\scoop\\apps\\python\\3.10.4\\lib\\site-packages\\sqlalchemy\\orm\\context.py:2496\u001b[0m, in \u001b[0;36m_MapperEntity.__init__\u001b[1;34m(self, compile_state, entity, entities_collection, is_current_entities)\u001b[0m\n\u001b[0;32m   <a href='file:///c%3A/ProgramData/scoop/apps/python/3.10.4/lib/site-packages/sqlalchemy/orm/context.py?line=2492'>2493</a>\u001b[0m     compile_state\u001b[39m.\u001b[39m_has_orm_entities \u001b[39m=\u001b[39m \u001b[39mTrue\u001b[39;00m\n\u001b[0;32m   <a href='file:///c%3A/ProgramData/scoop/apps/python/3.10.4/lib/site-packages/sqlalchemy/orm/context.py?line=2494'>2495</a>\u001b[0m entity \u001b[39m=\u001b[39m entity\u001b[39m.\u001b[39m_annotations[\u001b[39m\"\u001b[39m\u001b[39mparententity\u001b[39m\u001b[39m\"\u001b[39m]\n\u001b[1;32m-> <a href='file:///c%3A/ProgramData/scoop/apps/python/3.10.4/lib/site-packages/sqlalchemy/orm/context.py?line=2495'>2496</a>\u001b[0m entity\u001b[39m.\u001b[39;49m_post_inspect\n\u001b[0;32m   <a href='file:///c%3A/ProgramData/scoop/apps/python/3.10.4/lib/site-packages/sqlalchemy/orm/context.py?line=2496'>2497</a>\u001b[0m ext_info \u001b[39m=\u001b[39m \u001b[39mself\u001b[39m\u001b[39m.\u001b[39mentity_zero \u001b[39m=\u001b[39m entity\n\u001b[0;32m   <a href='file:///c%3A/ProgramData/scoop/apps/python/3.10.4/lib/site-packages/sqlalchemy/orm/context.py?line=2497'>2498</a>\u001b[0m entity \u001b[39m=\u001b[39m ext_info\u001b[39m.\u001b[39mentity\n",
      "File \u001b[1;32mC:\\ProgramData\\scoop\\apps\\python\\3.10.4\\lib\\site-packages\\sqlalchemy\\util\\langhelpers.py:1180\u001b[0m, in \u001b[0;36mHasMemoized.memoized_attribute.__get__\u001b[1;34m(self, obj, cls)\u001b[0m\n\u001b[0;32m   <a href='file:///c%3A/ProgramData/scoop/apps/python/3.10.4/lib/site-packages/sqlalchemy/util/langhelpers.py?line=1177'>1178</a>\u001b[0m \u001b[39mif\u001b[39;00m obj \u001b[39mis\u001b[39;00m \u001b[39mNone\u001b[39;00m:\n\u001b[0;32m   <a href='file:///c%3A/ProgramData/scoop/apps/python/3.10.4/lib/site-packages/sqlalchemy/util/langhelpers.py?line=1178'>1179</a>\u001b[0m     \u001b[39mreturn\u001b[39;00m \u001b[39mself\u001b[39m\n\u001b[1;32m-> <a href='file:///c%3A/ProgramData/scoop/apps/python/3.10.4/lib/site-packages/sqlalchemy/util/langhelpers.py?line=1179'>1180</a>\u001b[0m obj\u001b[39m.\u001b[39m\u001b[39m__dict__\u001b[39m[\u001b[39mself\u001b[39m\u001b[39m.\u001b[39m\u001b[39m__name__\u001b[39m] \u001b[39m=\u001b[39m result \u001b[39m=\u001b[39m \u001b[39mself\u001b[39;49m\u001b[39m.\u001b[39;49mfget(obj)\n\u001b[0;32m   <a href='file:///c%3A/ProgramData/scoop/apps/python/3.10.4/lib/site-packages/sqlalchemy/util/langhelpers.py?line=1180'>1181</a>\u001b[0m obj\u001b[39m.\u001b[39m_memoized_keys \u001b[39m|\u001b[39m\u001b[39m=\u001b[39m {\u001b[39mself\u001b[39m\u001b[39m.\u001b[39m\u001b[39m__name__\u001b[39m}\n\u001b[0;32m   <a href='file:///c%3A/ProgramData/scoop/apps/python/3.10.4/lib/site-packages/sqlalchemy/util/langhelpers.py?line=1181'>1182</a>\u001b[0m \u001b[39mreturn\u001b[39;00m result\n",
      "File \u001b[1;32mC:\\ProgramData\\scoop\\apps\\python\\3.10.4\\lib\\site-packages\\sqlalchemy\\orm\\mapper.py:2123\u001b[0m, in \u001b[0;36mMapper._post_inspect\u001b[1;34m(self)\u001b[0m\n\u001b[0;32m   <a href='file:///c%3A/ProgramData/scoop/apps/python/3.10.4/lib/site-packages/sqlalchemy/orm/mapper.py?line=2111'>2112</a>\u001b[0m \u001b[39m@HasMemoized\u001b[39m\u001b[39m.\u001b[39mmemoized_attribute\n\u001b[0;32m   <a href='file:///c%3A/ProgramData/scoop/apps/python/3.10.4/lib/site-packages/sqlalchemy/orm/mapper.py?line=2112'>2113</a>\u001b[0m \u001b[39mdef\u001b[39;00m \u001b[39m_post_inspect\u001b[39m(\u001b[39mself\u001b[39m):\n\u001b[0;32m   <a href='file:///c%3A/ProgramData/scoop/apps/python/3.10.4/lib/site-packages/sqlalchemy/orm/mapper.py?line=2113'>2114</a>\u001b[0m     \u001b[39m\"\"\"This hook is invoked by attribute inspection.\u001b[39;00m\n\u001b[0;32m   <a href='file:///c%3A/ProgramData/scoop/apps/python/3.10.4/lib/site-packages/sqlalchemy/orm/mapper.py?line=2114'>2115</a>\u001b[0m \n\u001b[0;32m   <a href='file:///c%3A/ProgramData/scoop/apps/python/3.10.4/lib/site-packages/sqlalchemy/orm/mapper.py?line=2115'>2116</a>\u001b[0m \u001b[39m    E.g. when Query calls:\u001b[39;00m\n\u001b[1;32m   (...)\u001b[0m\n\u001b[0;32m   <a href='file:///c%3A/ProgramData/scoop/apps/python/3.10.4/lib/site-packages/sqlalchemy/orm/mapper.py?line=2120'>2121</a>\u001b[0m \n\u001b[0;32m   <a href='file:///c%3A/ProgramData/scoop/apps/python/3.10.4/lib/site-packages/sqlalchemy/orm/mapper.py?line=2121'>2122</a>\u001b[0m \u001b[39m    \"\"\"\u001b[39;00m\n\u001b[1;32m-> <a href='file:///c%3A/ProgramData/scoop/apps/python/3.10.4/lib/site-packages/sqlalchemy/orm/mapper.py?line=2122'>2123</a>\u001b[0m     \u001b[39mself\u001b[39;49m\u001b[39m.\u001b[39;49m_check_configure()\n",
      "File \u001b[1;32mC:\\ProgramData\\scoop\\apps\\python\\3.10.4\\lib\\site-packages\\sqlalchemy\\orm\\mapper.py:1900\u001b[0m, in \u001b[0;36mMapper._check_configure\u001b[1;34m(self)\u001b[0m\n\u001b[0;32m   <a href='file:///c%3A/ProgramData/scoop/apps/python/3.10.4/lib/site-packages/sqlalchemy/orm/mapper.py?line=1897'>1898</a>\u001b[0m \u001b[39mdef\u001b[39;00m \u001b[39m_check_configure\u001b[39m(\u001b[39mself\u001b[39m):\n\u001b[0;32m   <a href='file:///c%3A/ProgramData/scoop/apps/python/3.10.4/lib/site-packages/sqlalchemy/orm/mapper.py?line=1898'>1899</a>\u001b[0m     \u001b[39mif\u001b[39;00m \u001b[39mself\u001b[39m\u001b[39m.\u001b[39mregistry\u001b[39m.\u001b[39m_new_mappers:\n\u001b[1;32m-> <a href='file:///c%3A/ProgramData/scoop/apps/python/3.10.4/lib/site-packages/sqlalchemy/orm/mapper.py?line=1899'>1900</a>\u001b[0m         _configure_registries({\u001b[39mself\u001b[39;49m\u001b[39m.\u001b[39;49mregistry}, cascade\u001b[39m=\u001b[39;49m\u001b[39mTrue\u001b[39;49;00m)\n",
      "File \u001b[1;32mC:\\ProgramData\\scoop\\apps\\python\\3.10.4\\lib\\site-packages\\sqlalchemy\\orm\\mapper.py:3418\u001b[0m, in \u001b[0;36m_configure_registries\u001b[1;34m(registries, cascade)\u001b[0m\n\u001b[0;32m   <a href='file:///c%3A/ProgramData/scoop/apps/python/3.10.4/lib/site-packages/sqlalchemy/orm/mapper.py?line=3411'>3412</a>\u001b[0m     Mapper\u001b[39m.\u001b[39mdispatch\u001b[39m.\u001b[39m_for_class(Mapper)\u001b[39m.\u001b[39mbefore_configured()\n\u001b[0;32m   <a href='file:///c%3A/ProgramData/scoop/apps/python/3.10.4/lib/site-packages/sqlalchemy/orm/mapper.py?line=3412'>3413</a>\u001b[0m     \u001b[39m# initialize properties on all mappers\u001b[39;00m\n\u001b[0;32m   <a href='file:///c%3A/ProgramData/scoop/apps/python/3.10.4/lib/site-packages/sqlalchemy/orm/mapper.py?line=3413'>3414</a>\u001b[0m     \u001b[39m# note that _mapper_registry is unordered, which\u001b[39;00m\n\u001b[0;32m   <a href='file:///c%3A/ProgramData/scoop/apps/python/3.10.4/lib/site-packages/sqlalchemy/orm/mapper.py?line=3414'>3415</a>\u001b[0m     \u001b[39m# may randomly conceal/reveal issues related to\u001b[39;00m\n\u001b[0;32m   <a href='file:///c%3A/ProgramData/scoop/apps/python/3.10.4/lib/site-packages/sqlalchemy/orm/mapper.py?line=3415'>3416</a>\u001b[0m     \u001b[39m# the order of mapper compilation\u001b[39;00m\n\u001b[1;32m-> <a href='file:///c%3A/ProgramData/scoop/apps/python/3.10.4/lib/site-packages/sqlalchemy/orm/mapper.py?line=3417'>3418</a>\u001b[0m     _do_configure_registries(registries, cascade)\n\u001b[0;32m   <a href='file:///c%3A/ProgramData/scoop/apps/python/3.10.4/lib/site-packages/sqlalchemy/orm/mapper.py?line=3418'>3419</a>\u001b[0m \u001b[39mfinally\u001b[39;00m:\n\u001b[0;32m   <a href='file:///c%3A/ProgramData/scoop/apps/python/3.10.4/lib/site-packages/sqlalchemy/orm/mapper.py?line=3419'>3420</a>\u001b[0m     _already_compiling \u001b[39m=\u001b[39m \u001b[39mFalse\u001b[39;00m\n",
      "File \u001b[1;32mC:\\ProgramData\\scoop\\apps\\python\\3.10.4\\lib\\site-packages\\sqlalchemy\\orm\\mapper.py:3457\u001b[0m, in \u001b[0;36m_do_configure_registries\u001b[1;34m(registries, cascade)\u001b[0m\n\u001b[0;32m   <a href='file:///c%3A/ProgramData/scoop/apps/python/3.10.4/lib/site-packages/sqlalchemy/orm/mapper.py?line=3454'>3455</a>\u001b[0m \u001b[39mif\u001b[39;00m \u001b[39mnot\u001b[39;00m mapper\u001b[39m.\u001b[39mconfigured:\n\u001b[0;32m   <a href='file:///c%3A/ProgramData/scoop/apps/python/3.10.4/lib/site-packages/sqlalchemy/orm/mapper.py?line=3455'>3456</a>\u001b[0m     \u001b[39mtry\u001b[39;00m:\n\u001b[1;32m-> <a href='file:///c%3A/ProgramData/scoop/apps/python/3.10.4/lib/site-packages/sqlalchemy/orm/mapper.py?line=3456'>3457</a>\u001b[0m         mapper\u001b[39m.\u001b[39;49m_post_configure_properties()\n\u001b[0;32m   <a href='file:///c%3A/ProgramData/scoop/apps/python/3.10.4/lib/site-packages/sqlalchemy/orm/mapper.py?line=3457'>3458</a>\u001b[0m         mapper\u001b[39m.\u001b[39m_expire_memoizations()\n\u001b[0;32m   <a href='file:///c%3A/ProgramData/scoop/apps/python/3.10.4/lib/site-packages/sqlalchemy/orm/mapper.py?line=3458'>3459</a>\u001b[0m         mapper\u001b[39m.\u001b[39mdispatch\u001b[39m.\u001b[39mmapper_configured(mapper, mapper\u001b[39m.\u001b[39mclass_)\n",
      "File \u001b[1;32mC:\\ProgramData\\scoop\\apps\\python\\3.10.4\\lib\\site-packages\\sqlalchemy\\orm\\mapper.py:1917\u001b[0m, in \u001b[0;36mMapper._post_configure_properties\u001b[1;34m(self)\u001b[0m\n\u001b[0;32m   <a href='file:///c%3A/ProgramData/scoop/apps/python/3.10.4/lib/site-packages/sqlalchemy/orm/mapper.py?line=1913'>1914</a>\u001b[0m \u001b[39mself\u001b[39m\u001b[39m.\u001b[39m_log(\u001b[39m\"\u001b[39m\u001b[39minitialize prop \u001b[39m\u001b[39m%s\u001b[39;00m\u001b[39m\"\u001b[39m, key)\n\u001b[0;32m   <a href='file:///c%3A/ProgramData/scoop/apps/python/3.10.4/lib/site-packages/sqlalchemy/orm/mapper.py?line=1915'>1916</a>\u001b[0m \u001b[39mif\u001b[39;00m prop\u001b[39m.\u001b[39mparent \u001b[39mis\u001b[39;00m \u001b[39mself\u001b[39m \u001b[39mand\u001b[39;00m \u001b[39mnot\u001b[39;00m prop\u001b[39m.\u001b[39m_configure_started:\n\u001b[1;32m-> <a href='file:///c%3A/ProgramData/scoop/apps/python/3.10.4/lib/site-packages/sqlalchemy/orm/mapper.py?line=1916'>1917</a>\u001b[0m     prop\u001b[39m.\u001b[39;49minit()\n\u001b[0;32m   <a href='file:///c%3A/ProgramData/scoop/apps/python/3.10.4/lib/site-packages/sqlalchemy/orm/mapper.py?line=1918'>1919</a>\u001b[0m \u001b[39mif\u001b[39;00m prop\u001b[39m.\u001b[39m_configure_finished:\n\u001b[0;32m   <a href='file:///c%3A/ProgramData/scoop/apps/python/3.10.4/lib/site-packages/sqlalchemy/orm/mapper.py?line=1919'>1920</a>\u001b[0m     prop\u001b[39m.\u001b[39mpost_instrument_class(\u001b[39mself\u001b[39m)\n",
      "File \u001b[1;32mC:\\ProgramData\\scoop\\apps\\python\\3.10.4\\lib\\site-packages\\sqlalchemy\\orm\\interfaces.py:231\u001b[0m, in \u001b[0;36mMapperProperty.init\u001b[1;34m(self)\u001b[0m\n\u001b[0;32m    <a href='file:///c%3A/ProgramData/scoop/apps/python/3.10.4/lib/site-packages/sqlalchemy/orm/interfaces.py?line=223'>224</a>\u001b[0m \u001b[39m\"\"\"Called after all mappers are created to assemble\u001b[39;00m\n\u001b[0;32m    <a href='file:///c%3A/ProgramData/scoop/apps/python/3.10.4/lib/site-packages/sqlalchemy/orm/interfaces.py?line=224'>225</a>\u001b[0m \u001b[39mrelationships between mappers and perform other post-mapper-creation\u001b[39;00m\n\u001b[0;32m    <a href='file:///c%3A/ProgramData/scoop/apps/python/3.10.4/lib/site-packages/sqlalchemy/orm/interfaces.py?line=225'>226</a>\u001b[0m \u001b[39minitialization steps.\u001b[39;00m\n\u001b[0;32m    <a href='file:///c%3A/ProgramData/scoop/apps/python/3.10.4/lib/site-packages/sqlalchemy/orm/interfaces.py?line=226'>227</a>\u001b[0m \n\u001b[0;32m    <a href='file:///c%3A/ProgramData/scoop/apps/python/3.10.4/lib/site-packages/sqlalchemy/orm/interfaces.py?line=227'>228</a>\u001b[0m \n\u001b[0;32m    <a href='file:///c%3A/ProgramData/scoop/apps/python/3.10.4/lib/site-packages/sqlalchemy/orm/interfaces.py?line=228'>229</a>\u001b[0m \u001b[39m\"\"\"\u001b[39;00m\n\u001b[0;32m    <a href='file:///c%3A/ProgramData/scoop/apps/python/3.10.4/lib/site-packages/sqlalchemy/orm/interfaces.py?line=229'>230</a>\u001b[0m \u001b[39mself\u001b[39m\u001b[39m.\u001b[39m_configure_started \u001b[39m=\u001b[39m \u001b[39mTrue\u001b[39;00m\n\u001b[1;32m--> <a href='file:///c%3A/ProgramData/scoop/apps/python/3.10.4/lib/site-packages/sqlalchemy/orm/interfaces.py?line=230'>231</a>\u001b[0m \u001b[39mself\u001b[39;49m\u001b[39m.\u001b[39;49mdo_init()\n\u001b[0;32m    <a href='file:///c%3A/ProgramData/scoop/apps/python/3.10.4/lib/site-packages/sqlalchemy/orm/interfaces.py?line=231'>232</a>\u001b[0m \u001b[39mself\u001b[39m\u001b[39m.\u001b[39m_configure_finished \u001b[39m=\u001b[39m \u001b[39mTrue\u001b[39;00m\n",
      "File \u001b[1;32mC:\\ProgramData\\scoop\\apps\\python\\3.10.4\\lib\\site-packages\\sqlalchemy\\orm\\relationships.py:2150\u001b[0m, in \u001b[0;36mRelationshipProperty.do_init\u001b[1;34m(self)\u001b[0m\n\u001b[0;32m   <a href='file:///c%3A/ProgramData/scoop/apps/python/3.10.4/lib/site-packages/sqlalchemy/orm/relationships.py?line=2147'>2148</a>\u001b[0m \u001b[39mdef\u001b[39;00m \u001b[39mdo_init\u001b[39m(\u001b[39mself\u001b[39m):\n\u001b[0;32m   <a href='file:///c%3A/ProgramData/scoop/apps/python/3.10.4/lib/site-packages/sqlalchemy/orm/relationships.py?line=2148'>2149</a>\u001b[0m     \u001b[39mself\u001b[39m\u001b[39m.\u001b[39m_check_conflicts()\n\u001b[1;32m-> <a href='file:///c%3A/ProgramData/scoop/apps/python/3.10.4/lib/site-packages/sqlalchemy/orm/relationships.py?line=2149'>2150</a>\u001b[0m     \u001b[39mself\u001b[39;49m\u001b[39m.\u001b[39;49m_process_dependent_arguments()\n\u001b[0;32m   <a href='file:///c%3A/ProgramData/scoop/apps/python/3.10.4/lib/site-packages/sqlalchemy/orm/relationships.py?line=2150'>2151</a>\u001b[0m     \u001b[39mself\u001b[39m\u001b[39m.\u001b[39m_setup_registry_dependencies()\n\u001b[0;32m   <a href='file:///c%3A/ProgramData/scoop/apps/python/3.10.4/lib/site-packages/sqlalchemy/orm/relationships.py?line=2151'>2152</a>\u001b[0m     \u001b[39mself\u001b[39m\u001b[39m.\u001b[39m_setup_join_conditions()\n",
      "File \u001b[1;32mC:\\ProgramData\\scoop\\apps\\python\\3.10.4\\lib\\site-packages\\sqlalchemy\\orm\\relationships.py:2245\u001b[0m, in \u001b[0;36mRelationshipProperty._process_dependent_arguments\u001b[1;34m(self)\u001b[0m\n\u001b[0;32m   <a href='file:///c%3A/ProgramData/scoop/apps/python/3.10.4/lib/site-packages/sqlalchemy/orm/relationships.py?line=2230'>2231</a>\u001b[0m \u001b[39mself\u001b[39m\u001b[39m.\u001b[39m_user_defined_foreign_keys \u001b[39m=\u001b[39m util\u001b[39m.\u001b[39mcolumn_set(\n\u001b[0;32m   <a href='file:///c%3A/ProgramData/scoop/apps/python/3.10.4/lib/site-packages/sqlalchemy/orm/relationships.py?line=2231'>2232</a>\u001b[0m     coercions\u001b[39m.\u001b[39mexpect(\n\u001b[0;32m   <a href='file:///c%3A/ProgramData/scoop/apps/python/3.10.4/lib/site-packages/sqlalchemy/orm/relationships.py?line=2232'>2233</a>\u001b[0m         roles\u001b[39m.\u001b[39mColumnArgumentRole, x, argname\u001b[39m=\u001b[39m\u001b[39m\"\u001b[39m\u001b[39mforeign_keys\u001b[39m\u001b[39m\"\u001b[39m\n\u001b[0;32m   <a href='file:///c%3A/ProgramData/scoop/apps/python/3.10.4/lib/site-packages/sqlalchemy/orm/relationships.py?line=2233'>2234</a>\u001b[0m     )\n\u001b[0;32m   <a href='file:///c%3A/ProgramData/scoop/apps/python/3.10.4/lib/site-packages/sqlalchemy/orm/relationships.py?line=2234'>2235</a>\u001b[0m     \u001b[39mfor\u001b[39;00m x \u001b[39min\u001b[39;00m util\u001b[39m.\u001b[39mto_column_set(\u001b[39mself\u001b[39m\u001b[39m.\u001b[39m_user_defined_foreign_keys)\n\u001b[0;32m   <a href='file:///c%3A/ProgramData/scoop/apps/python/3.10.4/lib/site-packages/sqlalchemy/orm/relationships.py?line=2235'>2236</a>\u001b[0m )\n\u001b[0;32m   <a href='file:///c%3A/ProgramData/scoop/apps/python/3.10.4/lib/site-packages/sqlalchemy/orm/relationships.py?line=2237'>2238</a>\u001b[0m \u001b[39mself\u001b[39m\u001b[39m.\u001b[39mremote_side \u001b[39m=\u001b[39m util\u001b[39m.\u001b[39mcolumn_set(\n\u001b[0;32m   <a href='file:///c%3A/ProgramData/scoop/apps/python/3.10.4/lib/site-packages/sqlalchemy/orm/relationships.py?line=2238'>2239</a>\u001b[0m     coercions\u001b[39m.\u001b[39mexpect(\n\u001b[0;32m   <a href='file:///c%3A/ProgramData/scoop/apps/python/3.10.4/lib/site-packages/sqlalchemy/orm/relationships.py?line=2239'>2240</a>\u001b[0m         roles\u001b[39m.\u001b[39mColumnArgumentRole, x, argname\u001b[39m=\u001b[39m\u001b[39m\"\u001b[39m\u001b[39mremote_side\u001b[39m\u001b[39m\"\u001b[39m\n\u001b[0;32m   <a href='file:///c%3A/ProgramData/scoop/apps/python/3.10.4/lib/site-packages/sqlalchemy/orm/relationships.py?line=2240'>2241</a>\u001b[0m     )\n\u001b[0;32m   <a href='file:///c%3A/ProgramData/scoop/apps/python/3.10.4/lib/site-packages/sqlalchemy/orm/relationships.py?line=2241'>2242</a>\u001b[0m     \u001b[39mfor\u001b[39;00m x \u001b[39min\u001b[39;00m util\u001b[39m.\u001b[39mto_column_set(\u001b[39mself\u001b[39m\u001b[39m.\u001b[39mremote_side)\n\u001b[0;32m   <a href='file:///c%3A/ProgramData/scoop/apps/python/3.10.4/lib/site-packages/sqlalchemy/orm/relationships.py?line=2242'>2243</a>\u001b[0m )\n\u001b[1;32m-> <a href='file:///c%3A/ProgramData/scoop/apps/python/3.10.4/lib/site-packages/sqlalchemy/orm/relationships.py?line=2244'>2245</a>\u001b[0m \u001b[39mself\u001b[39m\u001b[39m.\u001b[39mtarget \u001b[39m=\u001b[39m \u001b[39mself\u001b[39;49m\u001b[39m.\u001b[39;49mentity\u001b[39m.\u001b[39mpersist_selectable\n",
      "File \u001b[1;32mC:\\ProgramData\\scoop\\apps\\python\\3.10.4\\lib\\site-packages\\sqlalchemy\\util\\langhelpers.py:1113\u001b[0m, in \u001b[0;36mmemoized_property.__get__\u001b[1;34m(self, obj, cls)\u001b[0m\n\u001b[0;32m   <a href='file:///c%3A/ProgramData/scoop/apps/python/3.10.4/lib/site-packages/sqlalchemy/util/langhelpers.py?line=1110'>1111</a>\u001b[0m \u001b[39mif\u001b[39;00m obj \u001b[39mis\u001b[39;00m \u001b[39mNone\u001b[39;00m:\n\u001b[0;32m   <a href='file:///c%3A/ProgramData/scoop/apps/python/3.10.4/lib/site-packages/sqlalchemy/util/langhelpers.py?line=1111'>1112</a>\u001b[0m     \u001b[39mreturn\u001b[39;00m \u001b[39mself\u001b[39m\n\u001b[1;32m-> <a href='file:///c%3A/ProgramData/scoop/apps/python/3.10.4/lib/site-packages/sqlalchemy/util/langhelpers.py?line=1112'>1113</a>\u001b[0m obj\u001b[39m.\u001b[39m\u001b[39m__dict__\u001b[39m[\u001b[39mself\u001b[39m\u001b[39m.\u001b[39m\u001b[39m__name__\u001b[39m] \u001b[39m=\u001b[39m result \u001b[39m=\u001b[39m \u001b[39mself\u001b[39;49m\u001b[39m.\u001b[39;49mfget(obj)\n\u001b[0;32m   <a href='file:///c%3A/ProgramData/scoop/apps/python/3.10.4/lib/site-packages/sqlalchemy/util/langhelpers.py?line=1113'>1114</a>\u001b[0m \u001b[39mreturn\u001b[39;00m result\n",
      "File \u001b[1;32mC:\\ProgramData\\scoop\\apps\\python\\3.10.4\\lib\\site-packages\\sqlalchemy\\orm\\relationships.py:2112\u001b[0m, in \u001b[0;36mRelationshipProperty.entity\u001b[1;34m(self)\u001b[0m\n\u001b[0;32m   <a href='file:///c%3A/ProgramData/scoop/apps/python/3.10.4/lib/site-packages/sqlalchemy/orm/relationships.py?line=2108'>2109</a>\u001b[0m mapperlib \u001b[39m=\u001b[39m util\u001b[39m.\u001b[39mpreloaded\u001b[39m.\u001b[39morm_mapper\n\u001b[0;32m   <a href='file:///c%3A/ProgramData/scoop/apps/python/3.10.4/lib/site-packages/sqlalchemy/orm/relationships.py?line=2110'>2111</a>\u001b[0m \u001b[39mif\u001b[39;00m \u001b[39misinstance\u001b[39m(\u001b[39mself\u001b[39m\u001b[39m.\u001b[39margument, util\u001b[39m.\u001b[39mstring_types):\n\u001b[1;32m-> <a href='file:///c%3A/ProgramData/scoop/apps/python/3.10.4/lib/site-packages/sqlalchemy/orm/relationships.py?line=2111'>2112</a>\u001b[0m     argument \u001b[39m=\u001b[39m \u001b[39mself\u001b[39;49m\u001b[39m.\u001b[39;49m_clsregistry_resolve_name(\u001b[39mself\u001b[39;49m\u001b[39m.\u001b[39;49margument)()\n\u001b[0;32m   <a href='file:///c%3A/ProgramData/scoop/apps/python/3.10.4/lib/site-packages/sqlalchemy/orm/relationships.py?line=2113'>2114</a>\u001b[0m \u001b[39melif\u001b[39;00m callable(\u001b[39mself\u001b[39m\u001b[39m.\u001b[39margument) \u001b[39mand\u001b[39;00m \u001b[39mnot\u001b[39;00m \u001b[39misinstance\u001b[39m(\n\u001b[0;32m   <a href='file:///c%3A/ProgramData/scoop/apps/python/3.10.4/lib/site-packages/sqlalchemy/orm/relationships.py?line=2114'>2115</a>\u001b[0m     \u001b[39mself\u001b[39m\u001b[39m.\u001b[39margument, (\u001b[39mtype\u001b[39m, mapperlib\u001b[39m.\u001b[39mMapper)\n\u001b[0;32m   <a href='file:///c%3A/ProgramData/scoop/apps/python/3.10.4/lib/site-packages/sqlalchemy/orm/relationships.py?line=2115'>2116</a>\u001b[0m ):\n\u001b[0;32m   <a href='file:///c%3A/ProgramData/scoop/apps/python/3.10.4/lib/site-packages/sqlalchemy/orm/relationships.py?line=2116'>2117</a>\u001b[0m     argument \u001b[39m=\u001b[39m \u001b[39mself\u001b[39m\u001b[39m.\u001b[39margument()\n",
      "File \u001b[1;32mC:\\ProgramData\\scoop\\apps\\python\\3.10.4\\lib\\site-packages\\sqlalchemy\\orm\\clsregistry.py:393\u001b[0m, in \u001b[0;36m_class_resolver._resolve_name\u001b[1;34m(self)\u001b[0m\n\u001b[0;32m    <a href='file:///c%3A/ProgramData/scoop/apps/python/3.10.4/lib/site-packages/sqlalchemy/orm/clsregistry.py?line=390'>391</a>\u001b[0m \u001b[39mfor\u001b[39;00m token \u001b[39min\u001b[39;00m name\u001b[39m.\u001b[39msplit(\u001b[39m\"\u001b[39m\u001b[39m.\u001b[39m\u001b[39m\"\u001b[39m):\n\u001b[0;32m    <a href='file:///c%3A/ProgramData/scoop/apps/python/3.10.4/lib/site-packages/sqlalchemy/orm/clsregistry.py?line=391'>392</a>\u001b[0m     \u001b[39mif\u001b[39;00m rval \u001b[39mis\u001b[39;00m \u001b[39mNone\u001b[39;00m:\n\u001b[1;32m--> <a href='file:///c%3A/ProgramData/scoop/apps/python/3.10.4/lib/site-packages/sqlalchemy/orm/clsregistry.py?line=392'>393</a>\u001b[0m         rval \u001b[39m=\u001b[39m d[token]\n\u001b[0;32m    <a href='file:///c%3A/ProgramData/scoop/apps/python/3.10.4/lib/site-packages/sqlalchemy/orm/clsregistry.py?line=393'>394</a>\u001b[0m     \u001b[39melse\u001b[39;00m:\n\u001b[0;32m    <a href='file:///c%3A/ProgramData/scoop/apps/python/3.10.4/lib/site-packages/sqlalchemy/orm/clsregistry.py?line=394'>395</a>\u001b[0m         rval \u001b[39m=\u001b[39m \u001b[39mgetattr\u001b[39m(rval, token)\n",
      "File \u001b[1;32mC:\\ProgramData\\scoop\\apps\\python\\3.10.4\\lib\\site-packages\\sqlalchemy\\util\\_collections.py:746\u001b[0m, in \u001b[0;36mPopulateDict.__missing__\u001b[1;34m(self, key)\u001b[0m\n\u001b[0;32m    <a href='file:///c%3A/ProgramData/scoop/apps/python/3.10.4/lib/site-packages/sqlalchemy/util/_collections.py?line=744'>745</a>\u001b[0m \u001b[39mdef\u001b[39;00m \u001b[39m__missing__\u001b[39m(\u001b[39mself\u001b[39m, key):\n\u001b[1;32m--> <a href='file:///c%3A/ProgramData/scoop/apps/python/3.10.4/lib/site-packages/sqlalchemy/util/_collections.py?line=745'>746</a>\u001b[0m     \u001b[39mself\u001b[39m[key] \u001b[39m=\u001b[39m val \u001b[39m=\u001b[39m \u001b[39mself\u001b[39;49m\u001b[39m.\u001b[39;49mcreator(key)\n\u001b[0;32m    <a href='file:///c%3A/ProgramData/scoop/apps/python/3.10.4/lib/site-packages/sqlalchemy/util/_collections.py?line=746'>747</a>\u001b[0m     \u001b[39mreturn\u001b[39;00m val\n",
      "File \u001b[1;32mC:\\ProgramData\\scoop\\apps\\python\\3.10.4\\lib\\site-packages\\sqlalchemy\\orm\\clsregistry.py:352\u001b[0m, in \u001b[0;36m_class_resolver._access_cls\u001b[1;34m(self, key)\u001b[0m\n\u001b[0;32m    <a href='file:///c%3A/ProgramData/scoop/apps/python/3.10.4/lib/site-packages/sqlalchemy/orm/clsregistry.py?line=348'>349</a>\u001b[0m         \u001b[39mreturn\u001b[39;00m _GetTable(key, \u001b[39mcls\u001b[39m\u001b[39m.\u001b[39mmetadata)\n\u001b[0;32m    <a href='file:///c%3A/ProgramData/scoop/apps/python/3.10.4/lib/site-packages/sqlalchemy/orm/clsregistry.py?line=350'>351</a>\u001b[0m \u001b[39mif\u001b[39;00m key \u001b[39min\u001b[39;00m decl_class_registry:\n\u001b[1;32m--> <a href='file:///c%3A/ProgramData/scoop/apps/python/3.10.4/lib/site-packages/sqlalchemy/orm/clsregistry.py?line=351'>352</a>\u001b[0m     \u001b[39mreturn\u001b[39;00m _determine_container(key, decl_class_registry[key])\n\u001b[0;32m    <a href='file:///c%3A/ProgramData/scoop/apps/python/3.10.4/lib/site-packages/sqlalchemy/orm/clsregistry.py?line=353'>354</a>\u001b[0m \u001b[39mif\u001b[39;00m \u001b[39mnot\u001b[39;00m \u001b[39mself\u001b[39m\u001b[39m.\u001b[39mfavor_tables:\n\u001b[0;32m    <a href='file:///c%3A/ProgramData/scoop/apps/python/3.10.4/lib/site-packages/sqlalchemy/orm/clsregistry.py?line=354'>355</a>\u001b[0m     \u001b[39mif\u001b[39;00m key \u001b[39min\u001b[39;00m metadata\u001b[39m.\u001b[39mtables:\n",
      "File \u001b[1;32mC:\\ProgramData\\scoop\\apps\\python\\3.10.4\\lib\\site-packages\\sqlalchemy\\orm\\clsregistry.py:313\u001b[0m, in \u001b[0;36m_determine_container\u001b[1;34m(key, value)\u001b[0m\n\u001b[0;32m    <a href='file:///c%3A/ProgramData/scoop/apps/python/3.10.4/lib/site-packages/sqlalchemy/orm/clsregistry.py?line=310'>311</a>\u001b[0m \u001b[39mdef\u001b[39;00m \u001b[39m_determine_container\u001b[39m(key, value):\n\u001b[0;32m    <a href='file:///c%3A/ProgramData/scoop/apps/python/3.10.4/lib/site-packages/sqlalchemy/orm/clsregistry.py?line=311'>312</a>\u001b[0m     \u001b[39mif\u001b[39;00m \u001b[39misinstance\u001b[39m(value, _MultipleClassMarker):\n\u001b[1;32m--> <a href='file:///c%3A/ProgramData/scoop/apps/python/3.10.4/lib/site-packages/sqlalchemy/orm/clsregistry.py?line=312'>313</a>\u001b[0m         value \u001b[39m=\u001b[39m value\u001b[39m.\u001b[39;49mattempt_get([], key)\n\u001b[0;32m    <a href='file:///c%3A/ProgramData/scoop/apps/python/3.10.4/lib/site-packages/sqlalchemy/orm/clsregistry.py?line=313'>314</a>\u001b[0m     \u001b[39mreturn\u001b[39;00m _GetColumns(value)\n",
      "File \u001b[1;32mC:\\ProgramData\\scoop\\apps\\python\\3.10.4\\lib\\site-packages\\sqlalchemy\\orm\\clsregistry.py:144\u001b[0m, in \u001b[0;36m_MultipleClassMarker.attempt_get\u001b[1;34m(self, path, key)\u001b[0m\n\u001b[0;32m    <a href='file:///c%3A/ProgramData/scoop/apps/python/3.10.4/lib/site-packages/sqlalchemy/orm/clsregistry.py?line=141'>142</a>\u001b[0m \u001b[39mdef\u001b[39;00m \u001b[39mattempt_get\u001b[39m(\u001b[39mself\u001b[39m, path, key):\n\u001b[0;32m    <a href='file:///c%3A/ProgramData/scoop/apps/python/3.10.4/lib/site-packages/sqlalchemy/orm/clsregistry.py?line=142'>143</a>\u001b[0m     \u001b[39mif\u001b[39;00m \u001b[39mlen\u001b[39m(\u001b[39mself\u001b[39m\u001b[39m.\u001b[39mcontents) \u001b[39m>\u001b[39m \u001b[39m1\u001b[39m:\n\u001b[1;32m--> <a href='file:///c%3A/ProgramData/scoop/apps/python/3.10.4/lib/site-packages/sqlalchemy/orm/clsregistry.py?line=143'>144</a>\u001b[0m         \u001b[39mraise\u001b[39;00m exc\u001b[39m.\u001b[39mInvalidRequestError(\n\u001b[0;32m    <a href='file:///c%3A/ProgramData/scoop/apps/python/3.10.4/lib/site-packages/sqlalchemy/orm/clsregistry.py?line=144'>145</a>\u001b[0m             \u001b[39m'\u001b[39m\u001b[39mMultiple classes found for path \u001b[39m\u001b[39m\"\u001b[39m\u001b[39m%s\u001b[39;00m\u001b[39m\"\u001b[39m\u001b[39m \u001b[39m\u001b[39m'\u001b[39m\n\u001b[0;32m    <a href='file:///c%3A/ProgramData/scoop/apps/python/3.10.4/lib/site-packages/sqlalchemy/orm/clsregistry.py?line=145'>146</a>\u001b[0m             \u001b[39m\"\u001b[39m\u001b[39min the registry of this declarative \u001b[39m\u001b[39m\"\u001b[39m\n\u001b[0;32m    <a href='file:///c%3A/ProgramData/scoop/apps/python/3.10.4/lib/site-packages/sqlalchemy/orm/clsregistry.py?line=146'>147</a>\u001b[0m             \u001b[39m\"\u001b[39m\u001b[39mbase. Please use a fully module-qualified path.\u001b[39m\u001b[39m\"\u001b[39m\n\u001b[0;32m    <a href='file:///c%3A/ProgramData/scoop/apps/python/3.10.4/lib/site-packages/sqlalchemy/orm/clsregistry.py?line=147'>148</a>\u001b[0m             \u001b[39m%\u001b[39m (\u001b[39m\"\u001b[39m\u001b[39m.\u001b[39m\u001b[39m\"\u001b[39m\u001b[39m.\u001b[39mjoin(path \u001b[39m+\u001b[39m [key]))\n\u001b[0;32m    <a href='file:///c%3A/ProgramData/scoop/apps/python/3.10.4/lib/site-packages/sqlalchemy/orm/clsregistry.py?line=148'>149</a>\u001b[0m         )\n\u001b[0;32m    <a href='file:///c%3A/ProgramData/scoop/apps/python/3.10.4/lib/site-packages/sqlalchemy/orm/clsregistry.py?line=149'>150</a>\u001b[0m     \u001b[39melse\u001b[39;00m:\n\u001b[0;32m    <a href='file:///c%3A/ProgramData/scoop/apps/python/3.10.4/lib/site-packages/sqlalchemy/orm/clsregistry.py?line=150'>151</a>\u001b[0m         ref \u001b[39m=\u001b[39m \u001b[39mlist\u001b[39m(\u001b[39mself\u001b[39m\u001b[39m.\u001b[39mcontents)[\u001b[39m0\u001b[39m]\n",
      "\u001b[1;31mInvalidRequestError\u001b[0m: Multiple classes found for path \"Address\" in the registry of this declarative base. Please use a fully module-qualified path."
     ]
    }
   ],
   "source": [
    "stmt = select(User).where(User.name == 'spongebob')\n",
    "with Session(engine) as session:\n",
    "    for row in session.execute(stmt):\n",
    "        print(row)"
   ]
  },
  {
   "cell_type": "code",
   "execution_count": 13,
   "metadata": {},
   "outputs": [
    {
     "data": {
      "text/plain": [
       "'1.4.32'"
      ]
     },
     "execution_count": 13,
     "metadata": {},
     "output_type": "execute_result"
    }
   ],
   "source": [
    "import sqlalchemy\n",
    "sqlalchemy.__version__"
   ]
  }
 ],
 "metadata": {
  "interpreter": {
   "hash": "4938d481351b2a84d419e5f1a1d6b819b6a63d8a31c9c52db810fb61e1d79b39"
  },
  "kernelspec": {
   "display_name": "Python 3.10.4 64-bit",
   "language": "python",
   "name": "python3"
  },
  "language_info": {
   "codemirror_mode": {
    "name": "ipython",
    "version": 3
   },
   "file_extension": ".py",
   "mimetype": "text/x-python",
   "name": "python",
   "nbconvert_exporter": "python",
   "pygments_lexer": "ipython3",
   "version": "3.10.4"
  },
  "orig_nbformat": 4
 },
 "nbformat": 4,
 "nbformat_minor": 2
}
